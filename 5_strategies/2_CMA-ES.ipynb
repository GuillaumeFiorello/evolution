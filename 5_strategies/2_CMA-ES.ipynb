{
 "cells": [
  {
   "cell_type": "markdown",
   "metadata": {
    "slideshow": {
     "slide_type": "slide"
    }
   },
   "source": [
    "<img src=\"../imgs/logo.png\" width=\"20%\" align=\"right\" style=\"margin:0px 20px\">\n",
    "\n",
    "\n",
    "# Evolutionary Computation\n",
    "\n",
    "## 5.2 CMA-ES\n",
    "\n",
    "<a rel=\"license\" href=\"http://creativecommons.org/licenses/by-sa/4.0/\"><img alt=\"Creative Commons License\" align=\"left\" src=\"https://i.creativecommons.org/l/by-sa/4.0/80x15.png\" /></a>&nbsp;| Dennis G. Wilson | <a href=\"https://d9w.github.io/evolution/\">https://d9w.github.io/evolution/</a>"
   ]
  },
  {
   "cell_type": "markdown",
   "metadata": {
    "slideshow": {
     "slide_type": "slide"
    }
   },
   "source": [
    "# CMA-ES\n",
    "\n",
    "In this section, we'll discuss the Covariance Matrix Adaptation Evolutionary Strategy, or CMA-ES [1, 2]. This is one of the most well-known evolutionary algorithms in general and is a state-of-the-art algorithm for continuous optimization. The strength of this method is that it adapts the distribution it uses to generate the next population based on the current distribution of individuals. In the previous section, we were limited to a Normal distribution with a fixed $\\sigma$. The adaptive distribution of CMA-ES means it will cross search spaces faster and narrow in more exactly on optimal points.\n",
    "\n",
    "[1] Hansen, Nikolaus, and Andreas Ostermeier. \"Adapting arbitrary normal mutation distributions in evolution strategies: The covariance matrix adaptation.\" Proceedings of IEEE international conference on evolutionary computation. IEEE, 1996.\n",
    "\n",
    "[2] Hansen, Nikolaus, and Andreas Ostermeier. \"Completely derandomized self-adaptation in evolution strategies.\" Evolutionary computation 9.2 (2001): 159-195."
   ]
  },
  {
   "cell_type": "markdown",
   "metadata": {
    "slideshow": {
     "slide_type": "slide"
    }
   },
   "source": [
    "Let's go through a simplified version of the algorithm from [3]. There are improvements to CMA-ES beyond this basic framework, but that's beyond the scope of today. [4] provides a good review of different CMA-ES modifications.\n",
    "\n",
    "[3] Hans-Georg Beyer (2007) Evolution strategies. Scholarpedia, 2(8):1965.\n",
    "\n",
    "[4] Hansen, Nikolaus. \"The CMA evolution strategy: a comparing review.\" Towards a new evolutionary computation. Springer, Berlin, Heidelberg, 2006. 75-102."
   ]
  },
  {
   "cell_type": "markdown",
   "metadata": {
    "slideshow": {
     "slide_type": "slide"
    }
   },
   "source": [
    "We'll start by creating a random individual $\\mathbf{y}$ which will be our first expert. We also create a diagonal covariance matrix $\\mathbf{C}$."
   ]
  },
  {
   "cell_type": "markdown",
   "metadata": {
    "slideshow": {
     "slide_type": "fragment"
    }
   },
   "source": [
    "$\\mbox{(L1):} \\quad \n",
    "  \\forall l=1, \\ldots, \\lambda : \\;\\;\n",
    "  \\begin{cases}\n",
    "   & \\mathbf{w}_l \n",
    "          \\leftarrow \\sigma \\sqrt{ \\mathbf{C} } \\,\n",
    "          \\mathbf{N}_l(\\mathbf{0}, \\mathbf{1}),\\\\[2mm]\n",
    "   & \\mathbf{y}_l \\leftarrow \\mathbf{y}  + \\mathbf{w}_l, \\\\[2mm]\n",
    "   & F_l \\leftarrow F(\\mathbf{y}_l),\n",
    "  \\end{cases}$"
   ]
  },
  {
   "cell_type": "markdown",
   "metadata": {
    "slideshow": {
     "slide_type": "fragment"
    }
   },
   "source": [
    "In the first step, (L1), $\\lambda$ offspring $\\mathbf{y}_l$ are created by transforming standard normally distributed random vectors using a transformation matrix $\\sqrt{\\mathbf{C}}$ which is given by Cholesky decomposition of the covariance matrix $\\mathbf{C}$ and the global step size factor $\\sigma$. We also evaluate every individual, creating $F$."
   ]
  },
  {
   "cell_type": "markdown",
   "metadata": {
    "slideshow": {
     "slide_type": "fragment"
    }
   },
   "source": [
    "$\\mbox{(L2):} \\quad \n",
    "      \\mathbf{y} \\leftarrow \\mathbf{y} + \\langle \\mathbf{w} \\rangle$"
   ]
  },
  {
   "cell_type": "markdown",
   "metadata": {
    "slideshow": {
     "slide_type": "fragment"
    }
   },
   "source": [
    "In (L2) the best $\\mu$ mutations are recombined forming the recombinant $\\mathbf{y}$ (center of mass individual) for the next generation. "
   ]
  },
  {
   "cell_type": "markdown",
   "metadata": {
    "slideshow": {
     "slide_type": "slide"
    }
   },
   "source": [
    "$\\mbox{(L3):} \\quad \n",
    "            \\mathbf{s} \\leftarrow \\left(1-\\frac{1}{\\tau}\\right)\\mathbf{s}\n",
    "          + \\sqrt{\\frac{\\mu}{\\tau} \\left(2-\\frac{1}{\\tau}\\right)} \\,\n",
    "            \\frac{\\langle \\mathbf{w} \\rangle}{\\sigma}$"
   ]
  },
  {
   "cell_type": "markdown",
   "metadata": {
    "slideshow": {
     "slide_type": "fragment"
    }
   },
   "source": [
    "Vector $\\langle \\mathbf{w} \\rangle$ combines individuals from two consecutive generations so $\\langle \\mathbf{w} \\rangle/\\sigma$ represents the tendency of evolution in the search space. In (L3), this information is cumulated in the $\\mathbf{s}$ vector, which exponentially decays with the time constant $\\tau$. A good default for this is $\\tau=\\sqrt{n}$."
   ]
  },
  {
   "cell_type": "markdown",
   "metadata": {
    "slideshow": {
     "slide_type": "fragment"
    }
   },
   "source": [
    "$\\mbox{(L4):} \\quad \n",
    "      \\mathbf{C} \\leftarrow \n",
    "      \\left(1-\\frac{1}{\\tau_{\\mathrm{c}}}\\right)\\mathbf{C}\n",
    "              + \\frac{1}{\\tau_{\\mathrm{c}}} \\mathbf{s} \\mathbf{s}^T$"
   ]
  },
  {
   "cell_type": "markdown",
   "metadata": {
    "slideshow": {
     "slide_type": "fragment"
    }
   },
   "source": [
    "In (L4), the direction vector $\\mathbf{s}$ is used to update the covariance matrix $\\mathbf{C}$ with time constant $\\tau_{\\mathrm{c}} \\propto n^2$"
   ]
  },
  {
   "cell_type": "markdown",
   "metadata": {
    "slideshow": {
     "slide_type": "slide"
    }
   },
   "source": [
    "$\\mbox{(L5):} \\quad  \n",
    "       \\mathbf{s}_\\sigma\n",
    "       \\leftarrow \\left(1-\\frac{1}{\\tau_\\sigma}\\right) \\mathbf{s}_\\sigma\n",
    "                  + \\sqrt{\\frac{\\mu}{\\tau_\\sigma}\n",
    "                    \\left(2-\\frac{1}{\\tau_\\sigma}\\right)} \\,\n",
    "                      \\langle \\mathbf{N}(\\mathbf{0}, \\mathbf{1}) \\rangle$"
   ]
  },
  {
   "cell_type": "markdown",
   "metadata": {
    "slideshow": {
     "slide_type": "slide"
    }
   },
   "source": [
    "$\\mbox{(L6):} \\quad  \n",
    "      \\sigma \\leftarrow \\sigma\\exp\\left[\n",
    "                        \\frac{\\| \\mathbf{s}_{\\sigma} \\|^2 - n}\n",
    "                                   {2 n \\sqrt{n} }\n",
    "                                        \\right]$"
   ]
  },
  {
   "cell_type": "markdown",
   "metadata": {
    "slideshow": {
     "slide_type": "fragment"
    }
   },
   "source": [
    "The distribution standard deviation $\\sigma$ is then calculated in (L5) and (L6) using the cumulated step size adaptation (CSA) technique with time constant $\\tau_\\sigma = \\sqrt{n}$ (initially $\\mathbf{s}_\\sigma = \\mathbf{0}$). $\\langle \\mathbf{N}(\\mathbf{0}, \\mathbf{1}) \\rangle$ is the distribution we calculated in (L1). "
   ]
  },
  {
   "cell_type": "markdown",
   "metadata": {
    "slideshow": {
     "slide_type": "slide"
    }
   },
   "source": [
    "So instead of simply using a Normal distribution to create the next generation, CMA-ES transforms a normal distribution by the covariance matrix $\\mathbf{C}$. It also moves at self-adjusting $\\sigma$. This makes its movement around the search space much more effective, as it is informed by the shape of the search space given through the fitness values $F$."
   ]
  },
  {
   "cell_type": "markdown",
   "metadata": {
    "slideshow": {
     "slide_type": "fragment"
    }
   },
   "source": [
    "Let's see an example of that."
   ]
  },
  {
   "cell_type": "code",
   "execution_count": 2,
   "metadata": {
    "slideshow": {
     "slide_type": "slide"
    }
   },
   "outputs": [
    {
     "name": "stderr",
     "output_type": "stream",
     "text": [
      "┌ Info: Precompiling Plots [91a5bcdd-55d7-5caf-9e0b-520d859cae80]\n",
      "└ @ Base loading.jl:1260\n"
     ]
    }
   ],
   "source": [
    "using Random\n",
    "using LinearAlgebra\n",
    "using Statistics\n",
    "using Plots"
   ]
  },
  {
   "cell_type": "code",
   "execution_count": 3,
   "metadata": {
    "slideshow": {
     "slide_type": "fragment"
    }
   },
   "outputs": [
    {
     "data": {
      "text/plain": [
       "sphere (generic function with 1 method)"
      ]
     },
     "execution_count": 3,
     "metadata": {},
     "output_type": "execute_result"
    }
   ],
   "source": [
    "solution = [3.5, -0.2]\n",
    "sphere(x::Array{Float64}) = sum((x .- solution).^2)\n",
    "himmelblau(x::Array{Float64}) = (x[1]^2 + x[2] - 11)^2 + (x[1] + x[2]^2 - 7)^2\n",
    "styblinski_tang(x::Array{Float64}) = sum(x.^4 .- 16 .* x.^2 .+ 5 .* x) / 2.0\n",
    "rastrigin(x::Array{Float64}) = 10.0 * length(x) .+ sum((x .- solution).^2 .- 10 .* cos.(2*pi.*(x .- solution)))\n",
    "objective = sphere"
   ]
  },
  {
   "cell_type": "markdown",
   "metadata": {
    "slideshow": {
     "slide_type": "slide"
    }
   },
   "source": [
    "As with last time, we'll optimize over 2 continuous variables. We'll set default values of the time constants based on $N$. These are recommended values for CMA-ES [5]\n",
    "\n",
    "[5] Hansen, Nikolaus, Sibylle D. Müller, and Petros Koumoutsakos. \"Reducing the time complexity of the derandomized evolution strategy with covariance matrix adaptation (CMA-ES).\" Evolutionary computation 11.1 (2003): 1-18."
   ]
  },
  {
   "cell_type": "code",
   "execution_count": 4,
   "metadata": {
    "slideshow": {
     "slide_type": "fragment"
    }
   },
   "outputs": [],
   "source": [
    "N = 2\n",
    "μ = 5\n",
    "λ = 10\n",
    "τ = sqrt(N)\n",
    "τ_c = N^2\n",
    "τ_σ = sqrt(N);"
   ]
  },
  {
   "cell_type": "markdown",
   "metadata": {
    "slideshow": {
     "slide_type": "slide"
    }
   },
   "source": [
    "Now let's make our random expert and create placeholder fitness and offspring vectors."
   ]
  },
  {
   "cell_type": "code",
   "execution_count": 5,
   "metadata": {
    "slideshow": {
     "slide_type": "fragment"
    }
   },
   "outputs": [],
   "source": [
    "y = randn(N)\n",
    "offspring = Array{Array{Float64}}(undef, λ)\n",
    "F = Inf .* ones(λ);"
   ]
  },
  {
   "cell_type": "markdown",
   "metadata": {
    "slideshow": {
     "slide_type": "fragment"
    }
   },
   "source": [
    "Finally, we need to initialize $\\mathbf{C}, \\mathbf{N}, \\mathbf{w}, \\mathbf{s}, \\mathbf{s_\\sigma},$ and $\\mathbf{\\sigma}$."
   ]
  },
  {
   "cell_type": "code",
   "execution_count": 6,
   "metadata": {
    "slideshow": {
     "slide_type": "fragment"
    }
   },
   "outputs": [],
   "source": [
    "C = Diagonal{Float64}(I, N)\n",
    "W = zeros(N, λ)\n",
    "s = zeros(N)\n",
    "s_σ = zeros(N)\n",
    "σ = 1.0\n",
    "E = zeros(N, λ);"
   ]
  },
  {
   "cell_type": "markdown",
   "metadata": {
    "slideshow": {
     "slide_type": "slide"
    }
   },
   "source": [
    "Step 1: We calculate the offspring distribution $\\mathbf{w}$ then center it at the center-of-mass individual $\\mathbf{y}$."
   ]
  },
  {
   "cell_type": "markdown",
   "metadata": {
    "slideshow": {
     "slide_type": "fragment"
    }
   },
   "source": [
    "$\\mbox{(L1):} \\quad \n",
    "  \\forall l=1, \\ldots, \\lambda : \\;\\;\n",
    "  \\begin{cases}\n",
    "   & \\mathbf{w}_l \n",
    "          \\leftarrow \\sigma \\sqrt{ \\mathbf{C} } \\,\n",
    "          \\mathbf{N}_l(\\mathbf{0}, \\mathbf{1}),\\\\[2mm]\n",
    "   & \\mathbf{y}_l \\leftarrow \\mathbf{y}  + \\mathbf{w}_l, \\\\[2mm]\n",
    "   & F_l \\leftarrow F(\\mathbf{y}_l),\n",
    "  \\end{cases}$"
   ]
  },
  {
   "cell_type": "code",
   "execution_count": 7,
   "metadata": {
    "slideshow": {
     "slide_type": "fragment"
    }
   },
   "outputs": [
    {
     "data": {
      "text/plain": [
       "2×2 Diagonal{Float64,Array{Float64,1}}:\n",
       " 1.0   ⋅ \n",
       "  ⋅   1.0"
      ]
     },
     "execution_count": 7,
     "metadata": {},
     "output_type": "execute_result"
    }
   ],
   "source": [
    "sqrt_c = cholesky((C + C') / 2.0).U"
   ]
  },
  {
   "cell_type": "markdown",
   "metadata": {
    "slideshow": {
     "slide_type": "fragment"
    }
   },
   "source": [
    "Note that our $\\mathbf{C}$ covariance matrix is currently 1, so this first distribution will just be a normal distribution without any transformation. We will then evaluate every individual."
   ]
  },
  {
   "cell_type": "code",
   "execution_count": 8,
   "metadata": {
    "slideshow": {
     "slide_type": "slide"
    }
   },
   "outputs": [],
   "source": [
    "for i in 1:λ\n",
    "    E[:,i] = randn(N)\n",
    "    W[:,i] = σ * (sqrt_c * E[:,i])\n",
    "    offspring[i] = y + W[:,i]\n",
    "    F[i] = objective(offspring[i])\n",
    "end"
   ]
  },
  {
   "cell_type": "markdown",
   "metadata": {
    "slideshow": {
     "slide_type": "fragment"
    }
   },
   "source": [
    "Now that we have evaluated the individuals, we will select a subset of them to inform the next generation. We'll simply use a truncation selection, taking the top $\\mu$ individuals."
   ]
  },
  {
   "cell_type": "code",
   "execution_count": 9,
   "metadata": {
    "slideshow": {
     "slide_type": "fragment"
    }
   },
   "outputs": [
    {
     "data": {
      "text/plain": [
       "5-element Array{Int64,1}:\n",
       "  8\n",
       " 10\n",
       "  3\n",
       "  6\n",
       "  2"
      ]
     },
     "execution_count": 9,
     "metadata": {},
     "output_type": "execute_result"
    }
   ],
   "source": [
    "idx = sortperm(F)[1:μ]"
   ]
  },
  {
   "cell_type": "markdown",
   "metadata": {
    "slideshow": {
     "slide_type": "slide"
    }
   },
   "source": [
    "Now step 2. We update $\\mathbf{y}$ using the top $\\mu$ individuals in $\\mathbf{w}$"
   ]
  },
  {
   "cell_type": "markdown",
   "metadata": {
    "slideshow": {
     "slide_type": "fragment"
    }
   },
   "source": [
    "$\\mbox{(L2):} \\quad \n",
    "      \\mathbf{y} \\leftarrow \\mathbf{y} + \\langle \\mathbf{w} \\rangle$"
   ]
  },
  {
   "cell_type": "code",
   "execution_count": 10,
   "metadata": {
    "slideshow": {
     "slide_type": "fragment"
    }
   },
   "outputs": [
    {
     "data": {
      "text/plain": [
       "2-element Array{Float64,1}:\n",
       " 1.0648244969173282\n",
       " 0.5908349095580181"
      ]
     },
     "execution_count": 10,
     "metadata": {},
     "output_type": "execute_result"
    }
   ],
   "source": [
    "w = vec(mean(W[:,idx], dims=2))\n",
    "y += w"
   ]
  },
  {
   "cell_type": "markdown",
   "metadata": {
    "slideshow": {
     "slide_type": "slide"
    }
   },
   "source": [
    "In step 3, we update the direction vector $\\mathbf{s}$."
   ]
  },
  {
   "cell_type": "markdown",
   "metadata": {
    "slideshow": {
     "slide_type": "fragment"
    }
   },
   "source": [
    "$\\mbox{(L3):} \\quad \n",
    "            \\mathbf{s} \\leftarrow \\left(1-\\frac{1}{\\tau}\\right)\\mathbf{s}\n",
    "          + \\sqrt{\\frac{\\mu}{\\tau} \\left(2-\\frac{1}{\\tau}\\right)} \\,\n",
    "            \\frac{\\langle \\mathbf{w} \\rangle}{\\sigma}$"
   ]
  },
  {
   "cell_type": "code",
   "execution_count": 11,
   "metadata": {
    "slideshow": {
     "slide_type": "fragment"
    }
   },
   "outputs": [
    {
     "data": {
      "text/plain": [
       "2-element Array{Float64,1}:\n",
       "  1.9839220026727034\n",
       " -0.27566631318101525"
      ]
     },
     "execution_count": 11,
     "metadata": {},
     "output_type": "execute_result"
    }
   ],
   "source": [
    "s = (1.0 - 1.0/τ)*s + (sqrt(μ/τ * (2.0 - 1.0/τ))/σ)*w"
   ]
  },
  {
   "cell_type": "markdown",
   "metadata": {
    "slideshow": {
     "slide_type": "fragment"
    }
   },
   "source": [
    "Next we update our covariance matrix $\\mathbf{C}$. Note that it will no longer be a diagonal matrix: our next update will use a transformed distribution to generate the population."
   ]
  },
  {
   "cell_type": "markdown",
   "metadata": {
    "slideshow": {
     "slide_type": "slide"
    }
   },
   "source": [
    "$\\mbox{(L4):} \\quad \n",
    "      \\mathbf{C} \\leftarrow \n",
    "      \\left(1-\\frac{1}{\\tau_{\\mathrm{c}}}\\right)\\mathbf{C}\n",
    "              + \\frac{1}{\\tau_{\\mathrm{c}}} \\mathbf{s} \\mathbf{s}^T$"
   ]
  },
  {
   "cell_type": "code",
   "execution_count": 12,
   "metadata": {
    "slideshow": {
     "slide_type": "fragment"
    }
   },
   "outputs": [
    {
     "data": {
      "text/plain": [
       "2×2 Array{Float64,2}:\n",
       "  1.73399   -0.136725\n",
       " -0.136725   0.768998"
      ]
     },
     "execution_count": 12,
     "metadata": {},
     "output_type": "execute_result"
    }
   ],
   "source": [
    "C = (1.0 - 1.0/τ_c).*C + (s./τ_c)*s'"
   ]
  },
  {
   "cell_type": "markdown",
   "metadata": {
    "slideshow": {
     "slide_type": "slide"
    }
   },
   "source": [
    "Finally, we update the $\\sigma$, which is the standard deviation of the distribution we generate in the first step. Note that its initial value was `1.0`."
   ]
  },
  {
   "cell_type": "markdown",
   "metadata": {
    "slideshow": {
     "slide_type": "fragment"
    }
   },
   "source": [
    "$\\mbox{(L5):} \\quad  \n",
    "       \\mathbf{s}_\\sigma\n",
    "       \\leftarrow \\left(1-\\frac{1}{\\tau_\\sigma}\\right) \\mathbf{s}_\\sigma\n",
    "                  + \\sqrt{\\frac{\\mu}{\\tau_\\sigma}\n",
    "                    \\left(2-\\frac{1}{\\tau_\\sigma}\\right)} \\,\n",
    "                      \\langle \\mathbf{N}(\\mathbf{0}, \\mathbf{1}) \\rangle$"
   ]
  },
  {
   "cell_type": "markdown",
   "metadata": {
    "slideshow": {
     "slide_type": "fragment"
    }
   },
   "source": [
    "$\\mbox{(L6):} \\quad  \n",
    "      \\sigma \\leftarrow \\sigma\\exp\\left[\n",
    "                        \\frac{\\| \\mathbf{s}_{\\sigma} \\|^2 - n}\n",
    "                                   {2 n \\sqrt{n} }\n",
    "                                        \\right]$"
   ]
  },
  {
   "cell_type": "code",
   "execution_count": 13,
   "metadata": {
    "slideshow": {
     "slide_type": "fragment"
    }
   },
   "outputs": [
    {
     "data": {
      "text/plain": [
       "1.4271277052449598"
      ]
     },
     "execution_count": 13,
     "metadata": {},
     "output_type": "execute_result"
    }
   ],
   "source": [
    "ɛ = vec(mean(E[:,idx], dims=2))\n",
    "s_σ = (1.0 - 1.0/τ_σ)*s_σ + sqrt(μ/τ_σ*(2.0 - 1.0/τ_σ))*ɛ\n",
    "σ = σ*exp(((s_σ'*s_σ)[1] - N)/(2*N*sqrt(N)))"
   ]
  },
  {
   "cell_type": "markdown",
   "metadata": {
    "slideshow": {
     "slide_type": "fragment"
    }
   },
   "source": [
    "That's a lot! Let's put it all together in an object and see how it runs over multiple iterations."
   ]
  },
  {
   "cell_type": "code",
   "execution_count": 14,
   "metadata": {
    "slideshow": {
     "slide_type": "slide"
    }
   },
   "outputs": [],
   "source": [
    "mutable struct CMAES\n",
    "    N::Int\n",
    "    μ::Int\n",
    "    λ::Int\n",
    "    τ::Float64\n",
    "    τ_c::Float64\n",
    "    τ_σ::Float64\n",
    "    population::Array{Array{Float64}}\n",
    "    offspring::Array{Array{Float64}}\n",
    "    F_μ::Array{Float64}\n",
    "    F_λ::Array{Float64}\n",
    "    C::Array{Float64}\n",
    "    s::Array{Float64}\n",
    "    s_σ::Array{Float64}\n",
    "    σ::Float64\n",
    "    E::Array{Float64}\n",
    "    W::Array{Float64}\n",
    "    x::Array{Float64}\n",
    "end"
   ]
  },
  {
   "cell_type": "code",
   "execution_count": 48,
   "metadata": {
    "slideshow": {
     "slide_type": "slide"
    }
   },
   "outputs": [
    {
     "data": {
      "text/plain": [
       "CMAES"
      ]
     },
     "execution_count": 48,
     "metadata": {},
     "output_type": "execute_result"
    }
   ],
   "source": [
    "function CMAES(;N=2, μ=20, λ=40, τ=sqrt(N), τ_c=N^2, τ_σ=sqrt(N))\n",
    "    x = randn(N)\n",
    "    population = fill(x, µ)\n",
    "    offspring = Array{Array{Float64}}(undef, λ)\n",
    "    F_µ = Inf .* ones(µ)\n",
    "    F_λ = Inf .* ones(λ)\n",
    "    C = Array(Diagonal{Float64}(I, N))\n",
    "    s = zeros(N)\n",
    "    s_σ = zeros(N)\n",
    "    σ = 1.0\n",
    "    E = zeros(N, λ)\n",
    "    W = zeros(N, λ);\n",
    "    CMAES(N, μ, λ, τ, τ_c, τ_σ, population, offspring, F_µ, F_λ, C, s, s_σ, σ, E, W, x)\n",
    "end"
   ]
  },
  {
   "cell_type": "code",
   "execution_count": 49,
   "metadata": {
    "scrolled": true,
    "slideshow": {
     "slide_type": "fragment"
    }
   },
   "outputs": [
    {
     "data": {
      "text/plain": [
       "CMAES(2, 20, 40, 1.4142135623730951, 4.0, 1.4142135623730951, Array{Float64,N} where N[[-1.4402032659002617, 0.5636064524417057], [-1.4402032659002617, 0.5636064524417057], [-1.4402032659002617, 0.5636064524417057], [-1.4402032659002617, 0.5636064524417057], [-1.4402032659002617, 0.5636064524417057], [-1.4402032659002617, 0.5636064524417057], [-1.4402032659002617, 0.5636064524417057], [-1.4402032659002617, 0.5636064524417057], [-1.4402032659002617, 0.5636064524417057], [-1.4402032659002617, 0.5636064524417057], [-1.4402032659002617, 0.5636064524417057], [-1.4402032659002617, 0.5636064524417057], [-1.4402032659002617, 0.5636064524417057], [-1.4402032659002617, 0.5636064524417057], [-1.4402032659002617, 0.5636064524417057], [-1.4402032659002617, 0.5636064524417057], [-1.4402032659002617, 0.5636064524417057], [-1.4402032659002617, 0.5636064524417057], [-1.4402032659002617, 0.5636064524417057], [-1.4402032659002617, 0.5636064524417057]], Array{Float64,N} where N[#undef, #undef, #undef, #undef, #undef, #undef, #undef, #undef, #undef, #undef  …  #undef, #undef, #undef, #undef, #undef, #undef, #undef, #undef, #undef, #undef], [Inf, Inf, Inf, Inf, Inf, Inf, Inf, Inf, Inf, Inf, Inf, Inf, Inf, Inf, Inf, Inf, Inf, Inf, Inf, Inf], [Inf, Inf, Inf, Inf, Inf, Inf, Inf, Inf, Inf, Inf  …  Inf, Inf, Inf, Inf, Inf, Inf, Inf, Inf, Inf, Inf], [1.0 0.0; 0.0 1.0], [0.0, 0.0], [0.0, 0.0], 1.0, [0.0 0.0 … 0.0 0.0; 0.0 0.0 … 0.0 0.0], [0.0 0.0 … 0.0 0.0; 0.0 0.0 … 0.0 0.0], [-1.4402032659002617, 0.5636064524417057])"
      ]
     },
     "execution_count": 49,
     "metadata": {},
     "output_type": "execute_result"
    }
   ],
   "source": [
    "c = CMAES()"
   ]
  },
  {
   "cell_type": "code",
   "execution_count": 50,
   "metadata": {
    "slideshow": {
     "slide_type": "slide"
    }
   },
   "outputs": [
    {
     "data": {
      "text/plain": [
       "step! (generic function with 1 method)"
      ]
     },
     "execution_count": 50,
     "metadata": {},
     "output_type": "execute_result"
    }
   ],
   "source": [
    "function step!(c::CMAES; obj=objective, visualize=false, anim=Nothing)\n",
    "    # L1\n",
    "    sqrt_c = cholesky((c.C + c.C') / 2.0).U\n",
    "    for i in 1:c.λ\n",
    "        c.E[:,i] = randn(c.N)\n",
    "        c.W[:,i] = c.σ * (sqrt_c * c.E[:,i])\n",
    "        c.offspring[i] = c.x + c.W[:,i]\n",
    "        c.F_λ[i] = obj(c.offspring[i])\n",
    "    end    \n",
    "    # Select new parent population\n",
    "    idx = sortperm(c.F_λ)[1:c.μ]\n",
    "    for i in 1:c.μ\n",
    "        c.population[i] = c.offspring[idx[i]]\n",
    "        c.F_μ[i] = c.F_λ[idx[i]]\n",
    "    end    \n",
    "    # L2\n",
    "    w = vec(mean(c.W[:,idx], dims=2))\n",
    "    c.x += w    \n",
    "    # L3\n",
    "    c.s = (1.0 - 1.0/c.τ)*c.s + (sqrt(c.μ/c.τ * (2.0 - 1.0/c.τ))/c.σ)*w   \n",
    "    # L4\n",
    "    c.C = (1.0 - 1.0/c.τ_c).*c.C + (c.s./c.τ_c)*c.s'    \n",
    "    # L5\n",
    "    ɛ = vec(mean(c.E[:,idx], dims=2))\n",
    "    c.s_σ = (1.0 - 1.0/c.τ_σ)*c.s_σ + sqrt(c.μ/c.τ_σ*(2.0 - 1.0/c.τ_σ))*ɛ    \n",
    "    # L6\n",
    "    c.σ = c.σ*exp(((c.s_σ'*c.s_σ)[1] - c.N)/(2*c.N*sqrt(c.N)))\n",
    "    if visualize\n",
    "        #plot(xs, ys, fz, st=:contour)\n",
    "        scatter!([c.offspring[i][1] for i in 1:λ], [c.offspring[i][2] for i in 1:λ], \n",
    "            xlims=(-5, 5), ylims=(-5, 5), legend=:none)\n",
    "        scatter!([c.x[1]], [c.x[2]], color=:black, marker=:rect,\n",
    "            xlims=(-5, 5), ylims=(-5, 5), legend=:none)\n",
    "        frame(anim)\n",
    "    end\n",
    "    c\n",
    "end"
   ]
  },
  {
   "cell_type": "code",
   "execution_count": 51,
   "metadata": {
    "slideshow": {
     "slide_type": "slide"
    }
   },
   "outputs": [
    {
     "data": {
      "text/plain": [
       "plot_obj (generic function with 1 method)"
      ]
     },
     "execution_count": 51,
     "metadata": {},
     "output_type": "execute_result"
    }
   ],
   "source": [
    "function plot_obj()\n",
    "    c = CMAES()\n",
    "    println(\"x initial: \", c.x)\n",
    "    anim = Animation()\n",
    "    i_print = 0\n",
    "    for i in 1:100\n",
    "        v = mod(i, 1) == 0\n",
    "        step!(c, visualize=v, anim=anim)\n",
    "    end\n",
    "    println(\"x final: \", c.x)\n",
    "    gif(anim)\n",
    "end"
   ]
  },
  {
   "cell_type": "code",
   "execution_count": 53,
   "metadata": {
    "scrolled": true,
    "slideshow": {
     "slide_type": "slide"
    }
   },
   "outputs": [
    {
     "name": "stdout",
     "output_type": "stream",
     "text": [
      "[3.5, -0.2]\n",
      "x initial: [1.0573783084082349, -0.2077318534789003]\n",
      "x final: [3.5000003736001033, -0.2000002462444343]\n"
     ]
    },
    {
     "name": "stderr",
     "output_type": "stream",
     "text": [
      "┌ Info: Saved animation to \n",
      "│   fn = /home/guillaume/Documents/evolution/5_strategies/tmp.gif\n",
      "└ @ Plots /home/guillaume/.julia/packages/Plots/uCh2y/src/animation.jl:104\n"
     ]
    },
    {
     "data": {
      "text/html": [
       "<img src=\"data:image/gif;base64,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\" />"
      ],
      "text/plain": [
       "Plots.AnimatedGif(\"/home/guillaume/Documents/evolution/5_strategies/tmp.gif\")"
      ]
     },
     "execution_count": 53,
     "metadata": {},
     "output_type": "execute_result"
    }
   ],
   "source": [
    "xs = -5.0:0.1:5.0\n",
    "ys = -5.0:0.1:5.0\n",
    "\n",
    "objective = rastrigin # sphere, himmelblau, styblinski_tang, rastrigin\n",
    "fz(x, y) = objective([x, y])\n",
    "println(solution) # optimal for sphere and rastrigin\n",
    "plot_obj()"
   ]
  },
  {
   "cell_type": "markdown",
   "metadata": {
    "slideshow": {
     "slide_type": "slide"
    }
   },
   "source": [
    "<div class=\"alert alert-success\">\n",
    "    <b>Exercise</b>\n",
    "    <br/>\n",
    "    Modify the parent population size and child population of the problem. Can you get CMA-ES to reliably converge on the Rastrigin function? What about for higer dimensions of $n$? Report your $\\mu$ and $\\lambda$ values in the class chat.\n",
    "</div>    "
   ]
  },
  {
   "cell_type": "code",
   "execution_count": null,
   "metadata": {},
   "outputs": [],
   "source": []
  },
  {
   "cell_type": "code",
   "execution_count": null,
   "metadata": {},
   "outputs": [],
   "source": []
  },
  {
   "cell_type": "code",
   "execution_count": null,
   "metadata": {},
   "outputs": [],
   "source": []
  },
  {
   "cell_type": "code",
   "execution_count": null,
   "metadata": {},
   "outputs": [],
   "source": []
  },
  {
   "cell_type": "code",
   "execution_count": null,
   "metadata": {},
   "outputs": [],
   "source": []
  },
  {
   "cell_type": "code",
   "execution_count": null,
   "metadata": {},
   "outputs": [],
   "source": []
  },
  {
   "cell_type": "code",
   "execution_count": null,
   "metadata": {},
   "outputs": [],
   "source": []
  },
  {
   "cell_type": "code",
   "execution_count": null,
   "metadata": {},
   "outputs": [],
   "source": []
  },
  {
   "cell_type": "code",
   "execution_count": null,
   "metadata": {},
   "outputs": [],
   "source": []
  },
  {
   "cell_type": "code",
   "execution_count": null,
   "metadata": {},
   "outputs": [],
   "source": []
  }
 ],
 "metadata": {
  "@webio": {
   "lastCommId": null,
   "lastKernelId": null
  },
  "celltoolbar": "Slideshow",
  "kernelspec": {
   "display_name": "Julia 1.4.1",
   "language": "julia",
   "name": "julia-1.4"
  },
  "language_info": {
   "file_extension": ".jl",
   "mimetype": "application/julia",
   "name": "julia",
   "version": "1.4.1"
  }
 },
 "nbformat": 4,
 "nbformat_minor": 2
}
