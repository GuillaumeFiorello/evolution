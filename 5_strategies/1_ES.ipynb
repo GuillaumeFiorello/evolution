{
 "cells": [
  {
   "cell_type": "markdown",
   "metadata": {
    "slideshow": {
     "slide_type": "slide"
    }
   },
   "source": [
    "<img src=\"../imgs/logo.png\" width=\"20%\" align=\"right\" style=\"margin:0px 20px\">\n",
    "\n",
    "\n",
    "# Evolutionary Computation\n",
    "\n",
    "## 5.1 Evolutionary Strategies\n",
    "\n",
    "<a rel=\"license\" href=\"http://creativecommons.org/licenses/by-sa/4.0/\"><img alt=\"Creative Commons License\" align=\"left\" src=\"https://i.creativecommons.org/l/by-sa/4.0/80x15.png\" /></a>&nbsp;| Dennis G. Wilson | <a href=\"https://d9w.github.io/evolution/\">https://d9w.github.io/evolution/</a>"
   ]
  },
  {
   "cell_type": "markdown",
   "metadata": {
    "slideshow": {
     "slide_type": "slide"
    }
   },
   "source": [
    "# <a id=\"es\"></a>Evolutionary Strategies\n",
    "\n",
    "Evolutionary strategies are a class of evolutionary algorithms first developed in the 1960s. These algorithms are notable for their statistical recombination of the population to inform the next generation and are most often used for continuous optimization problem. Evolutionary Strategies such as CMA-ES, which we'll discuss next, have a long history of application in a variety of domains and recently have been applied to the optimization of neural network weights.\n",
    "\n",
    "+ I. Rechenberg and M. Eigen. Evolutionsstrategie: Optimierung Technischer Systeme nach Prinzipien der Biologischen Evolution. Frommann-Holzboog Stuttgart, 1973.\n",
    "+ Wierstra, Daan, et al. \"Natural evolution strategies.\" The Journal of Machine Learning Research 15.1 (2014): 949-980. [PDF](http://www.jmlr.org/papers/volume15/wierstra14a/wierstra14a.pdf)\n",
    "+ Salimans, Tim, et al. \"Evolution strategies as a scalable alternative to reinforcement learning.\" arXiv preprint arXiv:1703.03864 (2017)."
   ]
  },
  {
   "cell_type": "code",
   "execution_count": 1,
   "metadata": {
    "slideshow": {
     "slide_type": "slide"
    }
   },
   "outputs": [
    {
     "data": {
      "text/plain": [
       "Plots.GRBackend()"
      ]
     },
     "execution_count": 1,
     "metadata": {},
     "output_type": "execute_result"
    }
   ],
   "source": [
    "using Statistics\n",
    "using LinearAlgebra\n",
    "using Plots\n",
    "gr(reuse=true)"
   ]
  },
  {
   "cell_type": "markdown",
   "metadata": {
    "slideshow": {
     "slide_type": "slide"
    }
   },
   "source": [
    "Let's start by optimizing over a sphere function with an offset center."
   ]
  },
  {
   "cell_type": "code",
   "execution_count": 2,
   "metadata": {
    "slideshow": {
     "slide_type": "fragment"
    }
   },
   "outputs": [
    {
     "data": {
      "text/plain": [
       "sphere (generic function with 1 method)"
      ]
     },
     "execution_count": 2,
     "metadata": {},
     "output_type": "execute_result"
    }
   ],
   "source": [
    "s = [3.5, -0.2]\n",
    "sphere(x::Array{Float64}) = -sum((x .- s).^2)\n",
    "objective = sphere"
   ]
  },
  {
   "cell_type": "code",
   "execution_count": 3,
   "metadata": {
    "scrolled": true,
    "slideshow": {
     "slide_type": "fragment"
    }
   },
   "outputs": [
    {
     "data": {
      "text/plain": [
       "fz (generic function with 1 method)"
      ]
     },
     "execution_count": 3,
     "metadata": {},
     "output_type": "execute_result"
    }
   ],
   "source": [
    "xs = -5:0.1:5\n",
    "ys = -5:0.1:5\n",
    "fz(x, y) = objective([x, y])\n",
    "#plot(plot(xs, ys, fz, st=:surface), plot(xs, ys, fz, st=:contour), size = (800, 300))"
   ]
  },
  {
   "cell_type": "markdown",
   "metadata": {
    "slideshow": {
     "slide_type": "slide"
    }
   },
   "source": [
    "We'll start with a very simple example of an evolutionary strategy. In this $(1,\\lambda)$ Evolutionary Strategy, we will first create random individuals around an expert with a standard deviation of $\\sigma$. This is our population. Let's define some parameters"
   ]
  },
  {
   "cell_type": "markdown",
   "metadata": {
    "slideshow": {
     "slide_type": "fragment"
    }
   },
   "source": [
    "<div class=\"alert alert-info\">\n",
    "    <b>Notation: $(\\mu/\\rho,\\lambda)$ or $(\\mu/\\rho+\\lambda)$</b>\n",
    "    <br/>\n",
    "    In this notation, $\\mu$ is the number of parents, $\\rho$ is the number of parents involved in creating the offspring, and $\\lambda$ is the number of offspring. $(\\mu/\\rho+\\lambda)$ means the parents are included for creating the next population, $(\\mu/\\rho,\\lambda)$ means the parents are not included. We've already seen the $(1+1)$ and $(1+\\lambda)$ algorithms, where the 1 parent is included in the next population based on its fitness. CMA-ES is a $(\\mu/\\mu_I,\\lambda)$ algorithm where a transformation of $\\mu$, $\\mu_I$, will inform the next population.\n",
    "    </div>"
   ]
  },
  {
   "cell_type": "code",
   "execution_count": 48,
   "metadata": {
    "slideshow": {
     "slide_type": "fragment"
    }
   },
   "outputs": [
    {
     "data": {
      "text/plain": [
       "2-element Array{Float64,1}:\n",
       "  0.45862558432363193\n",
       " -0.840076288384543"
      ]
     },
     "execution_count": 48,
     "metadata": {},
     "output_type": "execute_result"
    }
   ],
   "source": [
    "npop = 50     # population size\n",
    "sigma = 0.5   # noise standard deviation\n",
    "alpha = 0.04 # step size\n",
    "x = randn(2)  # initial expert"
   ]
  },
  {
   "cell_type": "markdown",
   "metadata": {
    "slideshow": {
     "slide_type": "slide"
    }
   },
   "source": [
    "Since we'll be staying in the continuous optimization domain today, we won't define an `Individual` class but will use matrices for our population. Let's now create the population around `x` with standard deviation $\\sigma$. We will use a Normal distribution."
   ]
  },
  {
   "cell_type": "code",
   "execution_count": 5,
   "metadata": {
    "slideshow": {
     "slide_type": "fragment"
    }
   },
   "outputs": [],
   "source": [
    "N = randn(npop, 2)\n",
    "P = repeat(x, 1, npop)' .+ sigma .* N;"
   ]
  },
  {
   "cell_type": "markdown",
   "metadata": {
    "slideshow": {
     "slide_type": "fragment"
    }
   },
   "source": [
    "Now we have our population and can evaluate them. We will also normalize the evaluation $f(x)$ using $\\frac{f(x) - \\mu(f(x))}{\\sigma(f(x))}$"
   ]
  },
  {
   "cell_type": "code",
   "execution_count": 6,
   "metadata": {
    "slideshow": {
     "slide_type": "fragment"
    }
   },
   "outputs": [],
   "source": [
    "R = zeros(npop)\n",
    "for i in eachindex(R)\n",
    "    R[i] = objective(P[i, :])\n",
    "end\n",
    "A = (R .- mean(R)) ./ std(R);"
   ]
  },
  {
   "cell_type": "markdown",
   "metadata": {
    "slideshow": {
     "slide_type": "slide"
    }
   },
   "source": [
    "Let's see how our population looks on our objective function. The black rectangle is our current expert."
   ]
  },
  {
   "cell_type": "code",
   "execution_count": 7,
   "metadata": {
    "slideshow": {
     "slide_type": "fragment"
    }
   },
   "outputs": [
    {
     "data": {
      "image/svg+xml": [
       "<?xml version=\"1.0\" encoding=\"utf-8\"?>\n",
       "<svg xmlns=\"http://www.w3.org/2000/svg\" xmlns:xlink=\"http://www.w3.org/1999/xlink\" width=\"600\" height=\"400\" viewBox=\"0 0 2400 1600\">\n",
       "<defs>\n",
       "  <clipPath id=\"clip810\">\n",
       "    <rect x=\"0\" y=\"0\" width=\"2400\" height=\"1600\"/>\n",
       "  </clipPath>\n",
       "</defs>\n",
       "<path clip-path=\"url(#clip810)\" d=\"\n",
       "M0 1600 L2400 1600 L2400 0 L0 0  Z\n",
       "  \" fill=\"#ffffff\" fill-rule=\"evenodd\" fill-opacity=\"1\"/>\n",
       "<defs>\n",
       "  <clipPath id=\"clip811\">\n",
       "    <rect x=\"480\" y=\"0\" width=\"1681\" height=\"1600\"/>\n",
       "  </clipPath>\n",
       "</defs>\n",
       "<path clip-path=\"url(#clip810)\" d=\"\n",
       "M148.01 1486.45 L2352.76 1486.45 L2352.76 47.2441 L148.01 47.2441  Z\n",
       "  \" fill=\"#ffffff\" fill-rule=\"evenodd\" fill-opacity=\"1\"/>\n",
       "<defs>\n",
       "  <clipPath id=\"clip812\">\n",
       "    <rect x=\"148\" y=\"47\" width=\"2206\" height=\"1440\"/>\n",
       "  </clipPath>\n",
       "</defs>\n",
       "<polyline clip-path=\"url(#clip812)\" style=\"stroke:#000000; stroke-width:2; stroke-opacity:0.1; fill:none\" points=\"\n",
       "  558.075,1486.45 558.075,47.2441 \n",
       "  \"/>\n",
       "<polyline clip-path=\"url(#clip812)\" style=\"stroke:#000000; stroke-width:2; stroke-opacity:0.1; fill:none\" points=\"\n",
       "  1074.29,1486.45 1074.29,47.2441 \n",
       "  \"/>\n",
       "<polyline clip-path=\"url(#clip812)\" style=\"stroke:#000000; stroke-width:2; stroke-opacity:0.1; fill:none\" points=\"\n",
       "  1590.51,1486.45 1590.51,47.2441 \n",
       "  \"/>\n",
       "<polyline clip-path=\"url(#clip812)\" style=\"stroke:#000000; stroke-width:2; stroke-opacity:0.1; fill:none\" points=\"\n",
       "  2106.73,1486.45 2106.73,47.2441 \n",
       "  \"/>\n",
       "<polyline clip-path=\"url(#clip810)\" style=\"stroke:#000000; stroke-width:4; stroke-opacity:1; fill:none\" points=\"\n",
       "  148.01,1486.45 2352.76,1486.45 \n",
       "  \"/>\n",
       "<polyline clip-path=\"url(#clip810)\" style=\"stroke:#000000; stroke-width:4; stroke-opacity:1; fill:none\" points=\"\n",
       "  558.075,1486.45 558.075,1469.18 \n",
       "  \"/>\n",
       "<polyline clip-path=\"url(#clip810)\" style=\"stroke:#000000; stroke-width:4; stroke-opacity:1; fill:none\" points=\"\n",
       "  1074.29,1486.45 1074.29,1469.18 \n",
       "  \"/>\n",
       "<polyline clip-path=\"url(#clip810)\" style=\"stroke:#000000; stroke-width:4; stroke-opacity:1; fill:none\" points=\"\n",
       "  1590.51,1486.45 1590.51,1469.18 \n",
       "  \"/>\n",
       "<polyline clip-path=\"url(#clip810)\" style=\"stroke:#000000; stroke-width:4; stroke-opacity:1; fill:none\" points=\"\n",
       "  2106.73,1486.45 2106.73,1469.18 \n",
       "  \"/>\n",
       "<path clip-path=\"url(#clip810)\" d=\"M 0 0 M540.39 1515.64 Q536.779 1515.64 534.95 1519.2 Q533.145 1522.75 533.145 1529.87 Q533.145 1536.98 534.95 1540.55 Q536.779 1544.09 540.39 1544.09 Q544.024 1544.09 545.83 1540.55 Q547.659 1536.98 547.659 1529.87 Q547.659 1522.75 545.83 1519.2 Q544.024 1515.64 540.39 1515.64 M540.39 1511.93 Q546.2 1511.93 549.256 1516.54 Q552.335 1521.12 552.335 1529.87 Q552.335 1538.6 549.256 1543.21 Q546.2 1547.79 540.39 1547.79 Q534.58 1547.79 531.501 1543.21 Q528.446 1538.6 528.446 1529.87 Q528.446 1521.12 531.501 1516.54 Q534.58 1511.93 540.39 1511.93 Z\" fill=\"#000000\" fill-rule=\"evenodd\" fill-opacity=\"1\" /><path clip-path=\"url(#clip810)\" d=\"M 0 0 M557.404 1541.24 L562.288 1541.24 L562.288 1547.12 L557.404 1547.12 L557.404 1541.24 Z\" fill=\"#000000\" fill-rule=\"evenodd\" fill-opacity=\"1\" /><path clip-path=\"url(#clip810)\" d=\"M 0 0 M571.385 1543.18 L587.705 1543.18 L587.705 1547.12 L565.76 1547.12 L565.76 1543.18 Q568.422 1540.43 573.006 1535.8 Q577.612 1531.15 578.793 1529.81 Q581.038 1527.28 581.918 1525.55 Q582.82 1523.79 582.82 1522.1 Q582.82 1519.34 580.876 1517.61 Q578.955 1515.87 575.853 1515.87 Q573.654 1515.87 571.2 1516.63 Q568.77 1517.4 565.992 1518.95 L565.992 1514.23 Q568.816 1513.09 571.27 1512.51 Q573.723 1511.93 575.76 1511.93 Q581.131 1511.93 584.325 1514.62 Q587.52 1517.31 587.52 1521.8 Q587.52 1523.93 586.709 1525.85 Q585.922 1527.74 583.816 1530.34 Q583.237 1531.01 580.135 1534.23 Q577.033 1537.42 571.385 1543.18 Z\" fill=\"#000000\" fill-rule=\"evenodd\" fill-opacity=\"1\" /><path clip-path=\"url(#clip810)\" d=\"M 0 0 M1056.14 1515.64 Q1052.52 1515.64 1050.7 1519.2 Q1048.89 1522.75 1048.89 1529.87 Q1048.89 1536.98 1050.7 1540.55 Q1052.52 1544.09 1056.14 1544.09 Q1059.77 1544.09 1061.57 1540.55 Q1063.4 1536.98 1063.4 1529.87 Q1063.4 1522.75 1061.57 1519.2 Q1059.77 1515.64 1056.14 1515.64 M1056.14 1511.93 Q1061.95 1511.93 1065 1516.54 Q1068.08 1521.12 1068.08 1529.87 Q1068.08 1538.6 1065 1543.21 Q1061.95 1547.79 1056.14 1547.79 Q1050.33 1547.79 1047.25 1543.21 Q1044.19 1538.6 1044.19 1529.87 Q1044.19 1521.12 1047.25 1516.54 Q1050.33 1511.93 1056.14 1511.93 Z\" fill=\"#000000\" fill-rule=\"evenodd\" fill-opacity=\"1\" /><path clip-path=\"url(#clip810)\" d=\"M 0 0 M1073.15 1541.24 L1078.03 1541.24 L1078.03 1547.12 L1073.15 1547.12 L1073.15 1541.24 Z\" fill=\"#000000\" fill-rule=\"evenodd\" fill-opacity=\"1\" /><path clip-path=\"url(#clip810)\" d=\"M 0 0 M1097.27 1528.49 Q1100.63 1529.2 1102.5 1531.47 Q1104.4 1533.74 1104.4 1537.07 Q1104.4 1542.19 1100.88 1544.99 Q1097.36 1547.79 1090.88 1547.79 Q1088.7 1547.79 1086.39 1547.35 Q1084.1 1546.93 1081.64 1546.08 L1081.64 1541.56 Q1083.59 1542.7 1085.9 1543.28 Q1088.22 1543.86 1090.74 1543.86 Q1095.14 1543.86 1097.43 1542.12 Q1099.75 1540.38 1099.75 1537.07 Q1099.75 1534.02 1097.59 1532.31 Q1095.46 1530.57 1091.64 1530.57 L1087.62 1530.57 L1087.62 1526.73 L1091.83 1526.73 Q1095.28 1526.73 1097.11 1525.36 Q1098.94 1523.97 1098.94 1521.38 Q1098.94 1518.72 1097.04 1517.31 Q1095.16 1515.87 1091.64 1515.87 Q1089.72 1515.87 1087.52 1516.29 Q1085.32 1516.7 1082.69 1517.58 L1082.69 1513.42 Q1085.35 1512.68 1087.66 1512.31 Q1090 1511.93 1092.06 1511.93 Q1097.38 1511.93 1100.49 1514.37 Q1103.59 1516.77 1103.59 1520.89 Q1103.59 1523.76 1101.95 1525.75 Q1100.3 1527.72 1097.27 1528.49 Z\" fill=\"#000000\" fill-rule=\"evenodd\" fill-opacity=\"1\" /><path clip-path=\"url(#clip810)\" d=\"M 0 0 M1571.79 1515.64 Q1568.18 1515.64 1566.35 1519.2 Q1564.54 1522.75 1564.54 1529.87 Q1564.54 1536.98 1566.35 1540.55 Q1568.18 1544.09 1571.79 1544.09 Q1575.42 1544.09 1577.23 1540.55 Q1579.06 1536.98 1579.06 1529.87 Q1579.06 1522.75 1577.23 1519.2 Q1575.42 1515.64 1571.79 1515.64 M1571.79 1511.93 Q1577.6 1511.93 1580.65 1516.54 Q1583.73 1521.12 1583.73 1529.87 Q1583.73 1538.6 1580.65 1543.21 Q1577.6 1547.79 1571.79 1547.79 Q1565.98 1547.79 1562.9 1543.21 Q1559.84 1538.6 1559.84 1529.87 Q1559.84 1521.12 1562.9 1516.54 Q1565.98 1511.93 1571.79 1511.93 Z\" fill=\"#000000\" fill-rule=\"evenodd\" fill-opacity=\"1\" /><path clip-path=\"url(#clip810)\" d=\"M 0 0 M1588.8 1541.24 L1593.69 1541.24 L1593.69 1547.12 L1588.8 1547.12 L1588.8 1541.24 Z\" fill=\"#000000\" fill-rule=\"evenodd\" fill-opacity=\"1\" /><path clip-path=\"url(#clip810)\" d=\"M 0 0 M1611.6 1516.63 L1599.8 1535.08 L1611.6 1535.08 L1611.6 1516.63 M1610.38 1512.56 L1616.26 1512.56 L1616.26 1535.08 L1621.19 1535.08 L1621.19 1538.97 L1616.26 1538.97 L1616.26 1547.12 L1611.6 1547.12 L1611.6 1538.97 L1596 1538.97 L1596 1534.46 L1610.38 1512.56 Z\" fill=\"#000000\" fill-rule=\"evenodd\" fill-opacity=\"1\" /><path clip-path=\"url(#clip810)\" d=\"M 0 0 M2088.75 1515.64 Q2085.14 1515.64 2083.31 1519.2 Q2081.5 1522.75 2081.5 1529.87 Q2081.5 1536.98 2083.31 1540.55 Q2085.14 1544.09 2088.75 1544.09 Q2092.38 1544.09 2094.19 1540.55 Q2096.02 1536.98 2096.02 1529.87 Q2096.02 1522.75 2094.19 1519.2 Q2092.38 1515.64 2088.75 1515.64 M2088.75 1511.93 Q2094.56 1511.93 2097.61 1516.54 Q2100.69 1521.12 2100.69 1529.87 Q2100.69 1538.6 2097.61 1543.21 Q2094.56 1547.79 2088.75 1547.79 Q2082.94 1547.79 2079.86 1543.21 Q2076.8 1538.6 2076.8 1529.87 Q2076.8 1521.12 2079.86 1516.54 Q2082.94 1511.93 2088.75 1511.93 Z\" fill=\"#000000\" fill-rule=\"evenodd\" fill-opacity=\"1\" /><path clip-path=\"url(#clip810)\" d=\"M 0 0 M2105.76 1541.24 L2110.65 1541.24 L2110.65 1547.12 L2105.76 1547.12 L2105.76 1541.24 Z\" fill=\"#000000\" fill-rule=\"evenodd\" fill-opacity=\"1\" /><path clip-path=\"url(#clip810)\" d=\"M 0 0 M2115.76 1512.56 L2134.12 1512.56 L2134.12 1516.5 L2120.04 1516.5 L2120.04 1524.97 Q2121.06 1524.62 2122.08 1524.46 Q2123.1 1524.27 2124.12 1524.27 Q2129.91 1524.27 2133.28 1527.44 Q2136.66 1530.62 2136.66 1536.03 Q2136.66 1541.61 2133.19 1544.71 Q2129.72 1547.79 2123.4 1547.79 Q2121.22 1547.79 2118.96 1547.42 Q2116.71 1547.05 2114.3 1546.31 L2114.3 1541.61 Q2116.39 1542.74 2118.61 1543.3 Q2120.83 1543.86 2123.31 1543.86 Q2127.31 1543.86 2129.65 1541.75 Q2131.99 1539.64 2131.99 1536.03 Q2131.99 1532.42 2129.65 1530.31 Q2127.31 1528.21 2123.31 1528.21 Q2121.43 1528.21 2119.56 1528.62 Q2117.71 1529.04 2115.76 1529.92 L2115.76 1512.56 Z\" fill=\"#000000\" fill-rule=\"evenodd\" fill-opacity=\"1\" /><polyline clip-path=\"url(#clip812)\" style=\"stroke:#000000; stroke-width:2; stroke-opacity:0.1; fill:none\" points=\"\n",
       "  148.01,1436 2352.76,1436 \n",
       "  \"/>\n",
       "<polyline clip-path=\"url(#clip812)\" style=\"stroke:#000000; stroke-width:2; stroke-opacity:0.1; fill:none\" points=\"\n",
       "  148.01,1162.33 2352.76,1162.33 \n",
       "  \"/>\n",
       "<polyline clip-path=\"url(#clip812)\" style=\"stroke:#000000; stroke-width:2; stroke-opacity:0.1; fill:none\" points=\"\n",
       "  148.01,888.661 2352.76,888.661 \n",
       "  \"/>\n",
       "<polyline clip-path=\"url(#clip812)\" style=\"stroke:#000000; stroke-width:2; stroke-opacity:0.1; fill:none\" points=\"\n",
       "  148.01,614.99 2352.76,614.99 \n",
       "  \"/>\n",
       "<polyline clip-path=\"url(#clip812)\" style=\"stroke:#000000; stroke-width:2; stroke-opacity:0.1; fill:none\" points=\"\n",
       "  148.01,341.32 2352.76,341.32 \n",
       "  \"/>\n",
       "<polyline clip-path=\"url(#clip812)\" style=\"stroke:#000000; stroke-width:2; stroke-opacity:0.1; fill:none\" points=\"\n",
       "  148.01,67.649 2352.76,67.649 \n",
       "  \"/>\n",
       "<polyline clip-path=\"url(#clip810)\" style=\"stroke:#000000; stroke-width:4; stroke-opacity:1; fill:none\" points=\"\n",
       "  148.01,1486.45 148.01,47.2441 \n",
       "  \"/>\n",
       "<polyline clip-path=\"url(#clip810)\" style=\"stroke:#000000; stroke-width:4; stroke-opacity:1; fill:none\" points=\"\n",
       "  148.01,1436 174.467,1436 \n",
       "  \"/>\n",
       "<polyline clip-path=\"url(#clip810)\" style=\"stroke:#000000; stroke-width:4; stroke-opacity:1; fill:none\" points=\"\n",
       "  148.01,1162.33 174.467,1162.33 \n",
       "  \"/>\n",
       "<polyline clip-path=\"url(#clip810)\" style=\"stroke:#000000; stroke-width:4; stroke-opacity:1; fill:none\" points=\"\n",
       "  148.01,888.661 174.467,888.661 \n",
       "  \"/>\n",
       "<polyline clip-path=\"url(#clip810)\" style=\"stroke:#000000; stroke-width:4; stroke-opacity:1; fill:none\" points=\"\n",
       "  148.01,614.99 174.467,614.99 \n",
       "  \"/>\n",
       "<polyline clip-path=\"url(#clip810)\" style=\"stroke:#000000; stroke-width:4; stroke-opacity:1; fill:none\" points=\"\n",
       "  148.01,341.32 174.467,341.32 \n",
       "  \"/>\n",
       "<polyline clip-path=\"url(#clip810)\" style=\"stroke:#000000; stroke-width:4; stroke-opacity:1; fill:none\" points=\"\n",
       "  148.01,67.649 174.467,67.649 \n",
       "  \"/>\n",
       "<path clip-path=\"url(#clip810)\" d=\"M 0 0 M64.0939 1421.8 Q60.4828 1421.8 58.6541 1425.37 Q56.8486 1428.91 56.8486 1436.04 Q56.8486 1443.14 58.6541 1446.71 Q60.4828 1450.25 64.0939 1450.25 Q67.7281 1450.25 69.5337 1446.71 Q71.3624 1443.14 71.3624 1436.04 Q71.3624 1428.91 69.5337 1425.37 Q67.7281 1421.8 64.0939 1421.8 M64.0939 1418.1 Q69.9041 1418.1 72.9596 1422.7 Q76.0383 1427.29 76.0383 1436.04 Q76.0383 1444.76 72.9596 1449.37 Q69.9041 1453.95 64.0939 1453.95 Q58.2838 1453.95 55.2051 1449.37 Q52.1495 1444.76 52.1495 1436.04 Q52.1495 1427.29 55.2051 1422.7 Q58.2838 1418.1 64.0939 1418.1 Z\" fill=\"#000000\" fill-rule=\"evenodd\" fill-opacity=\"1\" /><path clip-path=\"url(#clip810)\" d=\"M 0 0 M81.1077 1447.4 L85.9919 1447.4 L85.9919 1453.28 L81.1077 1453.28 L81.1077 1447.4 Z\" fill=\"#000000\" fill-rule=\"evenodd\" fill-opacity=\"1\" /><path clip-path=\"url(#clip810)\" d=\"M 0 0 M91.1077 1418.72 L109.464 1418.72 L109.464 1422.66 L95.39 1422.66 L95.39 1431.13 Q96.4085 1430.78 97.4271 1430.62 Q98.4456 1430.43 99.4641 1430.43 Q105.251 1430.43 108.631 1433.61 Q112.01 1436.78 112.01 1442.19 Q112.01 1447.77 108.538 1450.87 Q105.066 1453.95 98.7465 1453.95 Q96.5706 1453.95 94.3021 1453.58 Q92.0567 1453.21 89.6493 1452.47 L89.6493 1447.77 Q91.7326 1448.91 93.9549 1449.46 Q96.1771 1450.02 98.6539 1450.02 Q102.659 1450.02 104.996 1447.91 Q107.334 1445.8 107.334 1442.19 Q107.334 1438.58 104.996 1436.48 Q102.659 1434.37 98.6539 1434.37 Q96.7789 1434.37 94.9039 1434.79 Q93.0521 1435.2 91.1077 1436.08 L91.1077 1418.72 Z\" fill=\"#000000\" fill-rule=\"evenodd\" fill-opacity=\"1\" /><path clip-path=\"url(#clip810)\" d=\"M 0 0 M62.9365 1148.13 Q59.3254 1148.13 57.4967 1151.69 Q55.6912 1155.24 55.6912 1162.37 Q55.6912 1169.47 57.4967 1173.04 Q59.3254 1176.58 62.9365 1176.58 Q66.5707 1176.58 68.3763 1173.04 Q70.205 1169.47 70.205 1162.37 Q70.205 1155.24 68.3763 1151.69 Q66.5707 1148.13 62.9365 1148.13 M62.9365 1144.43 Q68.7467 1144.43 71.8022 1149.03 Q74.8809 1153.62 74.8809 1162.37 Q74.8809 1171.09 71.8022 1175.7 Q68.7467 1180.28 62.9365 1180.28 Q57.1264 1180.28 54.0477 1175.7 Q50.9921 1171.09 50.9921 1162.37 Q50.9921 1153.62 54.0477 1149.03 Q57.1264 1144.43 62.9365 1144.43 Z\" fill=\"#000000\" fill-rule=\"evenodd\" fill-opacity=\"1\" /><path clip-path=\"url(#clip810)\" d=\"M 0 0 M79.9503 1173.73 L84.8345 1173.73 L84.8345 1179.61 L79.9503 1179.61 L79.9503 1173.73 Z\" fill=\"#000000\" fill-rule=\"evenodd\" fill-opacity=\"1\" /><path clip-path=\"url(#clip810)\" d=\"M 0 0 M100.483 1160.47 Q97.3345 1160.47 95.4826 1162.62 Q93.6539 1164.77 93.6539 1168.52 Q93.6539 1172.25 95.4826 1174.43 Q97.3345 1176.58 100.483 1176.58 Q103.631 1176.58 105.459 1174.43 Q107.311 1172.25 107.311 1168.52 Q107.311 1164.77 105.459 1162.62 Q103.631 1160.47 100.483 1160.47 M109.765 1145.82 L109.765 1150.07 Q108.006 1149.24 106.2 1148.8 Q104.418 1148.36 102.659 1148.36 Q98.0289 1148.36 95.5752 1151.49 Q93.1447 1154.61 92.7975 1160.93 Q94.1632 1158.92 96.2234 1157.85 Q98.2835 1156.76 100.76 1156.76 Q105.969 1156.76 108.978 1159.94 Q112.01 1163.08 112.01 1168.52 Q112.01 1173.85 108.862 1177.06 Q105.714 1180.28 100.483 1180.28 Q94.4873 1180.28 91.316 1175.7 Q88.1447 1171.09 88.1447 1162.37 Q88.1447 1154.17 92.0336 1149.31 Q95.9224 1144.43 102.473 1144.43 Q104.233 1144.43 106.015 1144.77 Q107.821 1145.12 109.765 1145.82 Z\" fill=\"#000000\" fill-rule=\"evenodd\" fill-opacity=\"1\" /><path clip-path=\"url(#clip810)\" d=\"M 0 0 M64.0013 874.459 Q60.3902 874.459 58.5615 878.024 Q56.756 881.566 56.756 888.695 Q56.756 895.802 58.5615 899.367 Q60.3902 902.908 64.0013 902.908 Q67.6356 902.908 69.4411 899.367 Q71.2698 895.802 71.2698 888.695 Q71.2698 881.566 69.4411 878.024 Q67.6356 874.459 64.0013 874.459 M64.0013 870.756 Q69.8115 870.756 72.867 875.362 Q75.9457 879.945 75.9457 888.695 Q75.9457 897.422 72.867 902.029 Q69.8115 906.612 64.0013 906.612 Q58.1912 906.612 55.1125 902.029 Q52.0569 897.422 52.0569 888.695 Q52.0569 879.945 55.1125 875.362 Q58.1912 870.756 64.0013 870.756 Z\" fill=\"#000000\" fill-rule=\"evenodd\" fill-opacity=\"1\" /><path clip-path=\"url(#clip810)\" d=\"M 0 0 M81.0151 900.061 L85.8993 900.061 L85.8993 905.941 L81.0151 905.941 L81.0151 900.061 Z\" fill=\"#000000\" fill-rule=\"evenodd\" fill-opacity=\"1\" /><path clip-path=\"url(#clip810)\" d=\"M 0 0 M89.7882 871.381 L112.01 871.381 L112.01 873.371 L99.4641 905.941 L94.5799 905.941 L106.385 875.316 L89.7882 875.316 L89.7882 871.381 Z\" fill=\"#000000\" fill-rule=\"evenodd\" fill-opacity=\"1\" /><path clip-path=\"url(#clip810)\" d=\"M 0 0 M63.1911 600.789 Q59.58 600.789 57.7513 604.354 Q55.9458 607.895 55.9458 615.025 Q55.9458 622.131 57.7513 625.696 Q59.58 629.238 63.1911 629.238 Q66.8254 629.238 68.6309 625.696 Q70.4596 622.131 70.4596 615.025 Q70.4596 607.895 68.6309 604.354 Q66.8254 600.789 63.1911 600.789 M63.1911 597.085 Q69.0013 597.085 72.0568 601.692 Q75.1355 606.275 75.1355 615.025 Q75.1355 623.752 72.0568 628.358 Q69.0013 632.941 63.1911 632.941 Q57.381 632.941 54.3023 628.358 Q51.2468 623.752 51.2468 615.025 Q51.2468 606.275 54.3023 601.692 Q57.381 597.085 63.1911 597.085 Z\" fill=\"#000000\" fill-rule=\"evenodd\" fill-opacity=\"1\" /><path clip-path=\"url(#clip810)\" d=\"M 0 0 M80.2049 626.39 L85.0892 626.39 L85.0892 632.27 L80.2049 632.27 L80.2049 626.39 Z\" fill=\"#000000\" fill-rule=\"evenodd\" fill-opacity=\"1\" /><path clip-path=\"url(#clip810)\" d=\"M 0 0 M100.159 615.858 Q96.8252 615.858 94.9039 617.641 Q93.0058 619.423 93.0058 622.548 Q93.0058 625.673 94.9039 627.455 Q96.8252 629.238 100.159 629.238 Q103.492 629.238 105.413 627.455 Q107.334 625.65 107.334 622.548 Q107.334 619.423 105.413 617.641 Q103.515 615.858 100.159 615.858 M95.4826 613.867 Q92.4734 613.127 90.7836 611.066 Q89.1169 609.006 89.1169 606.043 Q89.1169 601.9 92.0567 599.492 Q95.0197 597.085 100.159 597.085 Q105.321 597.085 108.26 599.492 Q111.2 601.9 111.2 606.043 Q111.2 609.006 109.51 611.066 Q107.844 613.127 104.858 613.867 Q108.237 614.654 110.112 616.946 Q112.01 619.238 112.01 622.548 Q112.01 627.571 108.932 630.256 Q105.876 632.941 100.159 632.941 Q94.441 632.941 91.3623 630.256 Q88.3067 627.571 88.3067 622.548 Q88.3067 619.238 90.2049 616.946 Q92.103 614.654 95.4826 613.867 M93.7697 606.483 Q93.7697 609.168 95.4363 610.673 Q97.1261 612.178 100.159 612.178 Q103.168 612.178 104.858 610.673 Q106.571 609.168 106.571 606.483 Q106.571 603.798 104.858 602.293 Q103.168 600.789 100.159 600.789 Q97.1261 600.789 95.4363 602.293 Q93.7697 603.798 93.7697 606.483 Z\" fill=\"#000000\" fill-rule=\"evenodd\" fill-opacity=\"1\" /><path clip-path=\"url(#clip810)\" d=\"M 0 0 M63.2837 327.118 Q59.6726 327.118 57.8439 330.683 Q56.0384 334.225 56.0384 341.354 Q56.0384 348.461 57.8439 352.026 Q59.6726 355.567 63.2837 355.567 Q66.918 355.567 68.7235 352.026 Q70.5522 348.461 70.5522 341.354 Q70.5522 334.225 68.7235 330.683 Q66.918 327.118 63.2837 327.118 M63.2837 323.415 Q69.0939 323.415 72.1494 328.021 Q75.2281 332.604 75.2281 341.354 Q75.2281 350.081 72.1494 354.688 Q69.0939 359.271 63.2837 359.271 Q57.4736 359.271 54.3949 354.688 Q51.3393 350.081 51.3393 341.354 Q51.3393 332.604 54.3949 328.021 Q57.4736 323.415 63.2837 323.415 Z\" fill=\"#000000\" fill-rule=\"evenodd\" fill-opacity=\"1\" /><path clip-path=\"url(#clip810)\" d=\"M 0 0 M80.2975 352.72 L85.1818 352.72 L85.1818 358.6 L80.2975 358.6 L80.2975 352.72 Z\" fill=\"#000000\" fill-rule=\"evenodd\" fill-opacity=\"1\" /><path clip-path=\"url(#clip810)\" d=\"M 0 0 M90.3901 357.882 L90.3901 353.623 Q92.1493 354.456 93.9549 354.896 Q95.7604 355.336 97.4965 355.336 Q102.126 355.336 104.557 352.234 Q107.01 349.109 107.358 342.766 Q106.015 344.757 103.955 345.822 Q101.895 346.887 99.3946 346.887 Q94.2095 346.887 91.1771 343.762 Q88.1679 340.614 88.1679 335.174 Q88.1679 329.85 91.316 326.632 Q94.4641 323.415 99.6956 323.415 Q105.691 323.415 108.839 328.021 Q112.01 332.604 112.01 341.354 Q112.01 349.526 108.121 354.41 Q104.256 359.271 97.7048 359.271 Q95.9456 359.271 94.14 358.924 Q92.3345 358.576 90.3901 357.882 M99.6956 343.229 Q102.844 343.229 104.672 341.076 Q106.524 338.924 106.524 335.174 Q106.524 331.447 104.672 329.294 Q102.844 327.118 99.6956 327.118 Q96.5474 327.118 94.6956 329.294 Q92.8669 331.447 92.8669 335.174 Q92.8669 338.924 94.6956 341.076 Q96.5474 343.229 99.6956 343.229 Z\" fill=\"#000000\" fill-rule=\"evenodd\" fill-opacity=\"1\" /><path clip-path=\"url(#clip810)\" d=\"M 0 0 M55.1356 80.9938 L62.7745 80.9938 L62.7745 54.6282 L54.4643 56.2949 L54.4643 52.0357 L62.7282 50.369 L67.4041 50.369 L67.4041 80.9938 L75.0429 80.9938 L75.0429 84.929 L55.1356 84.929 L55.1356 80.9938 Z\" fill=\"#000000\" fill-rule=\"evenodd\" fill-opacity=\"1\" /><path clip-path=\"url(#clip810)\" d=\"M 0 0 M80.1123 79.0494 L84.9966 79.0494 L84.9966 84.929 L80.1123 84.929 L80.1123 79.0494 Z\" fill=\"#000000\" fill-rule=\"evenodd\" fill-opacity=\"1\" /><path clip-path=\"url(#clip810)\" d=\"M 0 0 M100.066 53.4477 Q96.4548 53.4477 94.6262 57.0125 Q92.8206 60.5541 92.8206 67.6837 Q92.8206 74.7902 94.6262 78.355 Q96.4548 81.8966 100.066 81.8966 Q103.7 81.8966 105.506 78.355 Q107.334 74.7902 107.334 67.6837 Q107.334 60.5541 105.506 57.0125 Q103.7 53.4477 100.066 53.4477 M100.066 49.744 Q105.876 49.744 108.932 54.3505 Q112.01 58.9338 112.01 67.6837 Q112.01 76.4105 108.932 81.017 Q105.876 85.6003 100.066 85.6003 Q94.2558 85.6003 91.1771 81.017 Q88.1216 76.4105 88.1216 67.6837 Q88.1216 58.9338 91.1771 54.3505 Q94.2558 49.744 100.066 49.744 Z\" fill=\"#000000\" fill-rule=\"evenodd\" fill-opacity=\"1\" /><circle clip-path=\"url(#clip812)\" cx=\"1108.58\" cy=\"1153.3\" r=\"14\" fill=\"#b93655\" fill-rule=\"evenodd\" fill-opacity=\"1\" stroke=\"#000000\" stroke-opacity=\"1\" stroke-width=\"3.2\"/>\n",
       "<circle clip-path=\"url(#clip812)\" cx=\"770.766\" cy=\"823.05\" r=\"14\" fill=\"#61136e\" fill-rule=\"evenodd\" fill-opacity=\"1\" stroke=\"#000000\" stroke-opacity=\"1\" stroke-width=\"3.2\"/>\n",
       "<circle clip-path=\"url(#clip812)\" cx=\"1474.61\" cy=\"583.603\" r=\"14\" fill=\"#c23b4f\" fill-rule=\"evenodd\" fill-opacity=\"1\" stroke=\"#000000\" stroke-opacity=\"1\" stroke-width=\"3.2\"/>\n",
       "<circle clip-path=\"url(#clip812)\" cx=\"1636.71\" cy=\"1090.97\" r=\"14\" fill=\"#f47a17\" fill-rule=\"evenodd\" fill-opacity=\"1\" stroke=\"#000000\" stroke-opacity=\"1\" stroke-width=\"3.2\"/>\n",
       "<circle clip-path=\"url(#clip812)\" cx=\"1402.31\" cy=\"1176.98\" r=\"14\" fill=\"#e45a31\" fill-rule=\"evenodd\" fill-opacity=\"1\" stroke=\"#000000\" stroke-opacity=\"1\" stroke-width=\"3.2\"/>\n",
       "<circle clip-path=\"url(#clip812)\" cx=\"1401.46\" cy=\"787.061\" r=\"14\" fill=\"#c9404a\" fill-rule=\"evenodd\" fill-opacity=\"1\" stroke=\"#000000\" stroke-opacity=\"1\" stroke-width=\"3.2\"/>\n",
       "<circle clip-path=\"url(#clip812)\" cx=\"1752.87\" cy=\"541.083\" r=\"14\" fill=\"#e45a31\" fill-rule=\"evenodd\" fill-opacity=\"1\" stroke=\"#000000\" stroke-opacity=\"1\" stroke-width=\"3.2\"/>\n",
       "<circle clip-path=\"url(#clip812)\" cx=\"1227.57\" cy=\"1240.69\" r=\"14\" fill=\"#d24643\" fill-rule=\"evenodd\" fill-opacity=\"1\" stroke=\"#000000\" stroke-opacity=\"1\" stroke-width=\"3.2\"/>\n",
       "<circle clip-path=\"url(#clip812)\" cx=\"210.409\" cy=\"1123.61\" r=\"14\" fill=\"#140a36\" fill-rule=\"evenodd\" fill-opacity=\"1\" stroke=\"#000000\" stroke-opacity=\"1\" stroke-width=\"3.2\"/>\n",
       "<circle clip-path=\"url(#clip812)\" cx=\"934.594\" cy=\"1405.44\" r=\"14\" fill=\"#af315b\" fill-rule=\"evenodd\" fill-opacity=\"1\" stroke=\"#000000\" stroke-opacity=\"1\" stroke-width=\"3.2\"/>\n",
       "<circle clip-path=\"url(#clip812)\" cx=\"742.359\" cy=\"800.296\" r=\"14\" fill=\"#5a116d\" fill-rule=\"evenodd\" fill-opacity=\"1\" stroke=\"#000000\" stroke-opacity=\"1\" stroke-width=\"3.2\"/>\n",
       "<circle clip-path=\"url(#clip812)\" cx=\"1482.48\" cy=\"1147.32\" r=\"14\" fill=\"#ea6428\" fill-rule=\"evenodd\" fill-opacity=\"1\" stroke=\"#000000\" stroke-opacity=\"1\" stroke-width=\"3.2\"/>\n",
       "<circle clip-path=\"url(#clip812)\" cx=\"873.194\" cy=\"1140.45\" r=\"14\" fill=\"#902468\" fill-rule=\"evenodd\" fill-opacity=\"1\" stroke=\"#000000\" stroke-opacity=\"1\" stroke-width=\"3.2\"/>\n",
       "<circle clip-path=\"url(#clip812)\" cx=\"1272.57\" cy=\"1258.33\" r=\"14\" fill=\"#d94d3c\" fill-rule=\"evenodd\" fill-opacity=\"1\" stroke=\"#000000\" stroke-opacity=\"1\" stroke-width=\"3.2\"/>\n",
       "<circle clip-path=\"url(#clip812)\" cx=\"1444.31\" cy=\"1210.76\" r=\"14\" fill=\"#ea6329\" fill-rule=\"evenodd\" fill-opacity=\"1\" stroke=\"#000000\" stroke-opacity=\"1\" stroke-width=\"3.2\"/>\n",
       "<circle clip-path=\"url(#clip812)\" cx=\"1556.49\" cy=\"761.316\" r=\"14\" fill=\"#dc5139\" fill-rule=\"evenodd\" fill-opacity=\"1\" stroke=\"#000000\" stroke-opacity=\"1\" stroke-width=\"3.2\"/>\n",
       "<circle clip-path=\"url(#clip812)\" cx=\"1040.43\" cy=\"1307.84\" r=\"14\" fill=\"#ba3654\" fill-rule=\"evenodd\" fill-opacity=\"1\" stroke=\"#000000\" stroke-opacity=\"1\" stroke-width=\"3.2\"/>\n",
       "<circle clip-path=\"url(#clip812)\" cx=\"847.792\" cy=\"887.166\" r=\"14\" fill=\"#751b6d\" fill-rule=\"evenodd\" fill-opacity=\"1\" stroke=\"#000000\" stroke-opacity=\"1\" stroke-width=\"3.2\"/>\n",
       "<circle clip-path=\"url(#clip812)\" cx=\"609.929\" cy=\"807.518\" r=\"14\" fill=\"#420a68\" fill-rule=\"evenodd\" fill-opacity=\"1\" stroke=\"#000000\" stroke-opacity=\"1\" stroke-width=\"3.2\"/>\n",
       "<circle clip-path=\"url(#clip812)\" cx=\"1251.16\" cy=\"485.974\" r=\"14\" fill=\"#942566\" fill-rule=\"evenodd\" fill-opacity=\"1\" stroke=\"#000000\" stroke-opacity=\"1\" stroke-width=\"3.2\"/>\n",
       "<circle clip-path=\"url(#clip812)\" cx=\"518.959\" cy=\"1214.92\" r=\"14\" fill=\"#570f6d\" fill-rule=\"evenodd\" fill-opacity=\"1\" stroke=\"#000000\" stroke-opacity=\"1\" stroke-width=\"3.2\"/>\n",
       "<circle clip-path=\"url(#clip812)\" cx=\"1132.9\" cy=\"590.103\" r=\"14\" fill=\"#8a2269\" fill-rule=\"evenodd\" fill-opacity=\"1\" stroke=\"#000000\" stroke-opacity=\"1\" stroke-width=\"3.2\"/>\n",
       "<circle clip-path=\"url(#clip812)\" cx=\"1484.25\" cy=\"854.283\" r=\"14\" fill=\"#da4e3b\" fill-rule=\"evenodd\" fill-opacity=\"1\" stroke=\"#000000\" stroke-opacity=\"1\" stroke-width=\"3.2\"/>\n",
       "<circle clip-path=\"url(#clip812)\" cx=\"1293.36\" cy=\"1175.98\" r=\"14\" fill=\"#d74b3f\" fill-rule=\"evenodd\" fill-opacity=\"1\" stroke=\"#000000\" stroke-opacity=\"1\" stroke-width=\"3.2\"/>\n",
       "<circle clip-path=\"url(#clip812)\" cx=\"1002.67\" cy=\"1240.09\" r=\"14\" fill=\"#af305b\" fill-rule=\"evenodd\" fill-opacity=\"1\" stroke=\"#000000\" stroke-opacity=\"1\" stroke-width=\"3.2\"/>\n",
       "<circle clip-path=\"url(#clip812)\" cx=\"1331.93\" cy=\"1229.07\" r=\"14\" fill=\"#df5337\" fill-rule=\"evenodd\" fill-opacity=\"1\" stroke=\"#000000\" stroke-opacity=\"1\" stroke-width=\"3.2\"/>\n",
       "<circle clip-path=\"url(#clip812)\" cx=\"1893.29\" cy=\"1337.38\" r=\"14\" fill=\"#f9c42b\" fill-rule=\"evenodd\" fill-opacity=\"1\" stroke=\"#000000\" stroke-opacity=\"1\" stroke-width=\"3.2\"/>\n",
       "<circle clip-path=\"url(#clip812)\" cx=\"1489.77\" cy=\"847.443\" r=\"14\" fill=\"#da4e3b\" fill-rule=\"evenodd\" fill-opacity=\"1\" stroke=\"#000000\" stroke-opacity=\"1\" stroke-width=\"3.2\"/>\n",
       "<circle clip-path=\"url(#clip812)\" cx=\"1170.64\" cy=\"862.084\" r=\"14\" fill=\"#ab2f5d\" fill-rule=\"evenodd\" fill-opacity=\"1\" stroke=\"#000000\" stroke-opacity=\"1\" stroke-width=\"3.2\"/>\n",
       "<circle clip-path=\"url(#clip812)\" cx=\"422.198\" cy=\"1214.27\" r=\"14\" fill=\"#440a68\" fill-rule=\"evenodd\" fill-opacity=\"1\" stroke=\"#000000\" stroke-opacity=\"1\" stroke-width=\"3.2\"/>\n",
       "<circle clip-path=\"url(#clip812)\" cx=\"1801.99\" cy=\"878.069\" r=\"14\" fill=\"#f7840f\" fill-rule=\"evenodd\" fill-opacity=\"1\" stroke=\"#000000\" stroke-opacity=\"1\" stroke-width=\"3.2\"/>\n",
       "<circle clip-path=\"url(#clip812)\" cx=\"1444.52\" cy=\"1074.92\" r=\"14\" fill=\"#e35932\" fill-rule=\"evenodd\" fill-opacity=\"1\" stroke=\"#000000\" stroke-opacity=\"1\" stroke-width=\"3.2\"/>\n",
       "<circle clip-path=\"url(#clip812)\" cx=\"1187.13\" cy=\"1249.04\" r=\"14\" fill=\"#cd4247\" fill-rule=\"evenodd\" fill-opacity=\"1\" stroke=\"#000000\" stroke-opacity=\"1\" stroke-width=\"3.2\"/>\n",
       "<circle clip-path=\"url(#clip812)\" cx=\"592.709\" cy=\"87.9763\" r=\"14\" fill=\"#000003\" fill-rule=\"evenodd\" fill-opacity=\"1\" stroke=\"#000000\" stroke-opacity=\"1\" stroke-width=\"3.2\"/>\n",
       "<circle clip-path=\"url(#clip812)\" cx=\"2290.36\" cy=\"1203.75\" r=\"14\" fill=\"#fcfea4\" fill-rule=\"evenodd\" fill-opacity=\"1\" stroke=\"#000000\" stroke-opacity=\"1\" stroke-width=\"3.2\"/>\n",
       "<circle clip-path=\"url(#clip812)\" cx=\"506.241\" cy=\"852.086\" r=\"14\" fill=\"#33095e\" fill-rule=\"evenodd\" fill-opacity=\"1\" stroke=\"#000000\" stroke-opacity=\"1\" stroke-width=\"3.2\"/>\n",
       "<circle clip-path=\"url(#clip812)\" cx=\"838.041\" cy=\"674.977\" r=\"14\" fill=\"#5f126e\" fill-rule=\"evenodd\" fill-opacity=\"1\" stroke=\"#000000\" stroke-opacity=\"1\" stroke-width=\"3.2\"/>\n",
       "<circle clip-path=\"url(#clip812)\" cx=\"1305.13\" cy=\"1058.33\" r=\"14\" fill=\"#d04544\" fill-rule=\"evenodd\" fill-opacity=\"1\" stroke=\"#000000\" stroke-opacity=\"1\" stroke-width=\"3.2\"/>\n",
       "<circle clip-path=\"url(#clip812)\" cx=\"1198.47\" cy=\"622.474\" r=\"14\" fill=\"#992765\" fill-rule=\"evenodd\" fill-opacity=\"1\" stroke=\"#000000\" stroke-opacity=\"1\" stroke-width=\"3.2\"/>\n",
       "<circle clip-path=\"url(#clip812)\" cx=\"955.897\" cy=\"1122.05\" r=\"14\" fill=\"#9d2963\" fill-rule=\"evenodd\" fill-opacity=\"1\" stroke=\"#000000\" stroke-opacity=\"1\" stroke-width=\"3.2\"/>\n",
       "<circle clip-path=\"url(#clip812)\" cx=\"1440.83\" cy=\"1016.46\" r=\"14\" fill=\"#df5436\" fill-rule=\"evenodd\" fill-opacity=\"1\" stroke=\"#000000\" stroke-opacity=\"1\" stroke-width=\"3.2\"/>\n",
       "<circle clip-path=\"url(#clip812)\" cx=\"649.588\" cy=\"973.881\" r=\"14\" fill=\"#5a106d\" fill-rule=\"evenodd\" fill-opacity=\"1\" stroke=\"#000000\" stroke-opacity=\"1\" stroke-width=\"3.2\"/>\n",
       "<circle clip-path=\"url(#clip812)\" cx=\"650.405\" cy=\"1165.93\" r=\"14\" fill=\"#6a176e\" fill-rule=\"evenodd\" fill-opacity=\"1\" stroke=\"#000000\" stroke-opacity=\"1\" stroke-width=\"3.2\"/>\n",
       "<circle clip-path=\"url(#clip812)\" cx=\"1142.81\" cy=\"874.151\" r=\"14\" fill=\"#a82d5e\" fill-rule=\"evenodd\" fill-opacity=\"1\" stroke=\"#000000\" stroke-opacity=\"1\" stroke-width=\"3.2\"/>\n",
       "<circle clip-path=\"url(#clip812)\" cx=\"1790.82\" cy=\"1445.72\" r=\"14\" fill=\"#fbb91e\" fill-rule=\"evenodd\" fill-opacity=\"1\" stroke=\"#000000\" stroke-opacity=\"1\" stroke-width=\"3.2\"/>\n",
       "<circle clip-path=\"url(#clip812)\" cx=\"1859.87\" cy=\"701.859\" r=\"14\" fill=\"#f47c15\" fill-rule=\"evenodd\" fill-opacity=\"1\" stroke=\"#000000\" stroke-opacity=\"1\" stroke-width=\"3.2\"/>\n",
       "<circle clip-path=\"url(#clip812)\" cx=\"317.469\" cy=\"1051.28\" r=\"14\" fill=\"#210c4a\" fill-rule=\"evenodd\" fill-opacity=\"1\" stroke=\"#000000\" stroke-opacity=\"1\" stroke-width=\"3.2\"/>\n",
       "<circle clip-path=\"url(#clip812)\" cx=\"1157.78\" cy=\"1212.25\" r=\"14\" fill=\"#c63d4d\" fill-rule=\"evenodd\" fill-opacity=\"1\" stroke=\"#000000\" stroke-opacity=\"1\" stroke-width=\"3.2\"/>\n",
       "<circle clip-path=\"url(#clip812)\" cx=\"1507.12\" cy=\"1127.94\" r=\"14\" fill=\"#ec6726\" fill-rule=\"evenodd\" fill-opacity=\"1\" stroke=\"#000000\" stroke-opacity=\"1\" stroke-width=\"3.2\"/>\n",
       "<circle clip-path=\"url(#clip812)\" cx=\"1518.72\" cy=\"1122.09\" r=\"14\" fill=\"#ec6825\" fill-rule=\"evenodd\" fill-opacity=\"1\" stroke=\"#000000\" stroke-opacity=\"1\" stroke-width=\"3.2\"/>\n",
       "<path clip-path=\"url(#clip812)\" d=\"M1161.89 879.7 L1161.89 911.7 L1193.89 911.7 L1193.89 879.7 L1161.89 879.7 Z\" fill=\"#000000\" fill-rule=\"evenodd\" fill-opacity=\"1\" stroke=\"none\"/>\n",
       "</svg>\n"
      ]
     },
     "execution_count": 7,
     "metadata": {},
     "output_type": "execute_result"
    }
   ],
   "source": [
    "xs = floor(minimum(P[:,1]), digits=1):0.1:ceil(maximum(P[:,1]), digits=1)\n",
    "ys = floor(minimum(P[:,2]), digits=1):0.1:ceil(maximum(P[:,2]), digits=1)\n",
    "fz(x, y) = objective([x, y])\n",
    "#plot(xs, ys, fz, st=:contour)\n",
    "scatter!(P[:, 1], P[:, 2], zcolor=R, legend=:none)\n",
    "scatter!([x[1]], [x[2]], color=:black, marker=:rect)"
   ]
  },
  {
   "cell_type": "markdown",
   "metadata": {
    "slideshow": {
     "slide_type": "slide"
    }
   },
   "source": [
    "As we can see, some individuals in our distribution are better than our current expert. We'll shift towards those individuals by multiplying each individual in $N$ by their normalized fitness $A$, then summing over all individuals. This gives us the direction of the gradient based on our population."
   ]
  },
  {
   "cell_type": "code",
   "execution_count": 8,
   "metadata": {
    "slideshow": {
     "slide_type": "fragment"
    }
   },
   "outputs": [
    {
     "data": {
      "text/plain": [
       "(0.8105353266096639, -0.3650354597447928)"
      ]
     },
     "execution_count": 8,
     "metadata": {},
     "output_type": "execute_result"
    }
   ],
   "source": [
    "(dot(N[:, 1], A) / npop, dot(N[:, 2], A) / npop)"
   ]
  },
  {
   "cell_type": "markdown",
   "metadata": {
    "slideshow": {
     "slide_type": "fragment"
    }
   },
   "source": [
    "Now that we know which direction to move in, we apply this step with a step size of $\\alpha$. In other words, we move $\\alpha$ along our approximation of the gradient."
   ]
  },
  {
   "cell_type": "code",
   "execution_count": 9,
   "metadata": {
    "slideshow": {
     "slide_type": "fragment"
    }
   },
   "outputs": [
    {
     "name": "stdout",
     "output_type": "stream",
     "text": [
      "Solution :[3.5, -0.2]\n",
      "x :[0.3200685997731962, 0.6974277294210535]\n",
      "x`: [0.3281739530392928, 0.6937773748236056]\n"
     ]
    }
   ],
   "source": [
    "println(\"Solution :\", s)\n",
    "println(\"x :\", x)\n",
    "x = x .+ alpha/(npop * sigma) .* [dot(N[:, i], A) for i in 1:size(N, 2)]\n",
    "println(\"x`: \", x)"
   ]
  },
  {
   "cell_type": "markdown",
   "metadata": {
    "slideshow": {
     "slide_type": "fragment"
    }
   },
   "source": [
    "As we can see, we've moved closer to the objective. Let's plot this over multiple steps."
   ]
  },
  {
   "cell_type": "code",
   "execution_count": 31,
   "metadata": {
    "slideshow": {
     "slide_type": "slide"
    }
   },
   "outputs": [
    {
     "data": {
      "text/plain": [
       "step (generic function with 1 method)"
      ]
     },
     "execution_count": 31,
     "metadata": {},
     "output_type": "execute_result"
    }
   ],
   "source": [
    "xs = -5.0:0.1:5.0\n",
    "ys = -5.0:0.1:5.0\n",
    "fz(x, y) = objective([x, y]);\n",
    "\n",
    "function step(x::Array{Float64}; npop=50, sigma=0.1, alpha=0.01, visualize=false, anim=Nothing)\n",
    "    N = randn(npop, 2)\n",
    "    P = repeat(x, 1, npop)' .+ sigma .* N\n",
    "    R = zeros(npop)\n",
    "    for i in eachindex(R)\n",
    "        R[i] = objective(P[i, :])\n",
    "    end\n",
    "    A = (R .- mean(R)) ./ std(R)\n",
    "    \n",
    "    if visualize\n",
    "        #plot(xs, ys, fz, st=:contour)\n",
    "        scatter!(P[:, 1], P[:, 2], xlims=(-5, 5), ylims=(-5, 5), zcolor=R)\n",
    "        scatter!([x[1]], [x[2]], legend=:none, color=:black, marker=:rect)\n",
    "        frame(anim)\n",
    "    end\n",
    "    \n",
    "    x .+ alpha/(npop * sigma) .* [dot(N[:, i], A) for i in 1:size(N, 2)]\n",
    "end"
   ]
  },
  {
   "cell_type": "code",
   "execution_count": 50,
   "metadata": {
    "slideshow": {
     "slide_type": "slide"
    }
   },
   "outputs": [
    {
     "data": {
      "text/plain": [
       "plot_obj (generic function with 1 method)"
      ]
     },
     "execution_count": 50,
     "metadata": {},
     "output_type": "execute_result"
    }
   ],
   "source": [
    "function plot_obj()\n",
    "    x = randn(2)\n",
    "    println(\"x initial: \", x)\n",
    "    anim = Animation()\n",
    "    i_print = 0\n",
    "    for i in 1:500\n",
    "        i_print += 1\n",
    "        v = mod(i, 10) == 0\n",
    "        x = step(x, npop=50, sigma=0.5, alpha=0.04, visualize= v, anim=anim)\n",
    "        if i_print == 50\n",
    "            println(\"x[\", i ,\"] :\", x)\n",
    "            i_print = 0\n",
    "        end\n",
    "    end\n",
    "    println(\"x final: \", x)\n",
    "    #gif(anim)\n",
    "end"
   ]
  },
  {
   "cell_type": "markdown",
   "metadata": {
    "slideshow": {
     "slide_type": "slide"
    }
   },
   "source": [
    "Let's also define some other objective functions just for testing."
   ]
  },
  {
   "cell_type": "code",
   "execution_count": 12,
   "metadata": {
    "slideshow": {
     "slide_type": "fragment"
    }
   },
   "outputs": [
    {
     "data": {
      "text/plain": [
       "rastrigin (generic function with 1 method)"
      ]
     },
     "execution_count": 12,
     "metadata": {},
     "output_type": "execute_result"
    }
   ],
   "source": [
    "himmelblau(x::Array{Float64}) = -((x[1]^2 + x[2] - 11)^2 + (x[1] + x[2]^2 - 7)^2)\n",
    "styblinski_tang(x::Array{Float64}) = -(sum(x.^4 .- 16 .* x.^2 .+ 5 .* x) / 2.0)\n",
    "rastrigin(x::Array{Float64}) = -(10.0 * length(x) .+ sum((x .- s).^2 .- 10 .* cos.(2*pi.*(x .- s))))"
   ]
  },
  {
   "cell_type": "code",
   "execution_count": 51,
   "metadata": {
    "slideshow": {
     "slide_type": "slide"
    }
   },
   "outputs": [
    {
     "name": "stdout",
     "output_type": "stream",
     "text": [
      "x initial: [-0.4388479397386948, -1.4105320588072743]\n",
      "x[50] :[0.8330619871453633, -1.1652339146012238]\n",
      "x[100] :[1.5800819028442121, -0.9903527441338482]\n",
      "x[150] :[2.2960929493174453, -0.849685270005394]\n",
      "x[200] :[2.700891889097882, -0.7996562390570006]\n",
      "x[250] :[2.9783295977139037, -0.6041071406116885]\n",
      "x[300] :[3.1510858545854625, -0.39647116669225774]\n",
      "x[350] :[3.3029124768597695, -0.2832060360813022]\n",
      "x[400] :[3.3520615289548643, -0.15932638550191042]\n",
      "x[450] :[3.4431544372768554, -0.13523490767389515]\n",
      "x[500] :[3.519490416509412, -0.12496297267161076]\n",
      "x final: [3.519490416509412, -0.12496297267161076]\n"
     ]
    }
   ],
   "source": [
    "objective = rastrigin # sphere, himmelblau, styblinski_tang, rastrigin\n",
    "plot_obj()"
   ]
  },
  {
   "cell_type": "markdown",
   "metadata": {
    "slideshow": {
     "slide_type": "slide"
    }
   },
   "source": [
    "## <a id=\"edas\"></a>Estimation of Distribution Algorithms"
   ]
  },
  {
   "cell_type": "markdown",
   "metadata": {
    "slideshow": {
     "slide_type": "slide"
    }
   },
   "source": [
    "EDAs are algorithms that build a probabilistic model of candidate solutions. These are not the subject of today's lecture, but are similar and worth looking into.\n",
    "    \n",
    "+ Mühlenbein, Heinz, and Gerhard Paass. \"From recombination of genes to the estimation of distributions I. Binary parameters.\" International conference on parallel problem solving from nature. Springer, Berlin, Heidelberg, 1996.\n",
    "+ Larrañaga, Pedro, and Jose A. Lozano, eds. Estimation of distribution algorithms: A new tool for evolutionary computation. Vol. 2. Springer Science & Business Media, 2001.\n",
    "+ Pelikan, Martin, David E. Goldberg, and Fernando G. Lobo. \"A survey of optimization by building and using probabilistic models.\" Computational optimization and applications 21.1 (2002): 5-20."
   ]
  },
  {
   "cell_type": "markdown",
   "metadata": {
    "slideshow": {
     "slide_type": "slide"
    }
   },
   "source": [
    "<img src=\"../imgs/EDAs.png\" width=\"60%\">\n",
    "Hauschild, Mark, and Martin Pelikan. \"An introduction and survey of estimation of distribution algorithms.\" Swarm and evolutionary computation 1.3 (2011): 111-128."
   ]
  }
 ],
 "metadata": {
  "@webio": {
   "lastCommId": null,
   "lastKernelId": null
  },
  "celltoolbar": "Slideshow",
  "kernelspec": {
   "display_name": "Julia 1.4.1",
   "language": "julia",
   "name": "julia-1.4"
  },
  "language_info": {
   "file_extension": ".jl",
   "mimetype": "application/julia",
   "name": "julia",
   "version": "1.4.1"
  }
 },
 "nbformat": 4,
 "nbformat_minor": 2
}
