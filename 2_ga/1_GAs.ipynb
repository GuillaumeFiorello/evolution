{
 "cells": [
  {
   "cell_type": "markdown",
   "metadata": {
    "slideshow": {
     "slide_type": "slide"
    }
   },
   "source": [
    "<img src=\"../imgs/logo.png\" width=\"20%\" align=\"right\" style=\"margin:0px 20px\">\n",
    "\n",
    "\n",
    "# Evolutionary Computation\n",
    "\n",
    "## 2.1 Genetic Algorithms\n",
    "\n",
    "<a rel=\"license\" href=\"http://creativecommons.org/licenses/by-sa/4.0/\"><img alt=\"Creative Commons License\" align=\"left\" src=\"https://i.creativecommons.org/l/by-sa/4.0/80x15.png\" /></a>&nbsp;| Dennis G. Wilson | <a href=\"https://d9w.github.io/evolution/\">https://d9w.github.io/evolution/</a>"
   ]
  },
  {
   "cell_type": "markdown",
   "metadata": {
    "slideshow": {
     "slide_type": "slide"
    }
   },
   "source": [
    "## Outline\n",
    "\n",
    "1. [Genetic Algorithm Overview](#overview)\n",
    "2. [Initialization](#populations)\n",
    "3. [Selection](#selection)\n",
    "4. [Mutation](#mutation)\n",
    "5. [Crossover](#crossover)\n",
    "6. [Putting it all together](#together)\n",
    "7. [Elitism](#elitism)"
   ]
  },
  {
   "cell_type": "code",
   "execution_count": 31,
   "metadata": {
    "slideshow": {
     "slide_type": "slide"
    }
   },
   "outputs": [],
   "source": [
    "using Random\n",
    "using Statistics\n",
    "using StatsBase\n",
    "using Plots"
   ]
  },
  {
   "cell_type": "markdown",
   "metadata": {
    "slideshow": {
     "slide_type": "slide"
    }
   },
   "source": [
    "## <a id=\"overview\"></a>Genetic Algorithm Overview"
   ]
  },
  {
   "cell_type": "markdown",
   "metadata": {
    "slideshow": {
     "slide_type": "fragment"
    }
   },
   "source": [
    "Recall the outline of evolutionary algorithms that we discussed in section 1.2. The outline of an evolutionary algorithm is to start with an initial population and then to iterate through a cycle of evaluation, selection, and modification, passing the modified population on as the next generation.\n",
    "\n",
    "<img src=\"../imgs/AlgoG.png\">\n",
    "\n",
    "This is the underlying algorithm of a genetic algorithm. This term is general and can cover a variety of more specific algorithms such as NSGA-II and NEAT, but in this section we'll discuss a classic genetic algorithm."
   ]
  },
  {
   "cell_type": "markdown",
   "metadata": {
    "slideshow": {
     "slide_type": "slide"
    }
   },
   "source": [
    "The defining features of a classic genetic algorithm are a large population initialized at random and the mutation and crossover operators during the modification step. In a classic GA, we will use a selection method to randomly select two individuals from the population, combine them using crossover, mutate the resulting individual, and add it to the new population. We will repeat this until the new population is full. Let's write that basic outline as a function."
   ]
  },
  {
   "cell_type": "code",
   "execution_count": 32,
   "metadata": {
    "slideshow": {
     "slide_type": "slide"
    }
   },
   "outputs": [
    {
     "data": {
      "text/plain": [
       "step_ga (generic function with 1 method)"
      ]
     },
     "execution_count": 32,
     "metadata": {},
     "output_type": "execute_result"
    }
   ],
   "source": [
    "abstract type Individual end\n",
    "\n",
    "function step_ga(population::Array{<:Individual})\n",
    "    evaluate!(population)\n",
    "    max_fit = maximum([i.fitness for i in population])\n",
    "    \n",
    "    new_population = Array{Individual}(undef, 0)\n",
    "    while length(new_population) < length(population)\n",
    "        parent1 = select(population)\n",
    "        parent2 = select(population)\n",
    "        child1 = crossover(parent1, parent2)\n",
    "        child1 = mutate(child1)\n",
    "        push!(new_population, child1)\n",
    "    end\n",
    "    \n",
    "    new_population, max_fit\n",
    "end"
   ]
  },
  {
   "cell_type": "markdown",
   "metadata": {
    "slideshow": {
     "slide_type": "slide"
    }
   },
   "source": [
    "We've defined a single step of the genetic algorithm and can fill in the functions later. Let's now define the full evolution, keeping track of the maximum fitness in the population at each step."
   ]
  },
  {
   "cell_type": "code",
   "execution_count": 33,
   "metadata": {
    "slideshow": {
     "slide_type": "fragment"
    }
   },
   "outputs": [
    {
     "data": {
      "text/plain": [
       "ga (generic function with 1 method)"
      ]
     },
     "execution_count": 33,
     "metadata": {},
     "output_type": "execute_result"
    }
   ],
   "source": [
    "function ga(n_generations::Int)\n",
    "    population = initialize()\n",
    "    fits = zeros(n_generations)\n",
    "    \n",
    "    for i in 1:n_generations\n",
    "        population, max_fit = step_ga(population)\n",
    "        fits[i] = max_fit\n",
    "    end\n",
    "    \n",
    "    fits\n",
    "end"
   ]
  },
  {
   "cell_type": "markdown",
   "metadata": {
    "slideshow": {
     "slide_type": "slide"
    }
   },
   "source": [
    "## <a id=\"initialization\"></a>Initialization"
   ]
  },
  {
   "cell_type": "markdown",
   "metadata": {
    "slideshow": {
     "slide_type": "fragment"
    }
   },
   "source": [
    "Earlier we saw a new bit of Julia:\n",
    "```\n",
    "abstract type Individual end\n",
    "```\n",
    "This let us use the type `Array{Individual}` in our function definition even though a concrete definition of `Individual` hasn't been used yet. In the last notebook, we had to redefine functions in order to switch between the boolean `Individual` and the `FloatIndividual`.  Abstract types let us define functions which can work for either type, as long as they are subtypes of this abstract. This is known as multiple dispatch and we'll use it to define the later parts of our genetic algorithm. Let's define our two `Individual` types for now."
   ]
  },
  {
   "cell_type": "code",
   "execution_count": 34,
   "metadata": {
    "slideshow": {
     "slide_type": "slide"
    }
   },
   "outputs": [
    {
     "data": {
      "text/plain": [
       "BitInd"
      ]
     },
     "execution_count": 34,
     "metadata": {},
     "output_type": "execute_result"
    }
   ],
   "source": [
    "mutable struct BitInd <: Individual\n",
    "    genes::BitArray\n",
    "    fitness::Float64\n",
    "end\n",
    "\n",
    "function BitInd(n::Int)\n",
    "    BitInd(bitrand(n), -Inf)\n",
    "end"
   ]
  },
  {
   "cell_type": "code",
   "execution_count": 35,
   "metadata": {
    "slideshow": {
     "slide_type": "slide"
    }
   },
   "outputs": [
    {
     "data": {
      "text/plain": [
       "FloatInd"
      ]
     },
     "execution_count": 35,
     "metadata": {},
     "output_type": "execute_result"
    }
   ],
   "source": [
    "mutable struct FloatInd <: Individual\n",
    "    genes::Array{Float64}\n",
    "    fitness::Float64\n",
    "end\n",
    "\n",
    "function FloatInd(n::Int)\n",
    "    FloatInd(rand(n), -Inf)\n",
    "end"
   ]
  },
  {
   "cell_type": "markdown",
   "metadata": {
    "slideshow": {
     "slide_type": "slide"
    }
   },
   "source": [
    "This will be very useful later, but for now just remember that we still have our two different types, `BitInd` and `FloatInd`, but that we can refer to both using `Individual`. Let's create population initialization methods for these two types."
   ]
  },
  {
   "cell_type": "code",
   "execution_count": 36,
   "metadata": {
    "slideshow": {
     "slide_type": "fragment"
    }
   },
   "outputs": [
    {
     "data": {
      "text/plain": [
       "float_init (generic function with 1 method)"
      ]
     },
     "execution_count": 36,
     "metadata": {},
     "output_type": "execute_result"
    }
   ],
   "source": [
    "function bit_init(population_size::Int, n::Int)\n",
    "    [BitInd(n) for i in 1:population_size]\n",
    "end\n",
    "\n",
    "function float_init(population_size::Int, n::Int)\n",
    "    [FloatInd(n) for i in 1:population_size]\n",
    "end"
   ]
  },
  {
   "cell_type": "markdown",
   "metadata": {
    "slideshow": {
     "slide_type": "slide"
    }
   },
   "source": [
    "Let's see our different populations:"
   ]
  },
  {
   "cell_type": "code",
   "execution_count": 37,
   "metadata": {
    "slideshow": {
     "slide_type": "fragment"
    }
   },
   "outputs": [
    {
     "data": {
      "text/plain": [
       "3-element Array{BitInd,1}:\n",
       " BitInd(Bool[1, 0, 1, 0], -Inf)\n",
       " BitInd(Bool[0, 0, 0, 0], -Inf)\n",
       " BitInd(Bool[0, 1, 0, 0], -Inf)"
      ]
     },
     "execution_count": 37,
     "metadata": {},
     "output_type": "execute_result"
    }
   ],
   "source": [
    "population = bit_init(100, 4)\n",
    "population[1:3]"
   ]
  },
  {
   "cell_type": "code",
   "execution_count": 38,
   "metadata": {
    "scrolled": true,
    "slideshow": {
     "slide_type": "fragment"
    }
   },
   "outputs": [
    {
     "data": {
      "text/plain": [
       "3-element Array{FloatInd,1}:\n",
       " FloatInd([0.8263776379938528, 0.349079292332368, 0.5017145855266611, 0.28912890052875007], -Inf)\n",
       " FloatInd([0.14784503713657915, 0.8591292321950263, 0.4604059587207743, 0.7133242640940549], -Inf)\n",
       " FloatInd([0.6865062828181014, 0.9087476113660229, 0.03770643365655979, 0.11209833655559387], -Inf)"
      ]
     },
     "execution_count": 38,
     "metadata": {},
     "output_type": "execute_result"
    }
   ],
   "source": [
    "population = float_init(100, 4)\n",
    "population[1:3]"
   ]
  },
  {
   "cell_type": "markdown",
   "metadata": {
    "slideshow": {
     "slide_type": "slide"
    }
   },
   "source": [
    "## <a id=\"populations\"></a>Evaluation\n",
    "\n",
    "The first part of the genetic algorithm step is the evaluation. We'll look at two evaluation functions, one for our binary individual type, and one for the floating point individuals."
   ]
  },
  {
   "cell_type": "markdown",
   "metadata": {
    "slideshow": {
     "slide_type": "slide"
    }
   },
   "source": [
    "Looking at our genetic algorithm implementation, we use an `evaluate!` function to evaluate the entire population. Let's write that general function."
   ]
  },
  {
   "cell_type": "code",
   "execution_count": 39,
   "metadata": {
    "slideshow": {
     "slide_type": "fragment"
    }
   },
   "outputs": [
    {
     "data": {
      "text/plain": [
       "evaluate! (generic function with 1 method)"
      ]
     },
     "execution_count": 39,
     "metadata": {},
     "output_type": "execute_result"
    }
   ],
   "source": [
    "function evaluate!(population::Array{<:Individual})\n",
    "    for i in population\n",
    "        i.fitness = objective(i)\n",
    "    end\n",
    "end"
   ]
  },
  {
   "cell_type": "markdown",
   "metadata": {
    "slideshow": {
     "slide_type": "fragment"
    }
   },
   "source": [
    "Note the `<:Individual` in our definition of `population`. This means that population is expected to be an `Array` of any subtype of `Individual`, meaning `BitInd` or `FloatInd`. This evaluate function will work for both types then. Let's write individual objective functions for these two different types. For the binary type, we'll use the OneMax function again."
   ]
  },
  {
   "cell_type": "code",
   "execution_count": 40,
   "metadata": {
    "slideshow": {
     "slide_type": "slide"
    }
   },
   "outputs": [
    {
     "data": {
      "text/plain": [
       "objective (generic function with 2 methods)"
      ]
     },
     "execution_count": 40,
     "metadata": {},
     "output_type": "execute_result"
    }
   ],
   "source": [
    "function objective(i::BitInd)\n",
    "    sum(i.genes)\n",
    "end"
   ]
  },
  {
   "cell_type": "markdown",
   "metadata": {
    "slideshow": {
     "slide_type": "fragment"
    }
   },
   "source": [
    "Let's test that."
   ]
  },
  {
   "cell_type": "code",
   "execution_count": 41,
   "metadata": {
    "slideshow": {
     "slide_type": "fragment"
    }
   },
   "outputs": [
    {
     "name": "stdout",
     "output_type": "stream",
     "text": [
      "[1.0, 2.0, 2.0, 3.0, 1.0, 2.0, 0.0, 2.0, 0.0, 1.0]"
     ]
    }
   ],
   "source": [
    "population = bit_init(10, 4)\n",
    "evaluate!(population)\n",
    "print([i.fitness for i in population])"
   ]
  },
  {
   "cell_type": "markdown",
   "metadata": {
    "slideshow": {
     "slide_type": "slide"
    }
   },
   "source": [
    "For a floating point problem, let's look at something a bit more difficult than the sphere problem. Specifically, we'll use the [Rastrigin function](https://en.wikipedia.org/wiki/Test_functions_for_optimization)."
   ]
  },
  {
   "cell_type": "code",
   "execution_count": 42,
   "metadata": {
    "slideshow": {
     "slide_type": "fragment"
    }
   },
   "outputs": [
    {
     "data": {
      "text/plain": [
       "fz (generic function with 1 method)"
      ]
     },
     "execution_count": 42,
     "metadata": {},
     "output_type": "execute_result"
    }
   ],
   "source": [
    "rastrigin(x) = 10*length(x) .+ sum(x.^2 .- 10 .* cos.(2*pi*x))\n",
    "\n",
    "x = -5:0.1:5\n",
    "y = -5:0.1:5\n",
    "fz(x, y) = rastrigin([x, y])\n",
    "#plot(plot(x, y, fz, st=:surface), plot(x, y, fz, st=:contour), size = (800, 300))"
   ]
  },
  {
   "cell_type": "markdown",
   "metadata": {
    "slideshow": {
     "slide_type": "slide"
    }
   },
   "source": [
    "We'll use a smaller section of the rastrigin function for demonstration, but you can also try the Genetic Algorithm on the entire space as an exercise."
   ]
  },
  {
   "cell_type": "code",
   "execution_count": 43,
   "metadata": {
    "slideshow": {
     "slide_type": "fragment"
    }
   },
   "outputs": [
    {
     "data": {
      "text/plain": [
       "fz (generic function with 1 method)"
      ]
     },
     "execution_count": 43,
     "metadata": {},
     "output_type": "execute_result"
    }
   ],
   "source": [
    "x = 0:0.1:1\n",
    "y = 0:0.1:1\n",
    "fz(x, y) = -rastrigin([x*5-2, y*5-2])\n",
    "#fz(x, y) = exp(-rastrigin([x*5-2, y*5-2]))\n",
    "#plot(plot(x, y, fz, st=:surface), plot(x, y, fz, st=:contour), size = (800, 300))"
   ]
  },
  {
   "cell_type": "markdown",
   "metadata": {
    "slideshow": {
     "slide_type": "slide"
    }
   },
   "source": [
    "Let's define our second objective function using this. Note that we'll also just call it `objective`, like the one we defined before. However, we'll be making a second function which applies to the `FloatInd` type."
   ]
  },
  {
   "cell_type": "code",
   "execution_count": 44,
   "metadata": {
    "slideshow": {
     "slide_type": "fragment"
    }
   },
   "outputs": [
    {
     "data": {
      "text/plain": [
       "objective (generic function with 2 methods)"
      ]
     },
     "execution_count": 44,
     "metadata": {},
     "output_type": "execute_result"
    }
   ],
   "source": [
    "function objective(i::FloatInd)\n",
    "    -rastrigin(i.genes .* 5 .- 2)\n",
    "end"
   ]
  },
  {
   "cell_type": "markdown",
   "metadata": {
    "slideshow": {
     "slide_type": "fragment"
    }
   },
   "source": [
    "We can see the different functions we've defined used `methods`"
   ]
  },
  {
   "cell_type": "code",
   "execution_count": 45,
   "metadata": {
    "slideshow": {
     "slide_type": "fragment"
    }
   },
   "outputs": [
    {
     "data": {
      "text/html": [
       "# 2 methods for generic function <b>objective</b>:<ul><li> objective(i::<b>FloatInd</b>) in Main at In[44]:2</li> <li> objective(i::<b>BitInd</b>) in Main at In[40]:2</li> </ul>"
      ],
      "text/plain": [
       "# 2 methods for generic function \"objective\":\n",
       "[1] objective(i::FloatInd) in Main at In[44]:2\n",
       "[2] objective(i::BitInd) in Main at In[40]:2"
      ]
     },
     "execution_count": 45,
     "metadata": {},
     "output_type": "execute_result"
    }
   ],
   "source": [
    "methods(objective)"
   ]
  },
  {
   "cell_type": "markdown",
   "metadata": {
    "slideshow": {
     "slide_type": "slide"
    }
   },
   "source": [
    "Let's see what our first population of floating point individuals looks like in the Rastrigin function **search space**."
   ]
  },
  {
   "cell_type": "code",
   "execution_count": 46,
   "metadata": {
    "slideshow": {
     "slide_type": "fragment"
    }
   },
   "outputs": [
    {
     "data": {
      "text/plain": [
       "100-element Array{Float64,1}:\n",
       " 0.9991152194117112\n",
       " 0.8767159494951648\n",
       " 0.8980489781203178\n",
       " 0.2686435922682735\n",
       " 0.38893369204246686\n",
       " 0.9147387067393382\n",
       " 0.7208278360507998\n",
       " 0.041048685570822974\n",
       " 0.4159222057335772\n",
       " 0.5841381409123618\n",
       " 0.33821580791756434\n",
       " 0.9103087731097097\n",
       " 0.599255475369586\n",
       " ⋮\n",
       " 0.146862997290228\n",
       " 0.794837798594141\n",
       " 0.4201543149487157\n",
       " 0.801751750442365\n",
       " 0.769519279558246\n",
       " 0.8900458816424004\n",
       " 0.3655637596574519\n",
       " 0.19588865453010196\n",
       " 0.4055980571938258\n",
       " 0.4675709091296194\n",
       " 0.8693118955716814\n",
       " 0.9277457631198822"
      ]
     },
     "execution_count": 46,
     "metadata": {},
     "output_type": "execute_result"
    }
   ],
   "source": [
    "population = float_init(100, 10)\n",
    "xs = [i.genes[1] for i in population]\n",
    "ys = [i.genes[2] for i in population]\n",
    "#plot(x, y, fz, st=:contour)\n",
    "#scatter!(xs, ys, label=\"pop\", legend=:none)"
   ]
  },
  {
   "cell_type": "markdown",
   "metadata": {
    "slideshow": {
     "slide_type": "slide"
    }
   },
   "source": [
    "As we can see, having a large population of individuals means we have a chance of already starting out in a good position. However, some others might be in **local maxima** - points which are higher than the areas around them, but not the **global maximum**. These points can be deceptive if we tend to select only the individuals in high points. What we want to do with selection in a genetic algorithm is maintain **diversity** while moving towards the **global maximum**. Let's see how we can do that."
   ]
  },
  {
   "cell_type": "markdown",
   "metadata": {
    "slideshow": {
     "slide_type": "fragment"
    }
   },
   "source": [
    "<div class=\"alert alert-success\">\n",
    "    <b>Exercise 1</b>\n",
    "    <br/>\n",
    "Visualize the sphere function from the first class. Why do you think the Rastrigin function is more difficult than the sphere function? Is there any other function which looks more difficult?\n",
    "    <br/>\n",
    "</div>"
   ]
  },
  {
   "cell_type": "markdown",
   "metadata": {
    "slideshow": {
     "slide_type": "slide"
    }
   },
   "source": [
    "## <a id=\"selection\"></a>Selection"
   ]
  },
  {
   "cell_type": "markdown",
   "metadata": {
    "slideshow": {
     "slide_type": "fragment"
    }
   },
   "source": [
    "Which individuals should pass on their genetic information to the next generation? We could imagine a simple schemes of taking the best individuals globally, say 20% of them, and mutating each of these experts for the next generation. In a simple problem like this one, such a method might work. However, we would lose important genetic diversity, one of the main advantages of our large population. Let's explore some different selection methods. To do so, we'll need to evaluate all individuals."
   ]
  },
  {
   "cell_type": "markdown",
   "metadata": {
    "slideshow": {
     "slide_type": "slide"
    }
   },
   "source": [
    "For this first proposed method of taking the top individuals, which is called **truncation selection**, we'll need to order them. In Julia, we can override any function, including the basic functions of the language. To order our population, we can use the main `sort!` method, which relies on being able to compare individuals using `<`. So let's make a new definition for the `<`, or `isless`, function."
   ]
  },
  {
   "cell_type": "code",
   "execution_count": 47,
   "metadata": {
    "slideshow": {
     "slide_type": "fragment"
    }
   },
   "outputs": [
    {
     "name": "stdout",
     "output_type": "stream",
     "text": [
      "FloatInd([0.29015833881688935, 0.9991152194117112, 0.8517286905039165, 0.7915208216414682, 0.50900330385737, 0.8664814645652679, 0.5639439749819661, 0.48708500388507514, 0.24121249294267155, 0.14658185461605444], -135.313018813169)\n",
      "FloatInd([0.210139661479108, 0.8767159494951648, 0.033147500623497805, 0.08708198370896558, 0.3954006851605649, 0.6011349578403289, 0.11105515313588743, 0.2019386850113738, 0.8348056746701762, 0.7297172870652255], -106.88861308119198)\n",
      "true\n"
     ]
    }
   ],
   "source": [
    "import Base.isless\n",
    "\n",
    "function isless(i1::Individual, i2::Individual)\n",
    "    i1.fitness < i2.fitness\n",
    "end\n",
    "evaluate!(population)\n",
    "println(population[1])\n",
    "println(population[2])\n",
    "println(population[1] < population[2])"
   ]
  },
  {
   "cell_type": "markdown",
   "metadata": {
    "slideshow": {
     "slide_type": "fragment"
    }
   },
   "source": [
    "Now that we have a way of comparing individuals, we can order lists of them using the `sort!` function. We'll sort from biggest to smallest to have the best individuals at the beginning of the population."
   ]
  },
  {
   "cell_type": "code",
   "execution_count": 48,
   "metadata": {
    "slideshow": {
     "slide_type": "slide"
    }
   },
   "outputs": [
    {
     "name": "stdout",
     "output_type": "stream",
     "text": [
      "First: -132.2718728248372, last :-127.30117941290294\n",
      "Max: -70.78676603242158, min: -171.60784325834229\n"
     ]
    }
   ],
   "source": [
    "population = float_init(100, 10)\n",
    "evaluate!(population)\n",
    "fits = [i.fitness for i in population]\n",
    "println(\"First: \", population[1].fitness, \", last :\", population[end].fitness)\n",
    "println(\"Max: \", maximum(fits), \", min: \", minimum(fits))"
   ]
  },
  {
   "cell_type": "code",
   "execution_count": 49,
   "metadata": {
    "slideshow": {
     "slide_type": "fragment"
    }
   },
   "outputs": [
    {
     "name": "stdout",
     "output_type": "stream",
     "text": [
      "First: -70.78676603242158, last :-171.60784325834229\n",
      "Max: -70.78676603242158, min: -171.60784325834229\n"
     ]
    }
   ],
   "source": [
    "sort!(population, rev=true)\n",
    "println(\"First: \", population[1].fitness, \", last :\", population[end].fitness)\n",
    "println(\"Max: \", maximum(fits), \", min: \", minimum(fits))"
   ]
  },
  {
   "cell_type": "markdown",
   "metadata": {
    "slideshow": {
     "slide_type": "slide"
    }
   },
   "source": [
    "Let's plot where our best individuals are"
   ]
  },
  {
   "cell_type": "code",
   "execution_count": 50,
   "metadata": {
    "slideshow": {
     "slide_type": "fragment"
    }
   },
   "outputs": [
    {
     "data": {
      "image/svg+xml": [
       "<?xml version=\"1.0\" encoding=\"utf-8\"?>\n",
       "<svg xmlns=\"http://www.w3.org/2000/svg\" xmlns:xlink=\"http://www.w3.org/1999/xlink\" width=\"600\" height=\"400\" viewBox=\"0 0 2400 1600\">\n",
       "<defs>\n",
       "  <clipPath id=\"clip010\">\n",
       "    <rect x=\"0\" y=\"0\" width=\"2400\" height=\"1600\"/>\n",
       "  </clipPath>\n",
       "</defs>\n",
       "<path clip-path=\"url(#clip010)\" d=\"\n",
       "M0 1600 L2400 1600 L2400 0 L0 0  Z\n",
       "  \" fill=\"#ffffff\" fill-rule=\"evenodd\" fill-opacity=\"1\"/>\n",
       "<defs>\n",
       "  <clipPath id=\"clip011\">\n",
       "    <rect x=\"480\" y=\"0\" width=\"1681\" height=\"1600\"/>\n",
       "  </clipPath>\n",
       "</defs>\n",
       "<path clip-path=\"url(#clip010)\" d=\"\n",
       "M139.191 1486.45 L1869.85 1486.45 L1869.85 47.2441 L139.191 47.2441  Z\n",
       "  \" fill=\"#ffffff\" fill-rule=\"evenodd\" fill-opacity=\"1\"/>\n",
       "<defs>\n",
       "  <clipPath id=\"clip012\">\n",
       "    <rect x=\"139\" y=\"47\" width=\"1732\" height=\"1440\"/>\n",
       "  </clipPath>\n",
       "</defs>\n",
       "<polyline clip-path=\"url(#clip012)\" style=\"stroke:#000000; stroke-width:2; stroke-opacity:0.1; fill:none\" points=\"\n",
       "  189.155,1486.45 189.155,47.2441 \n",
       "  \"/>\n",
       "<polyline clip-path=\"url(#clip012)\" style=\"stroke:#000000; stroke-width:2; stroke-opacity:0.1; fill:none\" points=\"\n",
       "  598.884,1486.45 598.884,47.2441 \n",
       "  \"/>\n",
       "<polyline clip-path=\"url(#clip012)\" style=\"stroke:#000000; stroke-width:2; stroke-opacity:0.1; fill:none\" points=\"\n",
       "  1008.61,1486.45 1008.61,47.2441 \n",
       "  \"/>\n",
       "<polyline clip-path=\"url(#clip012)\" style=\"stroke:#000000; stroke-width:2; stroke-opacity:0.1; fill:none\" points=\"\n",
       "  1418.34,1486.45 1418.34,47.2441 \n",
       "  \"/>\n",
       "<polyline clip-path=\"url(#clip012)\" style=\"stroke:#000000; stroke-width:2; stroke-opacity:0.1; fill:none\" points=\"\n",
       "  1828.07,1486.45 1828.07,47.2441 \n",
       "  \"/>\n",
       "<polyline clip-path=\"url(#clip010)\" style=\"stroke:#000000; stroke-width:4; stroke-opacity:1; fill:none\" points=\"\n",
       "  139.191,1486.45 1869.85,1486.45 \n",
       "  \"/>\n",
       "<polyline clip-path=\"url(#clip010)\" style=\"stroke:#000000; stroke-width:4; stroke-opacity:1; fill:none\" points=\"\n",
       "  189.155,1486.45 189.155,1469.18 \n",
       "  \"/>\n",
       "<polyline clip-path=\"url(#clip010)\" style=\"stroke:#000000; stroke-width:4; stroke-opacity:1; fill:none\" points=\"\n",
       "  598.884,1486.45 598.884,1469.18 \n",
       "  \"/>\n",
       "<polyline clip-path=\"url(#clip010)\" style=\"stroke:#000000; stroke-width:4; stroke-opacity:1; fill:none\" points=\"\n",
       "  1008.61,1486.45 1008.61,1469.18 \n",
       "  \"/>\n",
       "<polyline clip-path=\"url(#clip010)\" style=\"stroke:#000000; stroke-width:4; stroke-opacity:1; fill:none\" points=\"\n",
       "  1418.34,1486.45 1418.34,1469.18 \n",
       "  \"/>\n",
       "<polyline clip-path=\"url(#clip010)\" style=\"stroke:#000000; stroke-width:4; stroke-opacity:1; fill:none\" points=\"\n",
       "  1828.07,1486.45 1828.07,1469.18 \n",
       "  \"/>\n",
       "<path clip-path=\"url(#clip010)\" d=\"M 0 0 M157.165 1515.64 Q153.553 1515.64 151.725 1519.2 Q149.919 1522.75 149.919 1529.87 Q149.919 1536.98 151.725 1540.55 Q153.553 1544.09 157.165 1544.09 Q160.799 1544.09 162.604 1540.55 Q164.433 1536.98 164.433 1529.87 Q164.433 1522.75 162.604 1519.2 Q160.799 1515.64 157.165 1515.64 M157.165 1511.93 Q162.975 1511.93 166.03 1516.54 Q169.109 1521.12 169.109 1529.87 Q169.109 1538.6 166.03 1543.21 Q162.975 1547.79 157.165 1547.79 Q151.354 1547.79 148.276 1543.21 Q145.22 1538.6 145.22 1529.87 Q145.22 1521.12 148.276 1516.54 Q151.354 1511.93 157.165 1511.93 Z\" fill=\"#000000\" fill-rule=\"evenodd\" fill-opacity=\"1\" /><path clip-path=\"url(#clip010)\" d=\"M 0 0 M174.178 1541.24 L179.063 1541.24 L179.063 1547.12 L174.178 1547.12 L174.178 1541.24 Z\" fill=\"#000000\" fill-rule=\"evenodd\" fill-opacity=\"1\" /><path clip-path=\"url(#clip010)\" d=\"M 0 0 M194.132 1515.64 Q190.521 1515.64 188.692 1519.2 Q186.887 1522.75 186.887 1529.87 Q186.887 1536.98 188.692 1540.55 Q190.521 1544.09 194.132 1544.09 Q197.766 1544.09 199.572 1540.55 Q201.4 1536.98 201.4 1529.87 Q201.4 1522.75 199.572 1519.2 Q197.766 1515.64 194.132 1515.64 M194.132 1511.93 Q199.942 1511.93 202.998 1516.54 Q206.076 1521.12 206.076 1529.87 Q206.076 1538.6 202.998 1543.21 Q199.942 1547.79 194.132 1547.79 Q188.322 1547.79 185.243 1543.21 Q182.188 1538.6 182.188 1529.87 Q182.188 1521.12 185.243 1516.54 Q188.322 1511.93 194.132 1511.93 Z\" fill=\"#000000\" fill-rule=\"evenodd\" fill-opacity=\"1\" /><path clip-path=\"url(#clip010)\" d=\"M 0 0 M221.146 1515.64 Q217.535 1515.64 215.706 1519.2 Q213.9 1522.75 213.9 1529.87 Q213.9 1536.98 215.706 1540.55 Q217.535 1544.09 221.146 1544.09 Q224.78 1544.09 226.585 1540.55 Q228.414 1536.98 228.414 1529.87 Q228.414 1522.75 226.585 1519.2 Q224.78 1515.64 221.146 1515.64 M221.146 1511.93 Q226.956 1511.93 230.011 1516.54 Q233.09 1521.12 233.09 1529.87 Q233.09 1538.6 230.011 1543.21 Q226.956 1547.79 221.146 1547.79 Q215.336 1547.79 212.257 1543.21 Q209.201 1538.6 209.201 1529.87 Q209.201 1521.12 212.257 1516.54 Q215.336 1511.93 221.146 1511.93 Z\" fill=\"#000000\" fill-rule=\"evenodd\" fill-opacity=\"1\" /><path clip-path=\"url(#clip010)\" d=\"M 0 0 M568.189 1515.64 Q564.578 1515.64 562.75 1519.2 Q560.944 1522.75 560.944 1529.87 Q560.944 1536.98 562.75 1540.55 Q564.578 1544.09 568.189 1544.09 Q571.824 1544.09 573.629 1540.55 Q575.458 1536.98 575.458 1529.87 Q575.458 1522.75 573.629 1519.2 Q571.824 1515.64 568.189 1515.64 M568.189 1511.93 Q574 1511.93 577.055 1516.54 Q580.134 1521.12 580.134 1529.87 Q580.134 1538.6 577.055 1543.21 Q574 1547.79 568.189 1547.79 Q562.379 1547.79 559.301 1543.21 Q556.245 1538.6 556.245 1529.87 Q556.245 1521.12 559.301 1516.54 Q562.379 1511.93 568.189 1511.93 Z\" fill=\"#000000\" fill-rule=\"evenodd\" fill-opacity=\"1\" /><path clip-path=\"url(#clip010)\" d=\"M 0 0 M585.203 1541.24 L590.087 1541.24 L590.087 1547.12 L585.203 1547.12 L585.203 1541.24 Z\" fill=\"#000000\" fill-rule=\"evenodd\" fill-opacity=\"1\" /><path clip-path=\"url(#clip010)\" d=\"M 0 0 M599.185 1543.18 L615.504 1543.18 L615.504 1547.12 L593.56 1547.12 L593.56 1543.18 Q596.222 1540.43 600.805 1535.8 Q605.411 1531.15 606.592 1529.81 Q608.837 1527.28 609.717 1525.55 Q610.62 1523.79 610.62 1522.1 Q610.62 1519.34 608.675 1517.61 Q606.754 1515.87 603.652 1515.87 Q601.453 1515.87 598.999 1516.63 Q596.569 1517.4 593.791 1518.95 L593.791 1514.23 Q596.615 1513.09 599.069 1512.51 Q601.523 1511.93 603.56 1511.93 Q608.93 1511.93 612.124 1514.62 Q615.319 1517.31 615.319 1521.8 Q615.319 1523.93 614.509 1525.85 Q613.722 1527.74 611.615 1530.34 Q611.036 1531.01 607.935 1534.23 Q604.833 1537.42 599.185 1543.18 Z\" fill=\"#000000\" fill-rule=\"evenodd\" fill-opacity=\"1\" /><path clip-path=\"url(#clip010)\" d=\"M 0 0 M620.62 1512.56 L638.976 1512.56 L638.976 1516.5 L624.902 1516.5 L624.902 1524.97 Q625.921 1524.62 626.939 1524.46 Q627.958 1524.27 628.976 1524.27 Q634.763 1524.27 638.143 1527.44 Q641.522 1530.62 641.522 1536.03 Q641.522 1541.61 638.05 1544.71 Q634.578 1547.79 628.259 1547.79 Q626.083 1547.79 623.814 1547.42 Q621.569 1547.05 619.161 1546.31 L619.161 1541.61 Q621.245 1542.74 623.467 1543.3 Q625.689 1543.86 628.166 1543.86 Q632.171 1543.86 634.509 1541.75 Q636.846 1539.64 636.846 1536.03 Q636.846 1532.42 634.509 1530.31 Q632.171 1528.21 628.166 1528.21 Q626.291 1528.21 624.416 1528.62 Q622.564 1529.04 620.62 1529.92 L620.62 1512.56 Z\" fill=\"#000000\" fill-rule=\"evenodd\" fill-opacity=\"1\" /><path clip-path=\"url(#clip010)\" d=\"M 0 0 M977.119 1515.64 Q973.508 1515.64 971.68 1519.2 Q969.874 1522.75 969.874 1529.87 Q969.874 1536.98 971.68 1540.55 Q973.508 1544.09 977.119 1544.09 Q980.754 1544.09 982.559 1540.55 Q984.388 1536.98 984.388 1529.87 Q984.388 1522.75 982.559 1519.2 Q980.754 1515.64 977.119 1515.64 M977.119 1511.93 Q982.93 1511.93 985.985 1516.54 Q989.064 1521.12 989.064 1529.87 Q989.064 1538.6 985.985 1543.21 Q982.93 1547.79 977.119 1547.79 Q971.309 1547.79 968.231 1543.21 Q965.175 1538.6 965.175 1529.87 Q965.175 1521.12 968.231 1516.54 Q971.309 1511.93 977.119 1511.93 Z\" fill=\"#000000\" fill-rule=\"evenodd\" fill-opacity=\"1\" /><path clip-path=\"url(#clip010)\" d=\"M 0 0 M994.133 1541.24 L999.017 1541.24 L999.017 1547.12 L994.133 1547.12 L994.133 1541.24 Z\" fill=\"#000000\" fill-rule=\"evenodd\" fill-opacity=\"1\" /><path clip-path=\"url(#clip010)\" d=\"M 0 0 M1004.13 1512.56 L1022.49 1512.56 L1022.49 1516.5 L1008.42 1516.5 L1008.42 1524.97 Q1009.43 1524.62 1010.45 1524.46 Q1011.47 1524.27 1012.49 1524.27 Q1018.28 1524.27 1021.66 1527.44 Q1025.04 1530.62 1025.04 1536.03 Q1025.04 1541.61 1021.56 1544.71 Q1018.09 1547.79 1011.77 1547.79 Q1009.6 1547.79 1007.33 1547.42 Q1005.08 1547.05 1002.67 1546.31 L1002.67 1541.61 Q1004.76 1542.74 1006.98 1543.3 Q1009.2 1543.86 1011.68 1543.86 Q1015.68 1543.86 1018.02 1541.75 Q1020.36 1539.64 1020.36 1536.03 Q1020.36 1532.42 1018.02 1530.31 Q1015.68 1528.21 1011.68 1528.21 Q1009.8 1528.21 1007.93 1528.62 Q1006.08 1529.04 1004.13 1529.92 L1004.13 1512.56 Z\" fill=\"#000000\" fill-rule=\"evenodd\" fill-opacity=\"1\" /><path clip-path=\"url(#clip010)\" d=\"M 0 0 M1040.11 1515.64 Q1036.49 1515.64 1034.67 1519.2 Q1032.86 1522.75 1032.86 1529.87 Q1032.86 1536.98 1034.67 1540.55 Q1036.49 1544.09 1040.11 1544.09 Q1043.74 1544.09 1045.54 1540.55 Q1047.37 1536.98 1047.37 1529.87 Q1047.37 1522.75 1045.54 1519.2 Q1043.74 1515.64 1040.11 1515.64 M1040.11 1511.93 Q1045.92 1511.93 1048.97 1516.54 Q1052.05 1521.12 1052.05 1529.87 Q1052.05 1538.6 1048.97 1543.21 Q1045.92 1547.79 1040.11 1547.79 Q1034.3 1547.79 1031.22 1543.21 Q1028.16 1538.6 1028.16 1529.87 Q1028.16 1521.12 1031.22 1516.54 Q1034.3 1511.93 1040.11 1511.93 Z\" fill=\"#000000\" fill-rule=\"evenodd\" fill-opacity=\"1\" /><path clip-path=\"url(#clip010)\" d=\"M 0 0 M1387.3 1515.64 Q1383.69 1515.64 1381.86 1519.2 Q1380.05 1522.75 1380.05 1529.87 Q1380.05 1536.98 1381.86 1540.55 Q1383.69 1544.09 1387.3 1544.09 Q1390.93 1544.09 1392.74 1540.55 Q1394.57 1536.98 1394.57 1529.87 Q1394.57 1522.75 1392.74 1519.2 Q1390.93 1515.64 1387.3 1515.64 M1387.3 1511.93 Q1393.11 1511.93 1396.17 1516.54 Q1399.24 1521.12 1399.24 1529.87 Q1399.24 1538.6 1396.17 1543.21 Q1393.11 1547.79 1387.3 1547.79 Q1381.49 1547.79 1378.41 1543.21 Q1375.36 1538.6 1375.36 1529.87 Q1375.36 1521.12 1378.41 1516.54 Q1381.49 1511.93 1387.3 1511.93 Z\" fill=\"#000000\" fill-rule=\"evenodd\" fill-opacity=\"1\" /><path clip-path=\"url(#clip010)\" d=\"M 0 0 M1404.31 1541.24 L1409.2 1541.24 L1409.2 1547.12 L1404.31 1547.12 L1404.31 1541.24 Z\" fill=\"#000000\" fill-rule=\"evenodd\" fill-opacity=\"1\" /><path clip-path=\"url(#clip010)\" d=\"M 0 0 M1413.09 1512.56 L1435.31 1512.56 L1435.31 1514.55 L1422.76 1547.12 L1417.88 1547.12 L1429.68 1516.5 L1413.09 1516.5 L1413.09 1512.56 Z\" fill=\"#000000\" fill-rule=\"evenodd\" fill-opacity=\"1\" /><path clip-path=\"url(#clip010)\" d=\"M 0 0 M1440.42 1512.56 L1458.78 1512.56 L1458.78 1516.5 L1444.71 1516.5 L1444.71 1524.97 Q1445.72 1524.62 1446.74 1524.46 Q1447.76 1524.27 1448.78 1524.27 Q1454.57 1524.27 1457.95 1527.44 Q1461.33 1530.62 1461.33 1536.03 Q1461.33 1541.61 1457.85 1544.71 Q1454.38 1547.79 1448.06 1547.79 Q1445.89 1547.79 1443.62 1547.42 Q1441.37 1547.05 1438.97 1546.31 L1438.97 1541.61 Q1441.05 1542.74 1443.27 1543.3 Q1445.49 1543.86 1447.97 1543.86 Q1451.97 1543.86 1454.31 1541.75 Q1456.65 1539.64 1456.65 1536.03 Q1456.65 1532.42 1454.31 1530.31 Q1451.97 1528.21 1447.97 1528.21 Q1446.1 1528.21 1444.22 1528.62 Q1442.37 1529.04 1440.42 1529.92 L1440.42 1512.56 Z\" fill=\"#000000\" fill-rule=\"evenodd\" fill-opacity=\"1\" /><path clip-path=\"url(#clip010)\" d=\"M 0 0 M1786.46 1543.18 L1794.1 1543.18 L1794.1 1516.82 L1785.79 1518.49 L1785.79 1514.23 L1794.05 1512.56 L1798.73 1512.56 L1798.73 1543.18 L1806.37 1543.18 L1806.37 1547.12 L1786.46 1547.12 L1786.46 1543.18 Z\" fill=\"#000000\" fill-rule=\"evenodd\" fill-opacity=\"1\" /><path clip-path=\"url(#clip010)\" d=\"M 0 0 M1811.44 1541.24 L1816.32 1541.24 L1816.32 1547.12 L1811.44 1547.12 L1811.44 1541.24 Z\" fill=\"#000000\" fill-rule=\"evenodd\" fill-opacity=\"1\" /><path clip-path=\"url(#clip010)\" d=\"M 0 0 M1831.39 1515.64 Q1827.78 1515.64 1825.95 1519.2 Q1824.15 1522.75 1824.15 1529.87 Q1824.15 1536.98 1825.95 1540.55 Q1827.78 1544.09 1831.39 1544.09 Q1835.03 1544.09 1836.83 1540.55 Q1838.66 1536.98 1838.66 1529.87 Q1838.66 1522.75 1836.83 1519.2 Q1835.03 1515.64 1831.39 1515.64 M1831.39 1511.93 Q1837.2 1511.93 1840.26 1516.54 Q1843.34 1521.12 1843.34 1529.87 Q1843.34 1538.6 1840.26 1543.21 Q1837.2 1547.79 1831.39 1547.79 Q1825.58 1547.79 1822.5 1543.21 Q1819.45 1538.6 1819.45 1529.87 Q1819.45 1521.12 1822.5 1516.54 Q1825.58 1511.93 1831.39 1511.93 Z\" fill=\"#000000\" fill-rule=\"evenodd\" fill-opacity=\"1\" /><path clip-path=\"url(#clip010)\" d=\"M 0 0 M1858.4 1515.64 Q1854.79 1515.64 1852.97 1519.2 Q1851.16 1522.75 1851.16 1529.87 Q1851.16 1536.98 1852.97 1540.55 Q1854.79 1544.09 1858.4 1544.09 Q1862.04 1544.09 1863.84 1540.55 Q1865.67 1536.98 1865.67 1529.87 Q1865.67 1522.75 1863.84 1519.2 Q1862.04 1515.64 1858.4 1515.64 M1858.4 1511.93 Q1864.22 1511.93 1867.27 1516.54 Q1870.35 1521.12 1870.35 1529.87 Q1870.35 1538.6 1867.27 1543.21 Q1864.22 1547.79 1858.4 1547.79 Q1852.59 1547.79 1849.52 1543.21 Q1846.46 1538.6 1846.46 1529.87 Q1846.46 1521.12 1849.52 1516.54 Q1852.59 1511.93 1858.4 1511.93 Z\" fill=\"#000000\" fill-rule=\"evenodd\" fill-opacity=\"1\" /><polyline clip-path=\"url(#clip012)\" style=\"stroke:#000000; stroke-width:2; stroke-opacity:0.1; fill:none\" points=\"\n",
       "  139.191,1445.72 1869.85,1445.72 \n",
       "  \"/>\n",
       "<polyline clip-path=\"url(#clip012)\" style=\"stroke:#000000; stroke-width:2; stroke-opacity:0.1; fill:none\" points=\"\n",
       "  139.191,1114.56 1869.85,1114.56 \n",
       "  \"/>\n",
       "<polyline clip-path=\"url(#clip012)\" style=\"stroke:#000000; stroke-width:2; stroke-opacity:0.1; fill:none\" points=\"\n",
       "  139.191,783.404 1869.85,783.404 \n",
       "  \"/>\n",
       "<polyline clip-path=\"url(#clip012)\" style=\"stroke:#000000; stroke-width:2; stroke-opacity:0.1; fill:none\" points=\"\n",
       "  139.191,452.248 1869.85,452.248 \n",
       "  \"/>\n",
       "<polyline clip-path=\"url(#clip012)\" style=\"stroke:#000000; stroke-width:2; stroke-opacity:0.1; fill:none\" points=\"\n",
       "  139.191,121.092 1869.85,121.092 \n",
       "  \"/>\n",
       "<polyline clip-path=\"url(#clip010)\" style=\"stroke:#000000; stroke-width:4; stroke-opacity:1; fill:none\" points=\"\n",
       "  139.191,1486.45 139.191,47.2441 \n",
       "  \"/>\n",
       "<polyline clip-path=\"url(#clip010)\" style=\"stroke:#000000; stroke-width:4; stroke-opacity:1; fill:none\" points=\"\n",
       "  139.191,1445.72 159.959,1445.72 \n",
       "  \"/>\n",
       "<polyline clip-path=\"url(#clip010)\" style=\"stroke:#000000; stroke-width:4; stroke-opacity:1; fill:none\" points=\"\n",
       "  139.191,1114.56 159.959,1114.56 \n",
       "  \"/>\n",
       "<polyline clip-path=\"url(#clip010)\" style=\"stroke:#000000; stroke-width:4; stroke-opacity:1; fill:none\" points=\"\n",
       "  139.191,783.404 159.959,783.404 \n",
       "  \"/>\n",
       "<polyline clip-path=\"url(#clip010)\" style=\"stroke:#000000; stroke-width:4; stroke-opacity:1; fill:none\" points=\"\n",
       "  139.191,452.248 159.959,452.248 \n",
       "  \"/>\n",
       "<polyline clip-path=\"url(#clip010)\" style=\"stroke:#000000; stroke-width:4; stroke-opacity:1; fill:none\" points=\"\n",
       "  139.191,121.092 159.959,121.092 \n",
       "  \"/>\n",
       "<path clip-path=\"url(#clip010)\" d=\"M 0 0 M91.2465 1431.51 Q87.6354 1431.51 85.8068 1435.08 Q84.0012 1438.62 84.0012 1445.75 Q84.0012 1452.86 85.8068 1456.42 Q87.6354 1459.96 91.2465 1459.96 Q94.8808 1459.96 96.6863 1456.42 Q98.515 1452.86 98.515 1445.75 Q98.515 1438.62 96.6863 1435.08 Q94.8808 1431.51 91.2465 1431.51 M91.2465 1427.81 Q97.0567 1427.81 100.112 1432.42 Q103.191 1437 103.191 1445.75 Q103.191 1454.48 100.112 1459.08 Q97.0567 1463.67 91.2465 1463.67 Q85.4364 1463.67 82.3577 1459.08 Q79.3022 1454.48 79.3022 1445.75 Q79.3022 1437 82.3577 1432.42 Q85.4364 1427.81 91.2465 1427.81 Z\" fill=\"#000000\" fill-rule=\"evenodd\" fill-opacity=\"1\" /><path clip-path=\"url(#clip010)\" d=\"M 0 0 M56.2699 1127.9 L63.9087 1127.9 L63.9087 1101.54 L55.5986 1103.21 L55.5986 1098.95 L63.8624 1097.28 L68.5383 1097.28 L68.5383 1127.9 L76.1772 1127.9 L76.1772 1131.84 L56.2699 1131.84 L56.2699 1127.9 Z\" fill=\"#000000\" fill-rule=\"evenodd\" fill-opacity=\"1\" /><path clip-path=\"url(#clip010)\" d=\"M 0 0 M91.2465 1100.36 Q87.6354 1100.36 85.8068 1103.92 Q84.0012 1107.46 84.0012 1114.59 Q84.0012 1121.7 85.8068 1125.27 Q87.6354 1128.81 91.2465 1128.81 Q94.8808 1128.81 96.6863 1125.27 Q98.515 1121.7 98.515 1114.59 Q98.515 1107.46 96.6863 1103.92 Q94.8808 1100.36 91.2465 1100.36 M91.2465 1096.65 Q97.0567 1096.65 100.112 1101.26 Q103.191 1105.84 103.191 1114.59 Q103.191 1123.32 100.112 1127.93 Q97.0567 1132.51 91.2465 1132.51 Q85.4364 1132.51 82.3577 1127.93 Q79.3022 1123.32 79.3022 1114.59 Q79.3022 1105.84 82.3577 1101.26 Q85.4364 1096.65 91.2465 1096.65 Z\" fill=\"#000000\" fill-rule=\"evenodd\" fill-opacity=\"1\" /><path clip-path=\"url(#clip010)\" d=\"M 0 0 M59.8578 796.749 L76.1772 796.749 L76.1772 800.684 L54.2328 800.684 L54.2328 796.749 Q56.8949 793.994 61.4782 789.364 Q66.0846 784.712 67.2652 783.369 Q69.5105 780.846 70.3902 779.11 Q71.2929 777.351 71.2929 775.661 Q71.2929 772.906 69.3485 771.17 Q67.4272 769.434 64.3254 769.434 Q62.1263 769.434 59.6726 770.198 Q57.2421 770.962 54.4643 772.513 L54.4643 767.79 Q57.2884 766.656 59.7421 766.077 Q62.1958 765.499 64.2328 765.499 Q69.6031 765.499 72.7976 768.184 Q75.992 770.869 75.992 775.36 Q75.992 777.489 75.1818 779.411 Q74.3948 781.309 72.2883 783.901 Q71.7096 784.573 68.6078 787.79 Q65.5059 790.985 59.8578 796.749 Z\" fill=\"#000000\" fill-rule=\"evenodd\" fill-opacity=\"1\" /><path clip-path=\"url(#clip010)\" d=\"M 0 0 M91.2465 769.202 Q87.6354 769.202 85.8068 772.767 Q84.0012 776.309 84.0012 783.439 Q84.0012 790.545 85.8068 794.11 Q87.6354 797.651 91.2465 797.651 Q94.8808 797.651 96.6863 794.11 Q98.515 790.545 98.515 783.439 Q98.515 776.309 96.6863 772.767 Q94.8808 769.202 91.2465 769.202 M91.2465 765.499 Q97.0567 765.499 100.112 770.105 Q103.191 774.689 103.191 783.439 Q103.191 792.165 100.112 796.772 Q97.0567 801.355 91.2465 801.355 Q85.4364 801.355 82.3577 796.772 Q79.3022 792.165 79.3022 783.439 Q79.3022 774.689 82.3577 770.105 Q85.4364 765.499 91.2465 765.499 Z\" fill=\"#000000\" fill-rule=\"evenodd\" fill-opacity=\"1\" /><path clip-path=\"url(#clip010)\" d=\"M 0 0 M69.0476 450.894 Q72.404 451.611 74.279 453.88 Q76.1772 456.148 76.1772 459.482 Q76.1772 464.597 72.6587 467.398 Q69.1402 470.199 62.6587 470.199 Q60.4828 470.199 58.168 469.759 Q55.8764 469.343 53.4227 468.486 L53.4227 463.972 Q55.3671 465.107 57.6819 465.685 Q59.9967 466.264 62.5198 466.264 Q66.918 466.264 69.2096 464.528 Q71.5244 462.792 71.5244 459.482 Q71.5244 456.426 69.3717 454.713 Q67.242 452.977 63.4226 452.977 L59.3949 452.977 L59.3949 449.134 L63.6078 449.134 Q67.0569 449.134 68.8855 447.769 Q70.7142 446.38 70.7142 443.787 Q70.7142 441.125 68.8161 439.713 Q66.9411 438.278 63.4226 438.278 Q61.5013 438.278 59.3023 438.695 Q57.1032 439.111 54.4643 439.991 L54.4643 435.824 Q57.1264 435.084 59.4412 434.713 Q61.7791 434.343 63.8393 434.343 Q69.1633 434.343 72.2652 436.773 Q75.367 439.181 75.367 443.301 Q75.367 446.171 73.7235 448.162 Q72.08 450.13 69.0476 450.894 Z\" fill=\"#000000\" fill-rule=\"evenodd\" fill-opacity=\"1\" /><path clip-path=\"url(#clip010)\" d=\"M 0 0 M91.2465 438.047 Q87.6354 438.047 85.8068 441.611 Q84.0012 445.153 84.0012 452.283 Q84.0012 459.389 85.8068 462.954 Q87.6354 466.495 91.2465 466.495 Q94.8808 466.495 96.6863 462.954 Q98.515 459.389 98.515 452.283 Q98.515 445.153 96.6863 441.611 Q94.8808 438.047 91.2465 438.047 M91.2465 434.343 Q97.0567 434.343 100.112 438.949 Q103.191 443.533 103.191 452.283 Q103.191 461.009 100.112 465.616 Q97.0567 470.199 91.2465 470.199 Q85.4364 470.199 82.3577 465.616 Q79.3022 461.009 79.3022 452.283 Q79.3022 443.533 82.3577 438.949 Q85.4364 434.343 91.2465 434.343 Z\" fill=\"#000000\" fill-rule=\"evenodd\" fill-opacity=\"1\" /><path clip-path=\"url(#clip010)\" d=\"M 0 0 M66.5939 107.886 L54.7884 126.335 L66.5939 126.335 L66.5939 107.886 M65.367 103.812 L71.2466 103.812 L71.2466 126.335 L76.1772 126.335 L76.1772 130.224 L71.2466 130.224 L71.2466 138.372 L66.5939 138.372 L66.5939 130.224 L50.9921 130.224 L50.9921 125.71 L65.367 103.812 Z\" fill=\"#000000\" fill-rule=\"evenodd\" fill-opacity=\"1\" /><path clip-path=\"url(#clip010)\" d=\"M 0 0 M91.2465 106.891 Q87.6354 106.891 85.8068 110.455 Q84.0012 113.997 84.0012 121.127 Q84.0012 128.233 85.8068 131.798 Q87.6354 135.339 91.2465 135.339 Q94.8808 135.339 96.6863 131.798 Q98.515 128.233 98.515 121.127 Q98.515 113.997 96.6863 110.455 Q94.8808 106.891 91.2465 106.891 M91.2465 103.187 Q97.0567 103.187 100.112 107.793 Q103.191 112.377 103.191 121.127 Q103.191 129.853 100.112 134.46 Q97.0567 139.043 91.2465 139.043 Q85.4364 139.043 82.3577 134.46 Q79.3022 129.853 79.3022 121.127 Q79.3022 112.377 82.3577 107.793 Q85.4364 103.187 91.2465 103.187 Z\" fill=\"#000000\" fill-rule=\"evenodd\" fill-opacity=\"1\" /><path clip-path=\"url(#clip012)\" d=\"\n",
       "M189.155 1048.33 L189.155 1445.72 L197.35 1445.72 L197.35 1048.33 L189.155 1048.33 L189.155 1048.33  Z\n",
       "  \" fill=\"#009af9\" fill-rule=\"evenodd\" fill-opacity=\"1\"/>\n",
       "<polyline clip-path=\"url(#clip012)\" style=\"stroke:#000000; stroke-width:4; stroke-opacity:1; fill:none\" points=\"\n",
       "  189.155,1048.33 189.155,1445.72 197.35,1445.72 197.35,1048.33 189.155,1048.33 \n",
       "  \"/>\n",
       "<path clip-path=\"url(#clip012)\" d=\"\n",
       "M197.35 87.9763 L197.35 1445.72 L205.544 1445.72 L205.544 87.9763 L197.35 87.9763 L197.35 87.9763  Z\n",
       "  \" fill=\"#009af9\" fill-rule=\"evenodd\" fill-opacity=\"1\"/>\n",
       "<polyline clip-path=\"url(#clip012)\" style=\"stroke:#000000; stroke-width:4; stroke-opacity:1; fill:none\" points=\"\n",
       "  197.35,87.9763 197.35,1445.72 205.544,1445.72 205.544,87.9763 197.35,87.9763 \n",
       "  \"/>\n",
       "<path clip-path=\"url(#clip012)\" d=\"\n",
       "M205.544 386.017 L205.544 1445.72 L213.739 1445.72 L213.739 386.017 L205.544 386.017 L205.544 386.017  Z\n",
       "  \" fill=\"#009af9\" fill-rule=\"evenodd\" fill-opacity=\"1\"/>\n",
       "<polyline clip-path=\"url(#clip012)\" style=\"stroke:#000000; stroke-width:4; stroke-opacity:1; fill:none\" points=\"\n",
       "  205.544,386.017 205.544,1445.72 213.739,1445.72 213.739,386.017 205.544,386.017 \n",
       "  \"/>\n",
       "<path clip-path=\"url(#clip012)\" d=\"\n",
       "M213.739 948.982 L213.739 1445.72 L221.933 1445.72 L221.933 948.982 L213.739 948.982 L213.739 948.982  Z\n",
       "  \" fill=\"#009af9\" fill-rule=\"evenodd\" fill-opacity=\"1\"/>\n",
       "<polyline clip-path=\"url(#clip012)\" style=\"stroke:#000000; stroke-width:4; stroke-opacity:1; fill:none\" points=\"\n",
       "  213.739,948.982 213.739,1445.72 221.933,1445.72 221.933,948.982 213.739,948.982 \n",
       "  \"/>\n",
       "<circle clip-path=\"url(#clip012)\" cx=\"873.816\" cy=\"1427.01\" r=\"14\" fill=\"#e26f46\" fill-rule=\"evenodd\" fill-opacity=\"1\" stroke=\"#000000\" stroke-opacity=\"1\" stroke-width=\"3.2\"/>\n",
       "<circle clip-path=\"url(#clip012)\" cx=\"636.12\" cy=\"1441\" r=\"14\" fill=\"#e26f46\" fill-rule=\"evenodd\" fill-opacity=\"1\" stroke=\"#000000\" stroke-opacity=\"1\" stroke-width=\"3.2\"/>\n",
       "<circle clip-path=\"url(#clip012)\" cx=\"1050.85\" cy=\"1425.82\" r=\"14\" fill=\"#e26f46\" fill-rule=\"evenodd\" fill-opacity=\"1\" stroke=\"#000000\" stroke-opacity=\"1\" stroke-width=\"3.2\"/>\n",
       "<circle clip-path=\"url(#clip012)\" cx=\"1443.86\" cy=\"1439.64\" r=\"14\" fill=\"#e26f46\" fill-rule=\"evenodd\" fill-opacity=\"1\" stroke=\"#000000\" stroke-opacity=\"1\" stroke-width=\"3.2\"/>\n",
       "<circle clip-path=\"url(#clip012)\" cx=\"223.373\" cy=\"1444.48\" r=\"14\" fill=\"#e26f46\" fill-rule=\"evenodd\" fill-opacity=\"1\" stroke=\"#000000\" stroke-opacity=\"1\" stroke-width=\"3.2\"/>\n",
       "<circle clip-path=\"url(#clip012)\" cx=\"598.611\" cy=\"1445.7\" r=\"14\" fill=\"#e26f46\" fill-rule=\"evenodd\" fill-opacity=\"1\" stroke=\"#000000\" stroke-opacity=\"1\" stroke-width=\"3.2\"/>\n",
       "<circle clip-path=\"url(#clip012)\" cx=\"743.775\" cy=\"1443.82\" r=\"14\" fill=\"#e26f46\" fill-rule=\"evenodd\" fill-opacity=\"1\" stroke=\"#000000\" stroke-opacity=\"1\" stroke-width=\"3.2\"/>\n",
       "<circle clip-path=\"url(#clip012)\" cx=\"1223.42\" cy=\"1419.53\" r=\"14\" fill=\"#e26f46\" fill-rule=\"evenodd\" fill-opacity=\"1\" stroke=\"#000000\" stroke-opacity=\"1\" stroke-width=\"3.2\"/>\n",
       "<circle clip-path=\"url(#clip012)\" cx=\"415.689\" cy=\"1430.89\" r=\"14\" fill=\"#e26f46\" fill-rule=\"evenodd\" fill-opacity=\"1\" stroke=\"#000000\" stroke-opacity=\"1\" stroke-width=\"3.2\"/>\n",
       "<circle clip-path=\"url(#clip012)\" cx=\"1308.11\" cy=\"1426.67\" r=\"14\" fill=\"#e26f46\" fill-rule=\"evenodd\" fill-opacity=\"1\" stroke=\"#000000\" stroke-opacity=\"1\" stroke-width=\"3.2\"/>\n",
       "<circle clip-path=\"url(#clip012)\" cx=\"601.955\" cy=\"1436.34\" r=\"14\" fill=\"#e26f46\" fill-rule=\"evenodd\" fill-opacity=\"1\" stroke=\"#000000\" stroke-opacity=\"1\" stroke-width=\"3.2\"/>\n",
       "<circle clip-path=\"url(#clip012)\" cx=\"567.521\" cy=\"1419.14\" r=\"14\" fill=\"#e26f46\" fill-rule=\"evenodd\" fill-opacity=\"1\" stroke=\"#000000\" stroke-opacity=\"1\" stroke-width=\"3.2\"/>\n",
       "<circle clip-path=\"url(#clip012)\" cx=\"1178.75\" cy=\"1445.26\" r=\"14\" fill=\"#e26f46\" fill-rule=\"evenodd\" fill-opacity=\"1\" stroke=\"#000000\" stroke-opacity=\"1\" stroke-width=\"3.2\"/>\n",
       "<circle clip-path=\"url(#clip012)\" cx=\"1468.67\" cy=\"1443.2\" r=\"14\" fill=\"#e26f46\" fill-rule=\"evenodd\" fill-opacity=\"1\" stroke=\"#000000\" stroke-opacity=\"1\" stroke-width=\"3.2\"/>\n",
       "<circle clip-path=\"url(#clip012)\" cx=\"1820.87\" cy=\"1414.83\" r=\"14\" fill=\"#e26f46\" fill-rule=\"evenodd\" fill-opacity=\"1\" stroke=\"#000000\" stroke-opacity=\"1\" stroke-width=\"3.2\"/>\n",
       "<circle clip-path=\"url(#clip012)\" cx=\"1696.55\" cy=\"1425.28\" r=\"14\" fill=\"#e26f46\" fill-rule=\"evenodd\" fill-opacity=\"1\" stroke=\"#000000\" stroke-opacity=\"1\" stroke-width=\"3.2\"/>\n",
       "<circle clip-path=\"url(#clip012)\" cx=\"723.298\" cy=\"1426.04\" r=\"14\" fill=\"#e26f46\" fill-rule=\"evenodd\" fill-opacity=\"1\" stroke=\"#000000\" stroke-opacity=\"1\" stroke-width=\"3.2\"/>\n",
       "<circle clip-path=\"url(#clip012)\" cx=\"249.088\" cy=\"1421.79\" r=\"14\" fill=\"#e26f46\" fill-rule=\"evenodd\" fill-opacity=\"1\" stroke=\"#000000\" stroke-opacity=\"1\" stroke-width=\"3.2\"/>\n",
       "<circle clip-path=\"url(#clip012)\" cx=\"965.9\" cy=\"1438.94\" r=\"14\" fill=\"#e26f46\" fill-rule=\"evenodd\" fill-opacity=\"1\" stroke=\"#000000\" stroke-opacity=\"1\" stroke-width=\"3.2\"/>\n",
       "<circle clip-path=\"url(#clip012)\" cx=\"1289.17\" cy=\"1419.41\" r=\"14\" fill=\"#e26f46\" fill-rule=\"evenodd\" fill-opacity=\"1\" stroke=\"#000000\" stroke-opacity=\"1\" stroke-width=\"3.2\"/>\n",
       "<circle clip-path=\"url(#clip012)\" cx=\"590.685\" cy=\"1425.66\" r=\"14\" fill=\"#e26f46\" fill-rule=\"evenodd\" fill-opacity=\"1\" stroke=\"#000000\" stroke-opacity=\"1\" stroke-width=\"3.2\"/>\n",
       "<circle clip-path=\"url(#clip012)\" cx=\"1259.71\" cy=\"1417.45\" r=\"14\" fill=\"#e26f46\" fill-rule=\"evenodd\" fill-opacity=\"1\" stroke=\"#000000\" stroke-opacity=\"1\" stroke-width=\"3.2\"/>\n",
       "<circle clip-path=\"url(#clip012)\" cx=\"1322.54\" cy=\"1441.37\" r=\"14\" fill=\"#e26f46\" fill-rule=\"evenodd\" fill-opacity=\"1\" stroke=\"#000000\" stroke-opacity=\"1\" stroke-width=\"3.2\"/>\n",
       "<circle clip-path=\"url(#clip012)\" cx=\"1077.39\" cy=\"1434.37\" r=\"14\" fill=\"#e26f46\" fill-rule=\"evenodd\" fill-opacity=\"1\" stroke=\"#000000\" stroke-opacity=\"1\" stroke-width=\"3.2\"/>\n",
       "<circle clip-path=\"url(#clip012)\" cx=\"1181.62\" cy=\"1415.1\" r=\"14\" fill=\"#e26f46\" fill-rule=\"evenodd\" fill-opacity=\"1\" stroke=\"#000000\" stroke-opacity=\"1\" stroke-width=\"3.2\"/>\n",
       "<circle clip-path=\"url(#clip012)\" cx=\"1749.83\" cy=\"1439.91\" r=\"14\" fill=\"#e26f46\" fill-rule=\"evenodd\" fill-opacity=\"1\" stroke=\"#000000\" stroke-opacity=\"1\" stroke-width=\"3.2\"/>\n",
       "<circle clip-path=\"url(#clip012)\" cx=\"1495.48\" cy=\"1414.75\" r=\"14\" fill=\"#e26f46\" fill-rule=\"evenodd\" fill-opacity=\"1\" stroke=\"#000000\" stroke-opacity=\"1\" stroke-width=\"3.2\"/>\n",
       "<circle clip-path=\"url(#clip012)\" cx=\"833.623\" cy=\"1414.24\" r=\"14\" fill=\"#e26f46\" fill-rule=\"evenodd\" fill-opacity=\"1\" stroke=\"#000000\" stroke-opacity=\"1\" stroke-width=\"3.2\"/>\n",
       "<circle clip-path=\"url(#clip012)\" cx=\"367.761\" cy=\"1416.8\" r=\"14\" fill=\"#e26f46\" fill-rule=\"evenodd\" fill-opacity=\"1\" stroke=\"#000000\" stroke-opacity=\"1\" stroke-width=\"3.2\"/>\n",
       "<circle clip-path=\"url(#clip012)\" cx=\"1686.84\" cy=\"1430.6\" r=\"14\" fill=\"#e26f46\" fill-rule=\"evenodd\" fill-opacity=\"1\" stroke=\"#000000\" stroke-opacity=\"1\" stroke-width=\"3.2\"/>\n",
       "<circle clip-path=\"url(#clip012)\" cx=\"985.913\" cy=\"1425.77\" r=\"14\" fill=\"#e26f46\" fill-rule=\"evenodd\" fill-opacity=\"1\" stroke=\"#000000\" stroke-opacity=\"1\" stroke-width=\"3.2\"/>\n",
       "<circle clip-path=\"url(#clip012)\" cx=\"573.209\" cy=\"1416.43\" r=\"14\" fill=\"#e26f46\" fill-rule=\"evenodd\" fill-opacity=\"1\" stroke=\"#000000\" stroke-opacity=\"1\" stroke-width=\"3.2\"/>\n",
       "<circle clip-path=\"url(#clip012)\" cx=\"833.087\" cy=\"1422.76\" r=\"14\" fill=\"#e26f46\" fill-rule=\"evenodd\" fill-opacity=\"1\" stroke=\"#000000\" stroke-opacity=\"1\" stroke-width=\"3.2\"/>\n",
       "<circle clip-path=\"url(#clip012)\" cx=\"1639.52\" cy=\"1443.78\" r=\"14\" fill=\"#e26f46\" fill-rule=\"evenodd\" fill-opacity=\"1\" stroke=\"#000000\" stroke-opacity=\"1\" stroke-width=\"3.2\"/>\n",
       "<circle clip-path=\"url(#clip012)\" cx=\"421.541\" cy=\"1444.99\" r=\"14\" fill=\"#e26f46\" fill-rule=\"evenodd\" fill-opacity=\"1\" stroke=\"#000000\" stroke-opacity=\"1\" stroke-width=\"3.2\"/>\n",
       "<circle clip-path=\"url(#clip012)\" cx=\"1752.35\" cy=\"1434.32\" r=\"14\" fill=\"#e26f46\" fill-rule=\"evenodd\" fill-opacity=\"1\" stroke=\"#000000\" stroke-opacity=\"1\" stroke-width=\"3.2\"/>\n",
       "<circle clip-path=\"url(#clip012)\" cx=\"276.792\" cy=\"1441.86\" r=\"14\" fill=\"#e26f46\" fill-rule=\"evenodd\" fill-opacity=\"1\" stroke=\"#000000\" stroke-opacity=\"1\" stroke-width=\"3.2\"/>\n",
       "<circle clip-path=\"url(#clip012)\" cx=\"795.258\" cy=\"1418.08\" r=\"14\" fill=\"#e26f46\" fill-rule=\"evenodd\" fill-opacity=\"1\" stroke=\"#000000\" stroke-opacity=\"1\" stroke-width=\"3.2\"/>\n",
       "<circle clip-path=\"url(#clip012)\" cx=\"1056.14\" cy=\"1431.91\" r=\"14\" fill=\"#e26f46\" fill-rule=\"evenodd\" fill-opacity=\"1\" stroke=\"#000000\" stroke-opacity=\"1\" stroke-width=\"3.2\"/>\n",
       "<circle clip-path=\"url(#clip012)\" cx=\"284.89\" cy=\"1425.05\" r=\"14\" fill=\"#e26f46\" fill-rule=\"evenodd\" fill-opacity=\"1\" stroke=\"#000000\" stroke-opacity=\"1\" stroke-width=\"3.2\"/>\n",
       "<circle clip-path=\"url(#clip012)\" cx=\"694.78\" cy=\"1439.83\" r=\"14\" fill=\"#e26f46\" fill-rule=\"evenodd\" fill-opacity=\"1\" stroke=\"#000000\" stroke-opacity=\"1\" stroke-width=\"3.2\"/>\n",
       "<circle clip-path=\"url(#clip012)\" cx=\"1474.1\" cy=\"1423.06\" r=\"14\" fill=\"#e26f46\" fill-rule=\"evenodd\" fill-opacity=\"1\" stroke=\"#000000\" stroke-opacity=\"1\" stroke-width=\"3.2\"/>\n",
       "<circle clip-path=\"url(#clip012)\" cx=\"404.559\" cy=\"1432.79\" r=\"14\" fill=\"#e26f46\" fill-rule=\"evenodd\" fill-opacity=\"1\" stroke=\"#000000\" stroke-opacity=\"1\" stroke-width=\"3.2\"/>\n",
       "<circle clip-path=\"url(#clip012)\" cx=\"1524.95\" cy=\"1431.16\" r=\"14\" fill=\"#e26f46\" fill-rule=\"evenodd\" fill-opacity=\"1\" stroke=\"#000000\" stroke-opacity=\"1\" stroke-width=\"3.2\"/>\n",
       "<circle clip-path=\"url(#clip012)\" cx=\"1330.8\" cy=\"1416.89\" r=\"14\" fill=\"#e26f46\" fill-rule=\"evenodd\" fill-opacity=\"1\" stroke=\"#000000\" stroke-opacity=\"1\" stroke-width=\"3.2\"/>\n",
       "<circle clip-path=\"url(#clip012)\" cx=\"331.846\" cy=\"1428.74\" r=\"14\" fill=\"#e26f46\" fill-rule=\"evenodd\" fill-opacity=\"1\" stroke=\"#000000\" stroke-opacity=\"1\" stroke-width=\"3.2\"/>\n",
       "<circle clip-path=\"url(#clip012)\" cx=\"527.247\" cy=\"1417.22\" r=\"14\" fill=\"#e26f46\" fill-rule=\"evenodd\" fill-opacity=\"1\" stroke=\"#000000\" stroke-opacity=\"1\" stroke-width=\"3.2\"/>\n",
       "<circle clip-path=\"url(#clip012)\" cx=\"1417.36\" cy=\"1435.11\" r=\"14\" fill=\"#e26f46\" fill-rule=\"evenodd\" fill-opacity=\"1\" stroke=\"#000000\" stroke-opacity=\"1\" stroke-width=\"3.2\"/>\n",
       "<circle clip-path=\"url(#clip012)\" cx=\"440.6\" cy=\"1444.67\" r=\"14\" fill=\"#e26f46\" fill-rule=\"evenodd\" fill-opacity=\"1\" stroke=\"#000000\" stroke-opacity=\"1\" stroke-width=\"3.2\"/>\n",
       "<circle clip-path=\"url(#clip012)\" cx=\"1819.77\" cy=\"1421.79\" r=\"14\" fill=\"#e26f46\" fill-rule=\"evenodd\" fill-opacity=\"1\" stroke=\"#000000\" stroke-opacity=\"1\" stroke-width=\"3.2\"/>\n",
       "<circle clip-path=\"url(#clip012)\" cx=\"1180.74\" cy=\"1441.05\" r=\"14\" fill=\"#e26f46\" fill-rule=\"evenodd\" fill-opacity=\"1\" stroke=\"#000000\" stroke-opacity=\"1\" stroke-width=\"3.2\"/>\n",
       "<circle clip-path=\"url(#clip012)\" cx=\"932.129\" cy=\"1418.64\" r=\"14\" fill=\"#e26f46\" fill-rule=\"evenodd\" fill-opacity=\"1\" stroke=\"#000000\" stroke-opacity=\"1\" stroke-width=\"3.2\"/>\n",
       "<circle clip-path=\"url(#clip012)\" cx=\"1784.33\" cy=\"1441.61\" r=\"14\" fill=\"#e26f46\" fill-rule=\"evenodd\" fill-opacity=\"1\" stroke=\"#000000\" stroke-opacity=\"1\" stroke-width=\"3.2\"/>\n",
       "<circle clip-path=\"url(#clip012)\" cx=\"1172.03\" cy=\"1441.94\" r=\"14\" fill=\"#e26f46\" fill-rule=\"evenodd\" fill-opacity=\"1\" stroke=\"#000000\" stroke-opacity=\"1\" stroke-width=\"3.2\"/>\n",
       "<circle clip-path=\"url(#clip012)\" cx=\"1375.76\" cy=\"1420.14\" r=\"14\" fill=\"#e26f46\" fill-rule=\"evenodd\" fill-opacity=\"1\" stroke=\"#000000\" stroke-opacity=\"1\" stroke-width=\"3.2\"/>\n",
       "<circle clip-path=\"url(#clip012)\" cx=\"750.462\" cy=\"1434.17\" r=\"14\" fill=\"#e26f46\" fill-rule=\"evenodd\" fill-opacity=\"1\" stroke=\"#000000\" stroke-opacity=\"1\" stroke-width=\"3.2\"/>\n",
       "<circle clip-path=\"url(#clip012)\" cx=\"1398.45\" cy=\"1438.95\" r=\"14\" fill=\"#e26f46\" fill-rule=\"evenodd\" fill-opacity=\"1\" stroke=\"#000000\" stroke-opacity=\"1\" stroke-width=\"3.2\"/>\n",
       "<circle clip-path=\"url(#clip012)\" cx=\"1730.75\" cy=\"1425.7\" r=\"14\" fill=\"#e26f46\" fill-rule=\"evenodd\" fill-opacity=\"1\" stroke=\"#000000\" stroke-opacity=\"1\" stroke-width=\"3.2\"/>\n",
       "<circle clip-path=\"url(#clip012)\" cx=\"1696.33\" cy=\"1432.83\" r=\"14\" fill=\"#e26f46\" fill-rule=\"evenodd\" fill-opacity=\"1\" stroke=\"#000000\" stroke-opacity=\"1\" stroke-width=\"3.2\"/>\n",
       "<circle clip-path=\"url(#clip012)\" cx=\"904.235\" cy=\"1417.87\" r=\"14\" fill=\"#e26f46\" fill-rule=\"evenodd\" fill-opacity=\"1\" stroke=\"#000000\" stroke-opacity=\"1\" stroke-width=\"3.2\"/>\n",
       "<circle clip-path=\"url(#clip012)\" cx=\"1284.62\" cy=\"1426.47\" r=\"14\" fill=\"#e26f46\" fill-rule=\"evenodd\" fill-opacity=\"1\" stroke=\"#000000\" stroke-opacity=\"1\" stroke-width=\"3.2\"/>\n",
       "<circle clip-path=\"url(#clip012)\" cx=\"578.36\" cy=\"1429.76\" r=\"14\" fill=\"#e26f46\" fill-rule=\"evenodd\" fill-opacity=\"1\" stroke=\"#000000\" stroke-opacity=\"1\" stroke-width=\"3.2\"/>\n",
       "<circle clip-path=\"url(#clip012)\" cx=\"327.179\" cy=\"1427.89\" r=\"14\" fill=\"#e26f46\" fill-rule=\"evenodd\" fill-opacity=\"1\" stroke=\"#000000\" stroke-opacity=\"1\" stroke-width=\"3.2\"/>\n",
       "<circle clip-path=\"url(#clip012)\" cx=\"1254.1\" cy=\"1417.1\" r=\"14\" fill=\"#e26f46\" fill-rule=\"evenodd\" fill-opacity=\"1\" stroke=\"#000000\" stroke-opacity=\"1\" stroke-width=\"3.2\"/>\n",
       "<circle clip-path=\"url(#clip012)\" cx=\"1254.06\" cy=\"1440.2\" r=\"14\" fill=\"#e26f46\" fill-rule=\"evenodd\" fill-opacity=\"1\" stroke=\"#000000\" stroke-opacity=\"1\" stroke-width=\"3.2\"/>\n",
       "<circle clip-path=\"url(#clip012)\" cx=\"363.325\" cy=\"1424.11\" r=\"14\" fill=\"#e26f46\" fill-rule=\"evenodd\" fill-opacity=\"1\" stroke=\"#000000\" stroke-opacity=\"1\" stroke-width=\"3.2\"/>\n",
       "<circle clip-path=\"url(#clip012)\" cx=\"1540.81\" cy=\"1442.01\" r=\"14\" fill=\"#e26f46\" fill-rule=\"evenodd\" fill-opacity=\"1\" stroke=\"#000000\" stroke-opacity=\"1\" stroke-width=\"3.2\"/>\n",
       "<circle clip-path=\"url(#clip012)\" cx=\"533.088\" cy=\"1436.04\" r=\"14\" fill=\"#e26f46\" fill-rule=\"evenodd\" fill-opacity=\"1\" stroke=\"#000000\" stroke-opacity=\"1\" stroke-width=\"3.2\"/>\n",
       "<circle clip-path=\"url(#clip012)\" cx=\"342.361\" cy=\"1445.59\" r=\"14\" fill=\"#e26f46\" fill-rule=\"evenodd\" fill-opacity=\"1\" stroke=\"#000000\" stroke-opacity=\"1\" stroke-width=\"3.2\"/>\n",
       "<circle clip-path=\"url(#clip012)\" cx=\"323.665\" cy=\"1432.57\" r=\"14\" fill=\"#e26f46\" fill-rule=\"evenodd\" fill-opacity=\"1\" stroke=\"#000000\" stroke-opacity=\"1\" stroke-width=\"3.2\"/>\n",
       "<circle clip-path=\"url(#clip012)\" cx=\"1681.24\" cy=\"1444.89\" r=\"14\" fill=\"#e26f46\" fill-rule=\"evenodd\" fill-opacity=\"1\" stroke=\"#000000\" stroke-opacity=\"1\" stroke-width=\"3.2\"/>\n",
       "<circle clip-path=\"url(#clip012)\" cx=\"904.189\" cy=\"1437.06\" r=\"14\" fill=\"#e26f46\" fill-rule=\"evenodd\" fill-opacity=\"1\" stroke=\"#000000\" stroke-opacity=\"1\" stroke-width=\"3.2\"/>\n",
       "<circle clip-path=\"url(#clip012)\" cx=\"394.241\" cy=\"1416.68\" r=\"14\" fill=\"#e26f46\" fill-rule=\"evenodd\" fill-opacity=\"1\" stroke=\"#000000\" stroke-opacity=\"1\" stroke-width=\"3.2\"/>\n",
       "<circle clip-path=\"url(#clip012)\" cx=\"1268.81\" cy=\"1417.63\" r=\"14\" fill=\"#e26f46\" fill-rule=\"evenodd\" fill-opacity=\"1\" stroke=\"#000000\" stroke-opacity=\"1\" stroke-width=\"3.2\"/>\n",
       "<circle clip-path=\"url(#clip012)\" cx=\"1368.7\" cy=\"1428.91\" r=\"14\" fill=\"#e26f46\" fill-rule=\"evenodd\" fill-opacity=\"1\" stroke=\"#000000\" stroke-opacity=\"1\" stroke-width=\"3.2\"/>\n",
       "<circle clip-path=\"url(#clip012)\" cx=\"298.046\" cy=\"1419.81\" r=\"14\" fill=\"#e26f46\" fill-rule=\"evenodd\" fill-opacity=\"1\" stroke=\"#000000\" stroke-opacity=\"1\" stroke-width=\"3.2\"/>\n",
       "<circle clip-path=\"url(#clip012)\" cx=\"1705.69\" cy=\"1416.61\" r=\"14\" fill=\"#e26f46\" fill-rule=\"evenodd\" fill-opacity=\"1\" stroke=\"#000000\" stroke-opacity=\"1\" stroke-width=\"3.2\"/>\n",
       "<circle clip-path=\"url(#clip012)\" cx=\"970.587\" cy=\"1435.97\" r=\"14\" fill=\"#e26f46\" fill-rule=\"evenodd\" fill-opacity=\"1\" stroke=\"#000000\" stroke-opacity=\"1\" stroke-width=\"3.2\"/>\n",
       "<circle clip-path=\"url(#clip012)\" cx=\"1645.66\" cy=\"1413.55\" r=\"14\" fill=\"#e26f46\" fill-rule=\"evenodd\" fill-opacity=\"1\" stroke=\"#000000\" stroke-opacity=\"1\" stroke-width=\"3.2\"/>\n",
       "<circle clip-path=\"url(#clip012)\" cx=\"1658.49\" cy=\"1441.13\" r=\"14\" fill=\"#e26f46\" fill-rule=\"evenodd\" fill-opacity=\"1\" stroke=\"#000000\" stroke-opacity=\"1\" stroke-width=\"3.2\"/>\n",
       "<circle clip-path=\"url(#clip012)\" cx=\"247.497\" cy=\"1445.7\" r=\"14\" fill=\"#3da44d\" fill-rule=\"evenodd\" fill-opacity=\"1\" stroke=\"#000000\" stroke-opacity=\"1\" stroke-width=\"3.2\"/>\n",
       "<circle clip-path=\"url(#clip012)\" cx=\"1118.04\" cy=\"1425.65\" r=\"14\" fill=\"#3da44d\" fill-rule=\"evenodd\" fill-opacity=\"1\" stroke=\"#000000\" stroke-opacity=\"1\" stroke-width=\"3.2\"/>\n",
       "<circle clip-path=\"url(#clip012)\" cx=\"568.816\" cy=\"1423.4\" r=\"14\" fill=\"#3da44d\" fill-rule=\"evenodd\" fill-opacity=\"1\" stroke=\"#000000\" stroke-opacity=\"1\" stroke-width=\"3.2\"/>\n",
       "<circle clip-path=\"url(#clip012)\" cx=\"1193.35\" cy=\"1430.14\" r=\"14\" fill=\"#3da44d\" fill-rule=\"evenodd\" fill-opacity=\"1\" stroke=\"#000000\" stroke-opacity=\"1\" stroke-width=\"3.2\"/>\n",
       "<circle clip-path=\"url(#clip012)\" cx=\"566.948\" cy=\"1445.41\" r=\"14\" fill=\"#3da44d\" fill-rule=\"evenodd\" fill-opacity=\"1\" stroke=\"#000000\" stroke-opacity=\"1\" stroke-width=\"3.2\"/>\n",
       "<circle clip-path=\"url(#clip012)\" cx=\"1461.06\" cy=\"1430.78\" r=\"14\" fill=\"#3da44d\" fill-rule=\"evenodd\" fill-opacity=\"1\" stroke=\"#000000\" stroke-opacity=\"1\" stroke-width=\"3.2\"/>\n",
       "<circle clip-path=\"url(#clip012)\" cx=\"1079.25\" cy=\"1418.82\" r=\"14\" fill=\"#3da44d\" fill-rule=\"evenodd\" fill-opacity=\"1\" stroke=\"#000000\" stroke-opacity=\"1\" stroke-width=\"3.2\"/>\n",
       "<circle clip-path=\"url(#clip012)\" cx=\"1096.6\" cy=\"1420.74\" r=\"14\" fill=\"#3da44d\" fill-rule=\"evenodd\" fill-opacity=\"1\" stroke=\"#000000\" stroke-opacity=\"1\" stroke-width=\"3.2\"/>\n",
       "<circle clip-path=\"url(#clip012)\" cx=\"1251.94\" cy=\"1439.07\" r=\"14\" fill=\"#3da44d\" fill-rule=\"evenodd\" fill-opacity=\"1\" stroke=\"#000000\" stroke-opacity=\"1\" stroke-width=\"3.2\"/>\n",
       "<circle clip-path=\"url(#clip012)\" cx=\"738.684\" cy=\"1427.72\" r=\"14\" fill=\"#3da44d\" fill-rule=\"evenodd\" fill-opacity=\"1\" stroke=\"#000000\" stroke-opacity=\"1\" stroke-width=\"3.2\"/>\n",
       "<circle clip-path=\"url(#clip012)\" cx=\"493.195\" cy=\"1413.23\" r=\"14\" fill=\"#3da44d\" fill-rule=\"evenodd\" fill-opacity=\"1\" stroke=\"#000000\" stroke-opacity=\"1\" stroke-width=\"3.2\"/>\n",
       "<circle clip-path=\"url(#clip012)\" cx=\"659.124\" cy=\"1441.39\" r=\"14\" fill=\"#3da44d\" fill-rule=\"evenodd\" fill-opacity=\"1\" stroke=\"#000000\" stroke-opacity=\"1\" stroke-width=\"3.2\"/>\n",
       "<circle clip-path=\"url(#clip012)\" cx=\"509.188\" cy=\"1423.5\" r=\"14\" fill=\"#3da44d\" fill-rule=\"evenodd\" fill-opacity=\"1\" stroke=\"#000000\" stroke-opacity=\"1\" stroke-width=\"3.2\"/>\n",
       "<circle clip-path=\"url(#clip012)\" cx=\"1421.04\" cy=\"1426.25\" r=\"14\" fill=\"#3da44d\" fill-rule=\"evenodd\" fill-opacity=\"1\" stroke=\"#000000\" stroke-opacity=\"1\" stroke-width=\"3.2\"/>\n",
       "<circle clip-path=\"url(#clip012)\" cx=\"1309.8\" cy=\"1426.65\" r=\"14\" fill=\"#3da44d\" fill-rule=\"evenodd\" fill-opacity=\"1\" stroke=\"#000000\" stroke-opacity=\"1\" stroke-width=\"3.2\"/>\n",
       "<circle clip-path=\"url(#clip012)\" cx=\"873.939\" cy=\"1414.65\" r=\"14\" fill=\"#3da44d\" fill-rule=\"evenodd\" fill-opacity=\"1\" stroke=\"#000000\" stroke-opacity=\"1\" stroke-width=\"3.2\"/>\n",
       "<circle clip-path=\"url(#clip012)\" cx=\"1648.66\" cy=\"1431.54\" r=\"14\" fill=\"#3da44d\" fill-rule=\"evenodd\" fill-opacity=\"1\" stroke=\"#000000\" stroke-opacity=\"1\" stroke-width=\"3.2\"/>\n",
       "<circle clip-path=\"url(#clip012)\" cx=\"727.899\" cy=\"1425.46\" r=\"14\" fill=\"#3da44d\" fill-rule=\"evenodd\" fill-opacity=\"1\" stroke=\"#000000\" stroke-opacity=\"1\" stroke-width=\"3.2\"/>\n",
       "<circle clip-path=\"url(#clip012)\" cx=\"1133.7\" cy=\"1424.84\" r=\"14\" fill=\"#3da44d\" fill-rule=\"evenodd\" fill-opacity=\"1\" stroke=\"#000000\" stroke-opacity=\"1\" stroke-width=\"3.2\"/>\n",
       "<circle clip-path=\"url(#clip012)\" cx=\"1434.1\" cy=\"1434.89\" r=\"14\" fill=\"#3da44d\" fill-rule=\"evenodd\" fill-opacity=\"1\" stroke=\"#000000\" stroke-opacity=\"1\" stroke-width=\"3.2\"/>\n",
       "<path clip-path=\"url(#clip010)\" d=\"\n",
       "M1943.63 857.566 L2352.76 857.566 L2352.76 615.646 L1943.63 615.646  Z\n",
       "  \" fill=\"#ffffff\" fill-rule=\"evenodd\" fill-opacity=\"1\"/>\n",
       "<polyline clip-path=\"url(#clip010)\" style=\"stroke:#000000; stroke-width:4; stroke-opacity:1; fill:none\" points=\"\n",
       "  1943.63,857.566 2352.76,857.566 2352.76,615.646 1943.63,615.646 1943.63,857.566 \n",
       "  \"/>\n",
       "<path clip-path=\"url(#clip010)\" d=\"\n",
       "M1968.23 700.318 L2115.8 700.318 L2115.8 651.934 L1968.23 651.934 L1968.23 700.318  Z\n",
       "  \" fill=\"#009af9\" fill-rule=\"evenodd\" fill-opacity=\"1\"/>\n",
       "<polyline clip-path=\"url(#clip010)\" style=\"stroke:#000000; stroke-width:4; stroke-opacity:1; fill:none\" points=\"\n",
       "  1968.23,700.318 2115.8,700.318 2115.8,651.934 1968.23,651.934 1968.23,700.318 \n",
       "  \"/>\n",
       "<path clip-path=\"url(#clip010)\" d=\"M 0 0 M2154.24 695.813 Q2152.43 700.443 2150.72 701.855 Q2149.01 703.267 2146.14 703.267 L2142.73 703.267 L2142.73 699.702 L2145.23 699.702 Q2146.99 699.702 2147.96 698.869 Q2148.94 698.036 2150.12 694.934 L2150.88 692.989 L2140.4 667.48 L2144.91 667.48 L2153.01 687.758 L2161.11 667.48 L2165.63 667.48 L2154.24 695.813 Z\" fill=\"#000000\" fill-rule=\"evenodd\" fill-opacity=\"1\" /><path clip-path=\"url(#clip010)\" d=\"M 0 0 M2171.51 689.471 L2179.14 689.471 L2179.14 663.105 L2170.83 664.772 L2170.83 660.513 L2179.1 658.846 L2183.77 658.846 L2183.77 689.471 L2191.41 689.471 L2191.41 693.406 L2171.51 693.406 L2171.51 689.471 Z\" fill=\"#000000\" fill-rule=\"evenodd\" fill-opacity=\"1\" /><circle clip-path=\"url(#clip010)\" cx=\"2042.01\" cy=\"736.606\" r=\"23\" fill=\"#e26f46\" fill-rule=\"evenodd\" fill-opacity=\"1\" stroke=\"#000000\" stroke-opacity=\"1\" stroke-width=\"5.12\"/>\n",
       "<path clip-path=\"url(#clip010)\" d=\"M 0 0 M2144.68 749.997 L2144.68 763.747 L2140.4 763.747 L2140.4 727.96 L2144.68 727.96 L2144.68 731.895 Q2146.02 729.581 2148.06 728.469 Q2150.12 727.335 2152.96 727.335 Q2157.69 727.335 2160.63 731.085 Q2163.59 734.835 2163.59 740.946 Q2163.59 747.057 2160.63 750.807 Q2157.69 754.557 2152.96 754.557 Q2150.12 754.557 2148.06 753.446 Q2146.02 752.312 2144.68 749.997 M2159.17 740.946 Q2159.17 736.247 2157.22 733.585 Q2155.3 730.9 2151.92 730.9 Q2148.54 730.9 2146.6 733.585 Q2144.68 736.247 2144.68 740.946 Q2144.68 745.645 2146.6 748.33 Q2148.54 750.992 2151.92 750.992 Q2155.3 750.992 2157.22 748.33 Q2159.17 745.645 2159.17 740.946 Z\" fill=\"#000000\" fill-rule=\"evenodd\" fill-opacity=\"1\" /><path clip-path=\"url(#clip010)\" d=\"M 0 0 M2178.1 730.946 Q2174.68 730.946 2172.69 733.631 Q2170.7 736.293 2170.7 740.946 Q2170.7 745.599 2172.66 748.284 Q2174.65 750.946 2178.1 750.946 Q2181.51 750.946 2183.5 748.261 Q2185.49 745.576 2185.49 740.946 Q2185.49 736.34 2183.5 733.655 Q2181.51 730.946 2178.1 730.946 M2178.1 727.335 Q2183.66 727.335 2186.83 730.946 Q2190 734.557 2190 740.946 Q2190 747.312 2186.83 750.946 Q2183.66 754.557 2178.1 754.557 Q2172.52 754.557 2169.35 750.946 Q2166.21 747.312 2166.21 740.946 Q2166.21 734.557 2169.35 730.946 Q2172.52 727.335 2178.1 727.335 Z\" fill=\"#000000\" fill-rule=\"evenodd\" fill-opacity=\"1\" /><path clip-path=\"url(#clip010)\" d=\"M 0 0 M2198.59 749.997 L2198.59 763.747 L2194.31 763.747 L2194.31 727.96 L2198.59 727.96 L2198.59 731.895 Q2199.93 729.581 2201.97 728.469 Q2204.03 727.335 2206.88 727.335 Q2211.6 727.335 2214.54 731.085 Q2217.5 734.835 2217.5 740.946 Q2217.5 747.057 2214.54 750.807 Q2211.6 754.557 2206.88 754.557 Q2204.03 754.557 2201.97 753.446 Q2199.93 752.312 2198.59 749.997 M2213.08 740.946 Q2213.08 736.247 2211.14 733.585 Q2209.21 730.9 2205.83 730.9 Q2202.46 730.9 2200.51 733.585 Q2198.59 736.247 2198.59 740.946 Q2198.59 745.645 2200.51 748.33 Q2202.46 750.992 2205.83 750.992 Q2209.21 750.992 2211.14 748.33 Q2213.08 745.645 2213.08 740.946 Z\" fill=\"#000000\" fill-rule=\"evenodd\" fill-opacity=\"1\" /><circle clip-path=\"url(#clip010)\" cx=\"2042.01\" cy=\"797.086\" r=\"23\" fill=\"#3da44d\" fill-rule=\"evenodd\" fill-opacity=\"1\" stroke=\"#000000\" stroke-opacity=\"1\" stroke-width=\"5.12\"/>\n",
       "<path clip-path=\"url(#clip010)\" d=\"M 0 0 M2164.42 800.338 L2164.42 802.422 L2144.84 802.422 Q2145.12 806.82 2147.48 809.135 Q2149.86 811.426 2154.1 811.426 Q2156.55 811.426 2158.84 810.824 Q2161.16 810.222 2163.43 809.019 L2163.43 813.047 Q2161.14 814.019 2158.73 814.528 Q2156.32 815.037 2153.84 815.037 Q2147.64 815.037 2144.01 811.426 Q2140.4 807.815 2140.4 801.658 Q2140.4 795.292 2143.82 791.565 Q2147.27 787.815 2153.1 787.815 Q2158.33 787.815 2161.37 791.195 Q2164.42 794.551 2164.42 800.338 M2160.16 799.088 Q2160.12 795.593 2158.2 793.51 Q2156.3 791.426 2153.15 791.426 Q2149.58 791.426 2147.43 793.44 Q2145.3 795.454 2144.98 799.111 L2160.16 799.088 Z\" fill=\"#000000\" fill-rule=\"evenodd\" fill-opacity=\"1\" /><path clip-path=\"url(#clip010)\" d=\"M 0 0 M2189.61 788.44 L2180.23 801.056 L2190.09 814.366 L2185.07 814.366 L2177.52 804.181 L2169.98 814.366 L2164.96 814.366 L2175.02 800.801 L2165.81 788.44 L2170.83 788.44 L2177.71 797.676 L2184.58 788.44 L2189.61 788.44 Z\" fill=\"#000000\" fill-rule=\"evenodd\" fill-opacity=\"1\" /><path clip-path=\"url(#clip010)\" d=\"M 0 0 M2198.68 810.477 L2198.68 824.227 L2194.4 824.227 L2194.4 788.44 L2198.68 788.44 L2198.68 792.375 Q2200.02 790.061 2202.06 788.949 Q2204.12 787.815 2206.97 787.815 Q2211.69 787.815 2214.63 791.565 Q2217.59 795.315 2217.59 801.426 Q2217.59 807.537 2214.63 811.287 Q2211.69 815.037 2206.97 815.037 Q2204.12 815.037 2202.06 813.926 Q2200.02 812.792 2198.68 810.477 M2213.17 801.426 Q2213.17 796.727 2211.23 794.065 Q2209.31 791.38 2205.93 791.38 Q2202.55 791.38 2200.6 794.065 Q2198.68 796.727 2198.68 801.426 Q2198.68 806.125 2200.6 808.81 Q2202.55 811.472 2205.93 811.472 Q2209.31 811.472 2211.23 808.81 Q2213.17 806.125 2213.17 801.426 Z\" fill=\"#000000\" fill-rule=\"evenodd\" fill-opacity=\"1\" /><path clip-path=\"url(#clip010)\" d=\"M 0 0 M2244.24 800.338 L2244.24 802.422 L2224.65 802.422 Q2224.93 806.82 2227.29 809.135 Q2229.68 811.426 2233.91 811.426 Q2236.37 811.426 2238.66 810.824 Q2240.97 810.222 2243.24 809.019 L2243.24 813.047 Q2240.95 814.019 2238.54 814.528 Q2236.14 815.037 2233.66 815.037 Q2227.45 815.037 2223.82 811.426 Q2220.21 807.815 2220.21 801.658 Q2220.21 795.292 2223.64 791.565 Q2227.08 787.815 2232.92 787.815 Q2238.15 787.815 2241.18 791.195 Q2244.24 794.551 2244.24 800.338 M2239.98 799.088 Q2239.93 795.593 2238.01 793.51 Q2236.11 791.426 2232.96 791.426 Q2229.4 791.426 2227.25 793.44 Q2225.12 795.454 2224.79 799.111 L2239.98 799.088 Z\" fill=\"#000000\" fill-rule=\"evenodd\" fill-opacity=\"1\" /><path clip-path=\"url(#clip010)\" d=\"M 0 0 M2263.73 792.422 Q2263.01 792.005 2262.15 791.82 Q2261.32 791.611 2260.3 791.611 Q2256.69 791.611 2254.75 793.973 Q2252.83 796.311 2252.83 800.709 L2252.83 814.366 L2248.54 814.366 L2248.54 788.44 L2252.83 788.44 L2252.83 792.468 Q2254.17 790.107 2256.32 788.973 Q2258.47 787.815 2261.55 787.815 Q2261.99 787.815 2262.52 787.885 Q2263.06 787.931 2263.7 788.047 L2263.73 792.422 Z\" fill=\"#000000\" fill-rule=\"evenodd\" fill-opacity=\"1\" /><path clip-path=\"url(#clip010)\" d=\"M 0 0 M2272.41 781.079 L2272.41 788.44 L2281.18 788.44 L2281.18 791.75 L2272.41 791.75 L2272.41 805.824 Q2272.41 808.996 2273.26 809.898 Q2274.14 810.801 2276.81 810.801 L2281.18 810.801 L2281.18 814.366 L2276.81 814.366 Q2271.88 814.366 2270 812.537 Q2268.13 810.685 2268.13 805.824 L2268.13 791.75 L2265 791.75 L2265 788.44 L2268.13 788.44 L2268.13 781.079 L2272.41 781.079 Z\" fill=\"#000000\" fill-rule=\"evenodd\" fill-opacity=\"1\" /><path clip-path=\"url(#clip010)\" d=\"M 0 0 M2302.18 789.204 L2302.18 793.232 Q2300.37 792.306 2298.43 791.843 Q2296.48 791.38 2294.4 791.38 Q2291.23 791.38 2289.63 792.352 Q2288.06 793.324 2288.06 795.269 Q2288.06 796.75 2289.19 797.607 Q2290.32 798.44 2293.75 799.204 L2295.21 799.528 Q2299.75 800.5 2301.64 802.283 Q2303.57 804.042 2303.57 807.213 Q2303.57 810.824 2300.7 812.931 Q2297.85 815.037 2292.85 815.037 Q2290.76 815.037 2288.5 814.621 Q2286.25 814.227 2283.75 813.417 L2283.75 809.019 Q2286.11 810.246 2288.4 810.871 Q2290.7 811.472 2292.94 811.472 Q2295.95 811.472 2297.57 810.454 Q2299.19 809.412 2299.19 807.537 Q2299.19 805.801 2298.01 804.875 Q2296.85 803.949 2292.89 803.093 L2291.41 802.746 Q2287.45 801.912 2285.7 800.199 Q2283.94 798.463 2283.94 795.454 Q2283.94 791.797 2286.53 789.806 Q2289.12 787.815 2293.89 787.815 Q2296.25 787.815 2298.33 788.162 Q2300.42 788.51 2302.18 789.204 Z\" fill=\"#000000\" fill-rule=\"evenodd\" fill-opacity=\"1\" /></svg>\n"
      ]
     },
     "execution_count": 50,
     "metadata": {},
     "output_type": "execute_result"
    }
   ],
   "source": [
    "xs = [i.genes[1] for i in population]; ys = [i.genes[2] for i in population]\n",
    "#plot(x, y, fz, st=:contour)\n",
    "scatter!(xs[21:end], ys[21:end], label=\"pop\", legend=:outerright)\n",
    "scatter!(xs[1:20], ys[1:20], label=\"experts\")"
   ]
  },
  {
   "cell_type": "markdown",
   "metadata": {
    "slideshow": {
     "slide_type": "fragment"
    }
   },
   "source": [
    "As we can see, using this selection method, we risk optimizing towards local maxima, especially if we completely discard the rest of the population. Let's look at other selection methods for now, and we'll keep truncation selection in mind for later."
   ]
  },
  {
   "cell_type": "markdown",
   "metadata": {
    "slideshow": {
     "slide_type": "slide"
    }
   },
   "source": [
    "We will instead assign a probability to each individual based on their fitness. This is known as **fitness proportionate selection**. Specifically, we will use the probability\n",
    "\n",
    "$p_i = \\frac{f_i}{\\sum_{j=1}^N f_j}$\n",
    "\n",
    "The probability is each fitness divided by the sum. We'll use the `.` dot broadcast operator in Julia to divide each element of `fits` by the sum."
   ]
  },
  {
   "cell_type": "code",
   "execution_count": 51,
   "metadata": {
    "slideshow": {
     "slide_type": "fragment"
    }
   },
   "outputs": [],
   "source": [
    "fits = [i.fitness for i in population]\n",
    "p = fits ./ sum(fits);"
   ]
  },
  {
   "cell_type": "code",
   "execution_count": 52,
   "metadata": {
    "slideshow": {
     "slide_type": "slide"
    }
   },
   "outputs": [
    {
     "data": {
      "image/svg+xml": [
       "<?xml version=\"1.0\" encoding=\"utf-8\"?>\n",
       "<svg xmlns=\"http://www.w3.org/2000/svg\" xmlns:xlink=\"http://www.w3.org/1999/xlink\" width=\"600\" height=\"400\" viewBox=\"0 0 2400 1600\">\n",
       "<defs>\n",
       "  <clipPath id=\"clip050\">\n",
       "    <rect x=\"0\" y=\"0\" width=\"2400\" height=\"1600\"/>\n",
       "  </clipPath>\n",
       "</defs>\n",
       "<path clip-path=\"url(#clip050)\" d=\"\n",
       "M0 1600 L2400 1600 L2400 0 L0 0  Z\n",
       "  \" fill=\"#ffffff\" fill-rule=\"evenodd\" fill-opacity=\"1\"/>\n",
       "<defs>\n",
       "  <clipPath id=\"clip051\">\n",
       "    <rect x=\"480\" y=\"0\" width=\"1681\" height=\"1600\"/>\n",
       "  </clipPath>\n",
       "</defs>\n",
       "<path clip-path=\"url(#clip050)\" d=\"\n",
       "M135.95 1486.45 L2352.76 1486.45 L2352.76 47.2441 L135.95 47.2441  Z\n",
       "  \" fill=\"#ffffff\" fill-rule=\"evenodd\" fill-opacity=\"1\"/>\n",
       "<defs>\n",
       "  <clipPath id=\"clip052\">\n",
       "    <rect x=\"135\" y=\"47\" width=\"2218\" height=\"1440\"/>\n",
       "  </clipPath>\n",
       "</defs>\n",
       "<polyline clip-path=\"url(#clip052)\" style=\"stroke:#000000; stroke-width:2; stroke-opacity:0.1; fill:none\" points=\"\n",
       "  455.173,1486.45 455.173,47.2441 \n",
       "  \"/>\n",
       "<polyline clip-path=\"url(#clip052)\" style=\"stroke:#000000; stroke-width:2; stroke-opacity:0.1; fill:none\" points=\"\n",
       "  849.763,1486.45 849.763,47.2441 \n",
       "  \"/>\n",
       "<polyline clip-path=\"url(#clip052)\" style=\"stroke:#000000; stroke-width:2; stroke-opacity:0.1; fill:none\" points=\"\n",
       "  1244.35,1486.45 1244.35,47.2441 \n",
       "  \"/>\n",
       "<polyline clip-path=\"url(#clip052)\" style=\"stroke:#000000; stroke-width:2; stroke-opacity:0.1; fill:none\" points=\"\n",
       "  1638.94,1486.45 1638.94,47.2441 \n",
       "  \"/>\n",
       "<polyline clip-path=\"url(#clip052)\" style=\"stroke:#000000; stroke-width:2; stroke-opacity:0.1; fill:none\" points=\"\n",
       "  2033.53,1486.45 2033.53,47.2441 \n",
       "  \"/>\n",
       "<polyline clip-path=\"url(#clip050)\" style=\"stroke:#000000; stroke-width:4; stroke-opacity:1; fill:none\" points=\"\n",
       "  135.95,1486.45 2352.76,1486.45 \n",
       "  \"/>\n",
       "<polyline clip-path=\"url(#clip050)\" style=\"stroke:#000000; stroke-width:4; stroke-opacity:1; fill:none\" points=\"\n",
       "  455.173,1486.45 455.173,1469.18 \n",
       "  \"/>\n",
       "<polyline clip-path=\"url(#clip050)\" style=\"stroke:#000000; stroke-width:4; stroke-opacity:1; fill:none\" points=\"\n",
       "  849.763,1486.45 849.763,1469.18 \n",
       "  \"/>\n",
       "<polyline clip-path=\"url(#clip050)\" style=\"stroke:#000000; stroke-width:4; stroke-opacity:1; fill:none\" points=\"\n",
       "  1244.35,1486.45 1244.35,1469.18 \n",
       "  \"/>\n",
       "<polyline clip-path=\"url(#clip050)\" style=\"stroke:#000000; stroke-width:4; stroke-opacity:1; fill:none\" points=\"\n",
       "  1638.94,1486.45 1638.94,1469.18 \n",
       "  \"/>\n",
       "<polyline clip-path=\"url(#clip050)\" style=\"stroke:#000000; stroke-width:4; stroke-opacity:1; fill:none\" points=\"\n",
       "  2033.53,1486.45 2033.53,1469.18 \n",
       "  \"/>\n",
       "<path clip-path=\"url(#clip050)\" d=\"M 0 0 M409.595 1515.64 Q405.984 1515.64 404.155 1519.2 Q402.35 1522.75 402.35 1529.87 Q402.35 1536.98 404.155 1540.55 Q405.984 1544.09 409.595 1544.09 Q413.229 1544.09 415.035 1540.55 Q416.863 1536.98 416.863 1529.87 Q416.863 1522.75 415.035 1519.2 Q413.229 1515.64 409.595 1515.64 M409.595 1511.93 Q415.405 1511.93 418.461 1516.54 Q421.539 1521.12 421.539 1529.87 Q421.539 1538.6 418.461 1543.21 Q415.405 1547.79 409.595 1547.79 Q403.785 1547.79 400.706 1543.21 Q397.651 1538.6 397.651 1529.87 Q397.651 1521.12 400.706 1516.54 Q403.785 1511.93 409.595 1511.93 Z\" fill=\"#000000\" fill-rule=\"evenodd\" fill-opacity=\"1\" /><path clip-path=\"url(#clip050)\" d=\"M 0 0 M426.609 1541.24 L431.493 1541.24 L431.493 1547.12 L426.609 1547.12 L426.609 1541.24 Z\" fill=\"#000000\" fill-rule=\"evenodd\" fill-opacity=\"1\" /><path clip-path=\"url(#clip050)\" d=\"M 0 0 M446.562 1515.64 Q442.951 1515.64 441.123 1519.2 Q439.317 1522.75 439.317 1529.87 Q439.317 1536.98 441.123 1540.55 Q442.951 1544.09 446.562 1544.09 Q450.197 1544.09 452.002 1540.55 Q453.831 1536.98 453.831 1529.87 Q453.831 1522.75 452.002 1519.2 Q450.197 1515.64 446.562 1515.64 M446.562 1511.93 Q452.372 1511.93 455.428 1516.54 Q458.507 1521.12 458.507 1529.87 Q458.507 1538.6 455.428 1543.21 Q452.372 1547.79 446.562 1547.79 Q440.752 1547.79 437.673 1543.21 Q434.618 1538.6 434.618 1529.87 Q434.618 1521.12 437.673 1516.54 Q440.752 1511.93 446.562 1511.93 Z\" fill=\"#000000\" fill-rule=\"evenodd\" fill-opacity=\"1\" /><path clip-path=\"url(#clip050)\" d=\"M 0 0 M473.576 1515.64 Q469.965 1515.64 468.136 1519.2 Q466.331 1522.75 466.331 1529.87 Q466.331 1536.98 468.136 1540.55 Q469.965 1544.09 473.576 1544.09 Q477.21 1544.09 479.016 1540.55 Q480.845 1536.98 480.845 1529.87 Q480.845 1522.75 479.016 1519.2 Q477.21 1515.64 473.576 1515.64 M473.576 1511.93 Q479.386 1511.93 482.442 1516.54 Q485.52 1521.12 485.52 1529.87 Q485.52 1538.6 482.442 1543.21 Q479.386 1547.79 473.576 1547.79 Q467.766 1547.79 464.687 1543.21 Q461.632 1538.6 461.632 1529.87 Q461.632 1521.12 464.687 1516.54 Q467.766 1511.93 473.576 1511.93 Z\" fill=\"#000000\" fill-rule=\"evenodd\" fill-opacity=\"1\" /><path clip-path=\"url(#clip050)\" d=\"M 0 0 M501.168 1527.98 Q498.02 1527.98 496.169 1530.13 Q494.34 1532.28 494.34 1536.03 Q494.34 1539.76 496.169 1541.93 Q498.02 1544.09 501.168 1544.09 Q504.317 1544.09 506.145 1541.93 Q507.997 1539.76 507.997 1536.03 Q507.997 1532.28 506.145 1530.13 Q504.317 1527.98 501.168 1527.98 M510.451 1513.32 L510.451 1517.58 Q508.692 1516.75 506.886 1516.31 Q505.104 1515.87 503.344 1515.87 Q498.715 1515.87 496.261 1519 Q493.831 1522.12 493.483 1528.44 Q494.849 1526.43 496.909 1525.36 Q498.969 1524.27 501.446 1524.27 Q506.655 1524.27 509.664 1527.44 Q512.696 1530.59 512.696 1536.03 Q512.696 1541.36 509.548 1544.57 Q506.4 1547.79 501.168 1547.79 Q495.173 1547.79 492.002 1543.21 Q488.831 1538.6 488.831 1529.87 Q488.831 1521.68 492.719 1516.82 Q496.608 1511.93 503.159 1511.93 Q504.918 1511.93 506.701 1512.28 Q508.506 1512.63 510.451 1513.32 Z\" fill=\"#000000\" fill-rule=\"evenodd\" fill-opacity=\"1\" /><path clip-path=\"url(#clip050)\" d=\"M 0 0 M804.312 1515.64 Q800.701 1515.64 798.872 1519.2 Q797.067 1522.75 797.067 1529.87 Q797.067 1536.98 798.872 1540.55 Q800.701 1544.09 804.312 1544.09 Q807.946 1544.09 809.752 1540.55 Q811.581 1536.98 811.581 1529.87 Q811.581 1522.75 809.752 1519.2 Q807.946 1515.64 804.312 1515.64 M804.312 1511.93 Q810.122 1511.93 813.178 1516.54 Q816.256 1521.12 816.256 1529.87 Q816.256 1538.6 813.178 1543.21 Q810.122 1547.79 804.312 1547.79 Q798.502 1547.79 795.423 1543.21 Q792.368 1538.6 792.368 1529.87 Q792.368 1521.12 795.423 1516.54 Q798.502 1511.93 804.312 1511.93 Z\" fill=\"#000000\" fill-rule=\"evenodd\" fill-opacity=\"1\" /><path clip-path=\"url(#clip050)\" d=\"M 0 0 M821.326 1541.24 L826.21 1541.24 L826.21 1547.12 L821.326 1547.12 L821.326 1541.24 Z\" fill=\"#000000\" fill-rule=\"evenodd\" fill-opacity=\"1\" /><path clip-path=\"url(#clip050)\" d=\"M 0 0 M841.279 1515.64 Q837.668 1515.64 835.84 1519.2 Q834.034 1522.75 834.034 1529.87 Q834.034 1536.98 835.84 1540.55 Q837.668 1544.09 841.279 1544.09 Q844.914 1544.09 846.719 1540.55 Q848.548 1536.98 848.548 1529.87 Q848.548 1522.75 846.719 1519.2 Q844.914 1515.64 841.279 1515.64 M841.279 1511.93 Q847.09 1511.93 850.145 1516.54 Q853.224 1521.12 853.224 1529.87 Q853.224 1538.6 850.145 1543.21 Q847.09 1547.79 841.279 1547.79 Q835.469 1547.79 832.391 1543.21 Q829.335 1538.6 829.335 1529.87 Q829.335 1521.12 832.391 1516.54 Q835.469 1511.93 841.279 1511.93 Z\" fill=\"#000000\" fill-rule=\"evenodd\" fill-opacity=\"1\" /><path clip-path=\"url(#clip050)\" d=\"M 0 0 M868.293 1515.64 Q864.682 1515.64 862.853 1519.2 Q861.048 1522.75 861.048 1529.87 Q861.048 1536.98 862.853 1540.55 Q864.682 1544.09 868.293 1544.09 Q871.927 1544.09 873.733 1540.55 Q875.562 1536.98 875.562 1529.87 Q875.562 1522.75 873.733 1519.2 Q871.927 1515.64 868.293 1515.64 M868.293 1511.93 Q874.103 1511.93 877.159 1516.54 Q880.238 1521.12 880.238 1529.87 Q880.238 1538.6 877.159 1543.21 Q874.103 1547.79 868.293 1547.79 Q862.483 1547.79 859.404 1543.21 Q856.349 1538.6 856.349 1529.87 Q856.349 1521.12 859.404 1516.54 Q862.483 1511.93 868.293 1511.93 Z\" fill=\"#000000\" fill-rule=\"evenodd\" fill-opacity=\"1\" /><path clip-path=\"url(#clip050)\" d=\"M 0 0 M895.307 1530.71 Q891.974 1530.71 890.052 1532.49 Q888.154 1534.27 888.154 1537.4 Q888.154 1540.52 890.052 1542.31 Q891.974 1544.09 895.307 1544.09 Q898.64 1544.09 900.562 1542.31 Q902.483 1540.5 902.483 1537.4 Q902.483 1534.27 900.562 1532.49 Q898.663 1530.71 895.307 1530.71 M890.631 1528.72 Q887.622 1527.98 885.932 1525.92 Q884.265 1523.86 884.265 1520.89 Q884.265 1516.75 887.205 1514.34 Q890.168 1511.93 895.307 1511.93 Q900.469 1511.93 903.409 1514.34 Q906.349 1516.75 906.349 1520.89 Q906.349 1523.86 904.659 1525.92 Q902.992 1527.98 900.006 1528.72 Q903.386 1529.5 905.261 1531.8 Q907.159 1534.09 907.159 1537.4 Q907.159 1542.42 904.08 1545.11 Q901.025 1547.79 895.307 1547.79 Q889.589 1547.79 886.511 1545.11 Q883.455 1542.42 883.455 1537.4 Q883.455 1534.09 885.353 1531.8 Q887.251 1529.5 890.631 1528.72 M888.918 1521.33 Q888.918 1524.02 890.585 1525.52 Q892.275 1527.03 895.307 1527.03 Q898.316 1527.03 900.006 1525.52 Q901.719 1524.02 901.719 1521.33 Q901.719 1518.65 900.006 1517.14 Q898.316 1515.64 895.307 1515.64 Q892.275 1515.64 890.585 1517.14 Q888.918 1518.65 888.918 1521.33 Z\" fill=\"#000000\" fill-rule=\"evenodd\" fill-opacity=\"1\" /><path clip-path=\"url(#clip050)\" d=\"M 0 0 M1199.47 1515.64 Q1195.86 1515.64 1194.03 1519.2 Q1192.22 1522.75 1192.22 1529.87 Q1192.22 1536.98 1194.03 1540.55 Q1195.86 1544.09 1199.47 1544.09 Q1203.1 1544.09 1204.91 1540.55 Q1206.74 1536.98 1206.74 1529.87 Q1206.74 1522.75 1204.91 1519.2 Q1203.1 1515.64 1199.47 1515.64 M1199.47 1511.93 Q1205.28 1511.93 1208.33 1516.54 Q1211.41 1521.12 1211.41 1529.87 Q1211.41 1538.6 1208.33 1543.21 Q1205.28 1547.79 1199.47 1547.79 Q1193.66 1547.79 1190.58 1543.21 Q1187.52 1538.6 1187.52 1529.87 Q1187.52 1521.12 1190.58 1516.54 Q1193.66 1511.93 1199.47 1511.93 Z\" fill=\"#000000\" fill-rule=\"evenodd\" fill-opacity=\"1\" /><path clip-path=\"url(#clip050)\" d=\"M 0 0 M1216.48 1541.24 L1221.37 1541.24 L1221.37 1547.12 L1216.48 1547.12 L1216.48 1541.24 Z\" fill=\"#000000\" fill-rule=\"evenodd\" fill-opacity=\"1\" /><path clip-path=\"url(#clip050)\" d=\"M 0 0 M1236.44 1515.64 Q1232.83 1515.64 1231 1519.2 Q1229.19 1522.75 1229.19 1529.87 Q1229.19 1536.98 1231 1540.55 Q1232.83 1544.09 1236.44 1544.09 Q1240.07 1544.09 1241.88 1540.55 Q1243.7 1536.98 1243.7 1529.87 Q1243.7 1522.75 1241.88 1519.2 Q1240.07 1515.64 1236.44 1515.64 M1236.44 1511.93 Q1242.25 1511.93 1245.3 1516.54 Q1248.38 1521.12 1248.38 1529.87 Q1248.38 1538.6 1245.3 1543.21 Q1242.25 1547.79 1236.44 1547.79 Q1230.63 1547.79 1227.55 1543.21 Q1224.49 1538.6 1224.49 1529.87 Q1224.49 1521.12 1227.55 1516.54 Q1230.63 1511.93 1236.44 1511.93 Z\" fill=\"#000000\" fill-rule=\"evenodd\" fill-opacity=\"1\" /><path clip-path=\"url(#clip050)\" d=\"M 0 0 M1254.26 1543.18 L1261.9 1543.18 L1261.9 1516.82 L1253.59 1518.49 L1253.59 1514.23 L1261.85 1512.56 L1266.53 1512.56 L1266.53 1543.18 L1274.17 1543.18 L1274.17 1547.12 L1254.26 1547.12 L1254.26 1543.18 Z\" fill=\"#000000\" fill-rule=\"evenodd\" fill-opacity=\"1\" /><path clip-path=\"url(#clip050)\" d=\"M 0 0 M1289.24 1515.64 Q1285.63 1515.64 1283.8 1519.2 Q1281.99 1522.75 1281.99 1529.87 Q1281.99 1536.98 1283.8 1540.55 Q1285.63 1544.09 1289.24 1544.09 Q1292.87 1544.09 1294.68 1540.55 Q1296.51 1536.98 1296.51 1529.87 Q1296.51 1522.75 1294.68 1519.2 Q1292.87 1515.64 1289.24 1515.64 M1289.24 1511.93 Q1295.05 1511.93 1298.1 1516.54 Q1301.18 1521.12 1301.18 1529.87 Q1301.18 1538.6 1298.1 1543.21 Q1295.05 1547.79 1289.24 1547.79 Q1283.43 1547.79 1280.35 1543.21 Q1277.29 1538.6 1277.29 1529.87 Q1277.29 1521.12 1280.35 1516.54 Q1283.43 1511.93 1289.24 1511.93 Z\" fill=\"#000000\" fill-rule=\"evenodd\" fill-opacity=\"1\" /><path clip-path=\"url(#clip050)\" d=\"M 0 0 M1594.86 1515.64 Q1591.25 1515.64 1589.42 1519.2 Q1587.61 1522.75 1587.61 1529.87 Q1587.61 1536.98 1589.42 1540.55 Q1591.25 1544.09 1594.86 1544.09 Q1598.49 1544.09 1600.3 1540.55 Q1602.13 1536.98 1602.13 1529.87 Q1602.13 1522.75 1600.3 1519.2 Q1598.49 1515.64 1594.86 1515.64 M1594.86 1511.93 Q1600.67 1511.93 1603.72 1516.54 Q1606.8 1521.12 1606.8 1529.87 Q1606.8 1538.6 1603.72 1543.21 Q1600.67 1547.79 1594.86 1547.79 Q1589.05 1547.79 1585.97 1543.21 Q1582.91 1538.6 1582.91 1529.87 Q1582.91 1521.12 1585.97 1516.54 Q1589.05 1511.93 1594.86 1511.93 Z\" fill=\"#000000\" fill-rule=\"evenodd\" fill-opacity=\"1\" /><path clip-path=\"url(#clip050)\" d=\"M 0 0 M1611.87 1541.24 L1616.76 1541.24 L1616.76 1547.12 L1611.87 1547.12 L1611.87 1541.24 Z\" fill=\"#000000\" fill-rule=\"evenodd\" fill-opacity=\"1\" /><path clip-path=\"url(#clip050)\" d=\"M 0 0 M1631.82 1515.64 Q1628.21 1515.64 1626.39 1519.2 Q1624.58 1522.75 1624.58 1529.87 Q1624.58 1536.98 1626.39 1540.55 Q1628.21 1544.09 1631.82 1544.09 Q1635.46 1544.09 1637.26 1540.55 Q1639.09 1536.98 1639.09 1529.87 Q1639.09 1522.75 1637.26 1519.2 Q1635.46 1515.64 1631.82 1515.64 M1631.82 1511.93 Q1637.64 1511.93 1640.69 1516.54 Q1643.77 1521.12 1643.77 1529.87 Q1643.77 1538.6 1640.69 1543.21 Q1637.64 1547.79 1631.82 1547.79 Q1626.01 1547.79 1622.94 1543.21 Q1619.88 1538.6 1619.88 1529.87 Q1619.88 1521.12 1622.94 1516.54 Q1626.01 1511.93 1631.82 1511.93 Z\" fill=\"#000000\" fill-rule=\"evenodd\" fill-opacity=\"1\" /><path clip-path=\"url(#clip050)\" d=\"M 0 0 M1649.65 1543.18 L1657.29 1543.18 L1657.29 1516.82 L1648.98 1518.49 L1648.98 1514.23 L1657.24 1512.56 L1661.92 1512.56 L1661.92 1543.18 L1669.56 1543.18 L1669.56 1547.12 L1649.65 1547.12 L1649.65 1543.18 Z\" fill=\"#000000\" fill-rule=\"evenodd\" fill-opacity=\"1\" /><path clip-path=\"url(#clip050)\" d=\"M 0 0 M1678.65 1543.18 L1694.97 1543.18 L1694.97 1547.12 L1673.03 1547.12 L1673.03 1543.18 Q1675.69 1540.43 1680.27 1535.8 Q1684.88 1531.15 1686.06 1529.81 Q1688.31 1527.28 1689.19 1525.55 Q1690.09 1523.79 1690.09 1522.1 Q1690.09 1519.34 1688.14 1517.61 Q1686.22 1515.87 1683.12 1515.87 Q1680.92 1515.87 1678.47 1516.63 Q1676.04 1517.4 1673.26 1518.95 L1673.26 1514.23 Q1676.08 1513.09 1678.54 1512.51 Q1680.99 1511.93 1683.03 1511.93 Q1688.4 1511.93 1691.59 1514.62 Q1694.79 1517.31 1694.79 1521.8 Q1694.79 1523.93 1693.98 1525.85 Q1693.19 1527.74 1691.08 1530.34 Q1690.51 1531.01 1687.4 1534.23 Q1684.3 1537.42 1678.65 1543.18 Z\" fill=\"#000000\" fill-rule=\"evenodd\" fill-opacity=\"1\" /><path clip-path=\"url(#clip050)\" d=\"M 0 0 M1988.41 1515.64 Q1984.79 1515.64 1982.97 1519.2 Q1981.16 1522.75 1981.16 1529.87 Q1981.16 1536.98 1982.97 1540.55 Q1984.79 1544.09 1988.41 1544.09 Q1992.04 1544.09 1993.85 1540.55 Q1995.67 1536.98 1995.67 1529.87 Q1995.67 1522.75 1993.85 1519.2 Q1992.04 1515.64 1988.41 1515.64 M1988.41 1511.93 Q1994.22 1511.93 1997.27 1516.54 Q2000.35 1521.12 2000.35 1529.87 Q2000.35 1538.6 1997.27 1543.21 Q1994.22 1547.79 1988.41 1547.79 Q1982.6 1547.79 1979.52 1543.21 Q1976.46 1538.6 1976.46 1529.87 Q1976.46 1521.12 1979.52 1516.54 Q1982.6 1511.93 1988.41 1511.93 Z\" fill=\"#000000\" fill-rule=\"evenodd\" fill-opacity=\"1\" /><path clip-path=\"url(#clip050)\" d=\"M 0 0 M2005.42 1541.24 L2010.3 1541.24 L2010.3 1547.12 L2005.42 1547.12 L2005.42 1541.24 Z\" fill=\"#000000\" fill-rule=\"evenodd\" fill-opacity=\"1\" /><path clip-path=\"url(#clip050)\" d=\"M 0 0 M2025.37 1515.64 Q2021.76 1515.64 2019.93 1519.2 Q2018.13 1522.75 2018.13 1529.87 Q2018.13 1536.98 2019.93 1540.55 Q2021.76 1544.09 2025.37 1544.09 Q2029.01 1544.09 2030.81 1540.55 Q2032.64 1536.98 2032.64 1529.87 Q2032.64 1522.75 2030.81 1519.2 Q2029.01 1515.64 2025.37 1515.64 M2025.37 1511.93 Q2031.18 1511.93 2034.24 1516.54 Q2037.32 1521.12 2037.32 1529.87 Q2037.32 1538.6 2034.24 1543.21 Q2031.18 1547.79 2025.37 1547.79 Q2019.56 1547.79 2016.48 1543.21 Q2013.43 1538.6 2013.43 1529.87 Q2013.43 1521.12 2016.48 1516.54 Q2019.56 1511.93 2025.37 1511.93 Z\" fill=\"#000000\" fill-rule=\"evenodd\" fill-opacity=\"1\" /><path clip-path=\"url(#clip050)\" d=\"M 0 0 M2043.2 1543.18 L2050.84 1543.18 L2050.84 1516.82 L2042.53 1518.49 L2042.53 1514.23 L2050.79 1512.56 L2055.47 1512.56 L2055.47 1543.18 L2063.1 1543.18 L2063.1 1547.12 L2043.2 1547.12 L2043.2 1543.18 Z\" fill=\"#000000\" fill-rule=\"evenodd\" fill-opacity=\"1\" /><path clip-path=\"url(#clip050)\" d=\"M 0 0 M2081.02 1516.63 L2069.22 1535.08 L2081.02 1535.08 L2081.02 1516.63 M2079.79 1512.56 L2085.67 1512.56 L2085.67 1535.08 L2090.6 1535.08 L2090.6 1538.97 L2085.67 1538.97 L2085.67 1547.12 L2081.02 1547.12 L2081.02 1538.97 L2065.42 1538.97 L2065.42 1534.46 L2079.79 1512.56 Z\" fill=\"#000000\" fill-rule=\"evenodd\" fill-opacity=\"1\" /><polyline clip-path=\"url(#clip052)\" style=\"stroke:#000000; stroke-width:2; stroke-opacity:0.1; fill:none\" points=\"\n",
       "  135.95,1445.72 2352.76,1445.72 \n",
       "  \"/>\n",
       "<polyline clip-path=\"url(#clip052)\" style=\"stroke:#000000; stroke-width:2; stroke-opacity:0.1; fill:none\" points=\"\n",
       "  135.95,1162.85 2352.76,1162.85 \n",
       "  \"/>\n",
       "<polyline clip-path=\"url(#clip052)\" style=\"stroke:#000000; stroke-width:2; stroke-opacity:0.1; fill:none\" points=\"\n",
       "  135.95,879.991 2352.76,879.991 \n",
       "  \"/>\n",
       "<polyline clip-path=\"url(#clip052)\" style=\"stroke:#000000; stroke-width:2; stroke-opacity:0.1; fill:none\" points=\"\n",
       "  135.95,597.129 2352.76,597.129 \n",
       "  \"/>\n",
       "<polyline clip-path=\"url(#clip052)\" style=\"stroke:#000000; stroke-width:2; stroke-opacity:0.1; fill:none\" points=\"\n",
       "  135.95,314.266 2352.76,314.266 \n",
       "  \"/>\n",
       "<polyline clip-path=\"url(#clip050)\" style=\"stroke:#000000; stroke-width:4; stroke-opacity:1; fill:none\" points=\"\n",
       "  135.95,1486.45 135.95,47.2441 \n",
       "  \"/>\n",
       "<polyline clip-path=\"url(#clip050)\" style=\"stroke:#000000; stroke-width:4; stroke-opacity:1; fill:none\" points=\"\n",
       "  135.95,1445.72 162.552,1445.72 \n",
       "  \"/>\n",
       "<polyline clip-path=\"url(#clip050)\" style=\"stroke:#000000; stroke-width:4; stroke-opacity:1; fill:none\" points=\"\n",
       "  135.95,1162.85 162.552,1162.85 \n",
       "  \"/>\n",
       "<polyline clip-path=\"url(#clip050)\" style=\"stroke:#000000; stroke-width:4; stroke-opacity:1; fill:none\" points=\"\n",
       "  135.95,879.991 162.552,879.991 \n",
       "  \"/>\n",
       "<polyline clip-path=\"url(#clip050)\" style=\"stroke:#000000; stroke-width:4; stroke-opacity:1; fill:none\" points=\"\n",
       "  135.95,597.129 162.552,597.129 \n",
       "  \"/>\n",
       "<polyline clip-path=\"url(#clip050)\" style=\"stroke:#000000; stroke-width:4; stroke-opacity:1; fill:none\" points=\"\n",
       "  135.95,314.266 162.552,314.266 \n",
       "  \"/>\n",
       "<path clip-path=\"url(#clip050)\" d=\"M 0 0 M88.0058 1431.51 Q84.3947 1431.51 82.566 1435.08 Q80.7605 1438.62 80.7605 1445.75 Q80.7605 1452.86 82.566 1456.42 Q84.3947 1459.96 88.0058 1459.96 Q91.6401 1459.96 93.4456 1456.42 Q95.2743 1452.86 95.2743 1445.75 Q95.2743 1438.62 93.4456 1435.08 Q91.6401 1431.51 88.0058 1431.51 M88.0058 1427.81 Q93.816 1427.81 96.8715 1432.42 Q99.9502 1437 99.9502 1445.75 Q99.9502 1454.48 96.8715 1459.08 Q93.816 1463.67 88.0058 1463.67 Q82.1957 1463.67 79.117 1459.08 Q76.0614 1454.48 76.0614 1445.75 Q76.0614 1437 79.117 1432.42 Q82.1957 1427.81 88.0058 1427.81 Z\" fill=\"#000000\" fill-rule=\"evenodd\" fill-opacity=\"1\" /><path clip-path=\"url(#clip050)\" d=\"M 0 0 M79.0475 1145.57 L97.4039 1145.57 L97.4039 1149.51 L83.3299 1149.51 L83.3299 1157.98 Q84.3484 1157.63 85.3669 1157.47 Q86.3855 1157.29 87.404 1157.29 Q93.191 1157.29 96.5706 1160.46 Q99.9502 1163.63 99.9502 1169.05 Q99.9502 1174.62 96.478 1177.73 Q93.0058 1180.8 86.6864 1180.8 Q84.5105 1180.8 82.242 1180.43 Q79.9966 1180.06 77.5892 1179.32 L77.5892 1174.62 Q79.6725 1175.76 81.8947 1176.31 Q84.1169 1176.87 86.5938 1176.87 Q90.5984 1176.87 92.9363 1174.76 Q95.2743 1172.66 95.2743 1169.05 Q95.2743 1165.43 92.9363 1163.33 Q90.5984 1161.22 86.5938 1161.22 Q84.7188 1161.22 82.8438 1161.64 Q80.992 1162.05 79.0475 1162.93 L79.0475 1145.57 Z\" fill=\"#000000\" fill-rule=\"evenodd\" fill-opacity=\"1\" /><path clip-path=\"url(#clip050)\" d=\"M 0 0 M53.0292 893.336 L60.668 893.336 L60.668 866.97 L52.3579 868.637 L52.3579 864.378 L60.6217 862.711 L65.2976 862.711 L65.2976 893.336 L72.9365 893.336 L72.9365 897.271 L53.0292 897.271 L53.0292 893.336 Z\" fill=\"#000000\" fill-rule=\"evenodd\" fill-opacity=\"1\" /><path clip-path=\"url(#clip050)\" d=\"M 0 0 M88.0058 865.79 Q84.3947 865.79 82.566 869.354 Q80.7605 872.896 80.7605 880.026 Q80.7605 887.132 82.566 890.697 Q84.3947 894.239 88.0058 894.239 Q91.6401 894.239 93.4456 890.697 Q95.2743 887.132 95.2743 880.026 Q95.2743 872.896 93.4456 869.354 Q91.6401 865.79 88.0058 865.79 M88.0058 862.086 Q93.816 862.086 96.8715 866.692 Q99.9502 871.276 99.9502 880.026 Q99.9502 888.752 96.8715 893.359 Q93.816 897.942 88.0058 897.942 Q82.1957 897.942 79.117 893.359 Q76.0614 888.752 76.0614 880.026 Q76.0614 871.276 79.117 866.692 Q82.1957 862.086 88.0058 862.086 Z\" fill=\"#000000\" fill-rule=\"evenodd\" fill-opacity=\"1\" /><path clip-path=\"url(#clip050)\" d=\"M 0 0 M54.0245 610.473 L61.6634 610.473 L61.6634 584.108 L53.3532 585.774 L53.3532 581.515 L61.6171 579.849 L66.293 579.849 L66.293 610.473 L73.9318 610.473 L73.9318 614.409 L54.0245 614.409 L54.0245 610.473 Z\" fill=\"#000000\" fill-rule=\"evenodd\" fill-opacity=\"1\" /><path clip-path=\"url(#clip050)\" d=\"M 0 0 M79.0475 579.849 L97.4039 579.849 L97.4039 583.784 L83.3299 583.784 L83.3299 592.256 Q84.3484 591.909 85.3669 591.747 Q86.3855 591.561 87.404 591.561 Q93.191 591.561 96.5706 594.733 Q99.9502 597.904 99.9502 603.321 Q99.9502 608.899 96.478 612.001 Q93.0058 615.08 86.6864 615.08 Q84.5105 615.08 82.242 614.709 Q79.9966 614.339 77.5892 613.598 L77.5892 608.899 Q79.6725 610.034 81.8947 610.589 Q84.1169 611.145 86.5938 611.145 Q90.5984 611.145 92.9363 609.038 Q95.2743 606.932 95.2743 603.321 Q95.2743 599.71 92.9363 597.603 Q90.5984 595.497 86.5938 595.497 Q84.7188 595.497 82.8438 595.913 Q80.992 596.33 79.0475 597.21 L79.0475 579.849 Z\" fill=\"#000000\" fill-rule=\"evenodd\" fill-opacity=\"1\" /><path clip-path=\"url(#clip050)\" d=\"M 0 0 M56.6171 327.611 L72.9365 327.611 L72.9365 331.546 L50.9921 331.546 L50.9921 327.611 Q53.6541 324.856 58.2375 320.227 Q62.8439 315.574 64.0245 314.231 Q66.2698 311.708 67.1494 309.972 Q68.0522 308.213 68.0522 306.523 Q68.0522 303.769 66.1078 302.032 Q64.1865 300.296 61.0847 300.296 Q58.8856 300.296 56.4319 301.06 Q54.0014 301.824 51.2236 303.375 L51.2236 298.653 Q54.0477 297.519 56.5014 296.94 Q58.955 296.361 60.9921 296.361 Q66.3624 296.361 69.5568 299.046 Q72.7513 301.732 72.7513 306.222 Q72.7513 308.352 71.9411 310.273 Q71.1541 312.171 69.0476 314.764 Q68.4689 315.435 65.367 318.653 Q62.2652 321.847 56.6171 327.611 Z\" fill=\"#000000\" fill-rule=\"evenodd\" fill-opacity=\"1\" /><path clip-path=\"url(#clip050)\" d=\"M 0 0 M88.0058 300.065 Q84.3947 300.065 82.566 303.63 Q80.7605 307.171 80.7605 314.301 Q80.7605 321.407 82.566 324.972 Q84.3947 328.514 88.0058 328.514 Q91.6401 328.514 93.4456 324.972 Q95.2743 321.407 95.2743 314.301 Q95.2743 307.171 93.4456 303.63 Q91.6401 300.065 88.0058 300.065 M88.0058 296.361 Q93.816 296.361 96.8715 300.968 Q99.9502 305.551 99.9502 314.301 Q99.9502 323.028 96.8715 327.634 Q93.816 332.217 88.0058 332.217 Q82.1957 332.217 79.117 327.634 Q76.0614 323.028 76.0614 314.301 Q76.0614 305.551 79.117 300.968 Q82.1957 296.361 88.0058 296.361 Z\" fill=\"#000000\" fill-rule=\"evenodd\" fill-opacity=\"1\" /><path clip-path=\"url(#clip052)\" d=\"\n",
       "M257.878 1389.14 L257.878 1445.72 L455.173 1445.72 L455.173 1389.14 L257.878 1389.14 L257.878 1389.14  Z\n",
       "  \" fill=\"#009af9\" fill-rule=\"evenodd\" fill-opacity=\"1\"/>\n",
       "<polyline clip-path=\"url(#clip052)\" style=\"stroke:#000000; stroke-width:4; stroke-opacity:1; fill:none\" points=\"\n",
       "  257.878,1389.14 257.878,1445.72 455.173,1445.72 455.173,1389.14 257.878,1389.14 \n",
       "  \"/>\n",
       "<path clip-path=\"url(#clip052)\" d=\"\n",
       "M455.173 1389.14 L455.173 1445.72 L652.468 1445.72 L652.468 1389.14 L455.173 1389.14 L455.173 1389.14  Z\n",
       "  \" fill=\"#009af9\" fill-rule=\"evenodd\" fill-opacity=\"1\"/>\n",
       "<polyline clip-path=\"url(#clip052)\" style=\"stroke:#000000; stroke-width:4; stroke-opacity:1; fill:none\" points=\"\n",
       "  455.173,1389.14 455.173,1445.72 652.468,1445.72 652.468,1389.14 455.173,1389.14 \n",
       "  \"/>\n",
       "<path clip-path=\"url(#clip052)\" d=\"\n",
       "M652.468 653.701 L652.468 1445.72 L849.763 1445.72 L849.763 653.701 L652.468 653.701 L652.468 653.701  Z\n",
       "  \" fill=\"#009af9\" fill-rule=\"evenodd\" fill-opacity=\"1\"/>\n",
       "<polyline clip-path=\"url(#clip052)\" style=\"stroke:#000000; stroke-width:4; stroke-opacity:1; fill:none\" points=\"\n",
       "  652.468,653.701 652.468,1445.72 849.763,1445.72 849.763,653.701 652.468,653.701 \n",
       "  \"/>\n",
       "<path clip-path=\"url(#clip052)\" d=\"\n",
       "M849.763 540.556 L849.763 1445.72 L1047.06 1445.72 L1047.06 540.556 L849.763 540.556 L849.763 540.556  Z\n",
       "  \" fill=\"#009af9\" fill-rule=\"evenodd\" fill-opacity=\"1\"/>\n",
       "<polyline clip-path=\"url(#clip052)\" style=\"stroke:#000000; stroke-width:4; stroke-opacity:1; fill:none\" points=\"\n",
       "  849.763,540.556 849.763,1445.72 1047.06,1445.72 1047.06,540.556 849.763,540.556 \n",
       "  \"/>\n",
       "<path clip-path=\"url(#clip052)\" d=\"\n",
       "M1047.06 427.411 L1047.06 1445.72 L1244.35 1445.72 L1244.35 427.411 L1047.06 427.411 L1047.06 427.411  Z\n",
       "  \" fill=\"#009af9\" fill-rule=\"evenodd\" fill-opacity=\"1\"/>\n",
       "<polyline clip-path=\"url(#clip052)\" style=\"stroke:#000000; stroke-width:4; stroke-opacity:1; fill:none\" points=\"\n",
       "  1047.06,427.411 1047.06,1445.72 1244.35,1445.72 1244.35,427.411 1047.06,427.411 \n",
       "  \"/>\n",
       "<path clip-path=\"url(#clip052)\" d=\"\n",
       "M1244.35 87.9763 L1244.35 1445.72 L1441.65 1445.72 L1441.65 87.9763 L1244.35 87.9763 L1244.35 87.9763  Z\n",
       "  \" fill=\"#009af9\" fill-rule=\"evenodd\" fill-opacity=\"1\"/>\n",
       "<polyline clip-path=\"url(#clip052)\" style=\"stroke:#000000; stroke-width:4; stroke-opacity:1; fill:none\" points=\"\n",
       "  1244.35,87.9763 1244.35,1445.72 1441.65,1445.72 1441.65,87.9763 1244.35,87.9763 \n",
       "  \"/>\n",
       "<path clip-path=\"url(#clip052)\" d=\"\n",
       "M1441.65 823.418 L1441.65 1445.72 L1638.94 1445.72 L1638.94 823.418 L1441.65 823.418 L1441.65 823.418  Z\n",
       "  \" fill=\"#009af9\" fill-rule=\"evenodd\" fill-opacity=\"1\"/>\n",
       "<polyline clip-path=\"url(#clip052)\" style=\"stroke:#000000; stroke-width:4; stroke-opacity:1; fill:none\" points=\"\n",
       "  1441.65,823.418 1441.65,1445.72 1638.94,1445.72 1638.94,823.418 1441.65,823.418 \n",
       "  \"/>\n",
       "<path clip-path=\"url(#clip052)\" d=\"\n",
       "M1638.94 936.563 L1638.94 1445.72 L1836.24 1445.72 L1836.24 936.563 L1638.94 936.563 L1638.94 936.563  Z\n",
       "  \" fill=\"#009af9\" fill-rule=\"evenodd\" fill-opacity=\"1\"/>\n",
       "<polyline clip-path=\"url(#clip052)\" style=\"stroke:#000000; stroke-width:4; stroke-opacity:1; fill:none\" points=\"\n",
       "  1638.94,936.563 1638.94,1445.72 1836.24,1445.72 1836.24,936.563 1638.94,936.563 \n",
       "  \"/>\n",
       "<path clip-path=\"url(#clip052)\" d=\"\n",
       "M1836.24 1219.43 L1836.24 1445.72 L2033.53 1445.72 L2033.53 1219.43 L1836.24 1219.43 L1836.24 1219.43  Z\n",
       "  \" fill=\"#009af9\" fill-rule=\"evenodd\" fill-opacity=\"1\"/>\n",
       "<polyline clip-path=\"url(#clip052)\" style=\"stroke:#000000; stroke-width:4; stroke-opacity:1; fill:none\" points=\"\n",
       "  1836.24,1219.43 1836.24,1445.72 2033.53,1445.72 2033.53,1219.43 1836.24,1219.43 \n",
       "  \"/>\n",
       "<path clip-path=\"url(#clip052)\" d=\"\n",
       "M2033.53 1332.57 L2033.53 1445.72 L2230.83 1445.72 L2230.83 1332.57 L2033.53 1332.57 L2033.53 1332.57  Z\n",
       "  \" fill=\"#009af9\" fill-rule=\"evenodd\" fill-opacity=\"1\"/>\n",
       "<polyline clip-path=\"url(#clip052)\" style=\"stroke:#000000; stroke-width:4; stroke-opacity:1; fill:none\" points=\"\n",
       "  2033.53,1332.57 2033.53,1445.72 2230.83,1445.72 2230.83,1332.57 2033.53,1332.57 \n",
       "  \"/>\n",
       "<path clip-path=\"url(#clip050)\" d=\"\n",
       "M1981.53 216.178 L2278.86 216.178 L2278.86 95.2176 L1981.53 95.2176  Z\n",
       "  \" fill=\"#ffffff\" fill-rule=\"evenodd\" fill-opacity=\"1\"/>\n",
       "<polyline clip-path=\"url(#clip050)\" style=\"stroke:#000000; stroke-width:4; stroke-opacity:1; fill:none\" points=\"\n",
       "  1981.53,216.178 2278.86,216.178 2278.86,95.2176 1981.53,95.2176 1981.53,216.178 \n",
       "  \"/>\n",
       "<path clip-path=\"url(#clip050)\" d=\"\n",
       "M2006.16 179.89 L2153.95 179.89 L2153.95 131.506 L2006.16 131.506 L2006.16 179.89  Z\n",
       "  \" fill=\"#009af9\" fill-rule=\"evenodd\" fill-opacity=\"1\"/>\n",
       "<polyline clip-path=\"url(#clip050)\" style=\"stroke:#000000; stroke-width:4; stroke-opacity:1; fill:none\" points=\"\n",
       "  2006.16,179.89 2153.95,179.89 2153.95,131.506 2006.16,131.506 2006.16,179.89 \n",
       "  \"/>\n",
       "<path clip-path=\"url(#clip050)\" d=\"M 0 0 M2192.42 175.385 Q2190.62 180.015 2188.91 181.427 Q2187.19 182.839 2184.32 182.839 L2180.92 182.839 L2180.92 179.274 L2183.42 179.274 Q2185.18 179.274 2186.15 178.44 Q2187.12 177.607 2188.3 174.505 L2189.07 172.561 L2178.58 147.052 L2183.1 147.052 L2191.2 167.329 L2199.3 147.052 L2203.81 147.052 L2192.42 175.385 Z\" fill=\"#000000\" fill-rule=\"evenodd\" fill-opacity=\"1\" /><path clip-path=\"url(#clip050)\" d=\"M 0 0 M2209.69 169.042 L2217.33 169.042 L2217.33 142.677 L2209.02 144.343 L2209.02 140.084 L2217.29 138.418 L2221.96 138.418 L2221.96 169.042 L2229.6 169.042 L2229.6 172.978 L2209.69 172.978 L2209.69 169.042 Z\" fill=\"#000000\" fill-rule=\"evenodd\" fill-opacity=\"1\" /></svg>\n"
      ]
     },
     "execution_count": 52,
     "metadata": {},
     "output_type": "execute_result"
    }
   ],
   "source": [
    "histogram(p)"
   ]
  },
  {
   "cell_type": "markdown",
   "metadata": {
    "slideshow": {
     "slide_type": "slide"
    }
   },
   "source": [
    "We can use these weights to sample from our population using the `sample` function from the `StatsBase` package"
   ]
  },
  {
   "cell_type": "code",
   "execution_count": 53,
   "metadata": {
    "slideshow": {
     "slide_type": "fragment"
    }
   },
   "outputs": [
    {
     "data": {
      "text/plain": [
       "FloatInd([0.5536864526881009, 0.7543158634560136, 0.609752728667291, 0.3304338178232369, 0.8387685174370947, 0.6436984235352052, 0.35808774175619007, 0.8200331676293464, 0.5324705305570403, 0.20275347720884085], -90.08915715430844)"
      ]
     },
     "execution_count": 53,
     "metadata": {},
     "output_type": "execute_result"
    }
   ],
   "source": [
    "sample(population, Weights(p))"
   ]
  },
  {
   "cell_type": "markdown",
   "metadata": {
    "slideshow": {
     "slide_type": "fragment"
    }
   },
   "source": [
    "Let's write this according to the `select` function definition we used before, which takes in the population and gives out a single individual."
   ]
  },
  {
   "cell_type": "code",
   "execution_count": 54,
   "metadata": {
    "slideshow": {
     "slide_type": "fragment"
    }
   },
   "outputs": [
    {
     "data": {
      "text/plain": [
       "fp_select (generic function with 1 method)"
      ]
     },
     "execution_count": 54,
     "metadata": {},
     "output_type": "execute_result"
    }
   ],
   "source": [
    "function fp_select(population::Array{<:Individual})\n",
    "    fits = [-i.fitness for i in population]\n",
    "    fits = maximum(fits) .- fits\n",
    "    p = fits ./ sum(fits)\n",
    "    sample(population, Weights(p))\n",
    "end"
   ]
  },
  {
   "cell_type": "markdown",
   "metadata": {
    "slideshow": {
     "slide_type": "slide"
    }
   },
   "source": [
    "Does this perform better than our previous method? Let's select 20 individuals using this method."
   ]
  },
  {
   "cell_type": "code",
   "execution_count": 55,
   "metadata": {
    "slideshow": {
     "slide_type": "fragment"
    }
   },
   "outputs": [],
   "source": [
    "selected = Array{Individual}(undef, 20)\n",
    "for i in eachindex(selected)\n",
    "    selected[i] = fp_select(population)\n",
    "end"
   ]
  },
  {
   "cell_type": "code",
   "execution_count": 56,
   "metadata": {
    "slideshow": {
     "slide_type": "slide"
    }
   },
   "outputs": [
    {
     "data": {
      "text/plain": [
       "100-element Array{Float64,1}:\n",
       " 0.0006246584844578074\n",
       " 0.6060164768380125\n",
       " 0.6739272426067302\n",
       " 0.470209895682691\n",
       " 0.009271471499266326\n",
       " 0.45112306119802104\n",
       " 0.8121270289073013\n",
       " 0.7543158634560136\n",
       " 0.20055841499066807\n",
       " 0.5433326579706095\n",
       " 0.980859645380521\n",
       " 0.13071895846225856\n",
       " 0.6707578629570785\n",
       " ⋮\n",
       " 0.00384818042857904\n",
       " 0.39704652544203434\n",
       " 0.024794555897245774\n",
       " 0.2613168304198228\n",
       " 0.8769427269464452\n",
       " 0.8480500931306318\n",
       " 0.507605880893699\n",
       " 0.7822388841193697\n",
       " 0.8788983583490446\n",
       " 0.2943945955479874\n",
       " 0.9713328268565133\n",
       " 0.1384979034862226"
      ]
     },
     "execution_count": 56,
     "metadata": {},
     "output_type": "execute_result"
    }
   ],
   "source": [
    "sxs = [i.genes[1] for i in selected]\n",
    "sys = [i.genes[2] for i in selected]\n",
    "xs = [i.genes[1] for i in population]\n",
    "ys = [i.genes[2] for i in population]\n",
    "#plot(x, y, fz, st=:contour)\n",
    "#scatter!(xs, ys, label=\"pop\", legend=:outertopright)\n",
    "#scatter!(sxs, sys, label=\"fp_select\")"
   ]
  },
  {
   "cell_type": "markdown",
   "metadata": {
    "slideshow": {
     "slide_type": "slide"
    }
   },
   "source": [
    "As we can see here, individuals are not only found in local maxima but throughout the search space, which is good for diversity. The last selection method we'll use is called tournament selection. This method creates small random tournaments and selects the winner from this smaller subset for every new individual. We'll use a tournament size of 3, so we'll randomly select 3 individuals and then return the best individual from those 3."
   ]
  },
  {
   "cell_type": "code",
   "execution_count": 57,
   "metadata": {
    "slideshow": {
     "slide_type": "fragment"
    }
   },
   "outputs": [
    {
     "data": {
      "text/plain": [
       "tournament_select (generic function with 1 method)"
      ]
     },
     "execution_count": 57,
     "metadata": {},
     "output_type": "execute_result"
    }
   ],
   "source": [
    "function tournament_select(population::Array{<:Individual})\n",
    "    tournament = sample(population, 3)\n",
    "    sort!(tournament, rev=true)[1]\n",
    "end"
   ]
  },
  {
   "cell_type": "markdown",
   "metadata": {
    "slideshow": {
     "slide_type": "slide"
    }
   },
   "source": [
    "Let's look at 20 selections from the tournament selection method and compare it to the fitness proportionate method."
   ]
  },
  {
   "cell_type": "code",
   "execution_count": 58,
   "metadata": {
    "slideshow": {
     "slide_type": "fragment"
    }
   },
   "outputs": [],
   "source": [
    "winners = Array{Individual}(undef, 20)\n",
    "for i in eachindex(winners)\n",
    "    winners[i] = tournament_select(population)\n",
    "end"
   ]
  },
  {
   "cell_type": "code",
   "execution_count": 59,
   "metadata": {
    "slideshow": {
     "slide_type": "slide"
    }
   },
   "outputs": [
    {
     "data": {
      "text/plain": [
       "20-element Array{Float64,1}:\n",
       " 0.42793810166645563\n",
       " 0.611785886768957\n",
       " 0.13071895846225856\n",
       " 0.20055841499066807\n",
       " 0.5941177451697834\n",
       " 0.009271471499266326\n",
       " 0.11655643456342801\n",
       " 0.8026570058867193\n",
       " 0.5125176341006388\n",
       " 0.9382077944308342\n",
       " 0.611785886768957\n",
       " 0.18343520055673923\n",
       " 0.0006246584844578074\n",
       " 0.7543158634560136\n",
       " 0.6932995317241051\n",
       " 0.07602184735053141\n",
       " 0.021817579178419422\n",
       " 0.13071895846225856\n",
       " 0.3441289180167677\n",
       " 0.20055841499066807"
      ]
     },
     "execution_count": 59,
     "metadata": {},
     "output_type": "execute_result"
    }
   ],
   "source": [
    "wxs = [i.genes[1] for i in winners]\n",
    "wys = [i.genes[2] for i in winners]\n",
    "#p1 = plot(x, y, fz, st=:contour)\n",
    "#scatter!(xs, ys, legend=:none)\n",
    "#scatter!(sxs, sys)\n",
    "#title!(\"Fitness Proportionate\")\n",
    "#p2 = plot(x, y, fz, st=:contour)\n",
    "#scatter!(xs, ys, legend=:none)\n",
    "#scatter!(wxs, wys)\n",
    "#title!(\"Tournament\")\n",
    "#plot(p1, p2, size=(950, 400))"
   ]
  },
  {
   "cell_type": "markdown",
   "metadata": {
    "slideshow": {
     "slide_type": "slide"
    }
   },
   "source": [
    "<div class=\"alert alert-success\">\n",
    "    <b>Exercise 2</b>\n",
    "    <br/>\n",
    "    Plot the histogram of fitness values of 100 selected individuals using these two methods, and using a larger $n$ value. How do the distributions from the two methods compare? Try it also for a population of binary individuals on the OneMax function. Finally, try increasing the tournament size. What effect does that have on the selected individuals' fitness distribution?\n",
    "    <br/>\n",
    "</div>"
   ]
  },
  {
   "cell_type": "code",
   "execution_count": null,
   "metadata": {},
   "outputs": [],
   "source": []
  },
  {
   "cell_type": "markdown",
   "metadata": {
    "slideshow": {
     "slide_type": "slide"
    }
   },
   "source": [
    "## <a id=\"mutation\"></a>Mutation"
   ]
  },
  {
   "cell_type": "markdown",
   "metadata": {
    "slideshow": {
     "slide_type": "fragment"
    }
   },
   "source": [
    "For this genetic algorithm, we'll simply reuse the functions we defined in section 1.3. We will flip the gene bit for binary individuals and use `rand` for floating point individuals."
   ]
  },
  {
   "cell_type": "code",
   "execution_count": 60,
   "metadata": {
    "slideshow": {
     "slide_type": "slide"
    }
   },
   "outputs": [
    {
     "data": {
      "text/plain": [
       "mutate (generic function with 1 method)"
      ]
     },
     "execution_count": 60,
     "metadata": {},
     "output_type": "execute_result"
    }
   ],
   "source": [
    "function mutate(ind::BitInd; mutation_rate::Float64=1.0/length(ind.genes))\n",
    "    new_genes = copy(ind.genes)\n",
    "    for i in eachindex(new_genes)\n",
    "        if rand() < mutation_rate\n",
    "            new_genes[i] = ~ind.genes[i]\n",
    "        end\n",
    "    end\n",
    "    BitInd(new_genes, -Inf)\n",
    "end"
   ]
  },
  {
   "cell_type": "code",
   "execution_count": 61,
   "metadata": {
    "slideshow": {
     "slide_type": "slide"
    }
   },
   "outputs": [
    {
     "data": {
      "text/plain": [
       "mutate (generic function with 2 methods)"
      ]
     },
     "execution_count": 61,
     "metadata": {},
     "output_type": "execute_result"
    }
   ],
   "source": [
    "function mutate(ind::FloatInd; mutation_rate::Float64=1.0/length(ind.genes))\n",
    "    new_genes = copy(ind.genes)\n",
    "    for i in eachindex(new_genes)\n",
    "        if rand() < mutation_rate\n",
    "            new_genes[i] = rand()\n",
    "        end\n",
    "    end\n",
    "    FloatInd(new_genes, -Inf)\n",
    "end"
   ]
  },
  {
   "cell_type": "markdown",
   "metadata": {
    "slideshow": {
     "slide_type": "slide"
    }
   },
   "source": [
    "Let's test it"
   ]
  },
  {
   "cell_type": "code",
   "execution_count": 62,
   "metadata": {
    "slideshow": {
     "slide_type": "fragment"
    }
   },
   "outputs": [
    {
     "name": "stdout",
     "output_type": "stream",
     "text": [
      "FloatInd([0.035598150979136545, 0.0006246584844578074, 0.3641477631019556, 0.788504367591075, 0.7680166786199334, 0.9968829010419775, 0.5962224179560147, 0.44269078138164586, 0.22476434225370934, 0.27903322325903246], -70.78676603242158)\n",
      "FloatInd([0.035598150979136545, 0.0006246584844578074, 0.3641477631019556, 0.788504367591075, 0.7680166786199334, 0.9968829010419775, 0.5962224179560147, 0.44269078138164586, 0.22476434225370934, 0.27903322325903246], -Inf)\n"
     ]
    }
   ],
   "source": [
    "println(population[1])\n",
    "println(mutate(population[1]))"
   ]
  },
  {
   "cell_type": "markdown",
   "metadata": {
    "slideshow": {
     "slide_type": "slide"
    }
   },
   "source": [
    "<div class=\"alert alert-success\">\n",
    "    <b>Exercise 3</b>\n",
    "    <br/>\n",
    "    Our mutation operator samples from the entire space. Can we instead use the previous gene value as a starting point for mutation? Implement a new mutation operator that adds a small random value between -0.1 and 0.1 to the modified gene.\n",
    "    <br/>\n",
    "</div>"
   ]
  },
  {
   "cell_type": "markdown",
   "metadata": {
    "slideshow": {
     "slide_type": "slide"
    }
   },
   "source": [
    "## <a id=\"crossover\"></a>Crossover\n",
    "\n",
    "Considering we have such a large population, is there some way to combine individual solutions to lead to better solutions? For example, could we make an individual which inherits information from two parent individuals? This is the idea behind crossover, the other operator in genetic algorithms besides mutation. It is based on sexual reproduction where the genetic information of two parent individuals is mixed to create an offspring individual. The idea of combining the information from multiple individuals together to create the next generation is something we'll explore in more detail next class when discussing evolutionary strategies. For now, let's look at ways to combine two individuals."
   ]
  },
  {
   "cell_type": "markdown",
   "metadata": {
    "slideshow": {
     "slide_type": "slide"
    }
   },
   "source": [
    "<img src=\"../imgs/crossover.png\" width=\"80%\" height=\"auto\">"
   ]
  },
  {
   "cell_type": "markdown",
   "metadata": {
    "slideshow": {
     "slide_type": "fragment"
    }
   },
   "source": [
    "The first methods we'll look at is single-point crossover. Here, the child genes are composed of two continuous sections, the first from one parent and the second from the other parent."
   ]
  },
  {
   "cell_type": "code",
   "execution_count": 63,
   "metadata": {
    "slideshow": {
     "slide_type": "slide"
    }
   },
   "outputs": [
    {
     "data": {
      "text/plain": [
       "one_point_crossover (generic function with 1 method)"
      ]
     },
     "execution_count": 63,
     "metadata": {},
     "output_type": "execute_result"
    }
   ],
   "source": [
    "function one_point_crossover(p1::Individual, p2::Individual)\n",
    "    child = copy(p1.genes)\n",
    "    n = rand(1:length(p2.genes))\n",
    "    child[n:end] = copy(p2.genes[n:end])\n",
    "    typeof(p1)(child, -Inf)\n",
    "end"
   ]
  },
  {
   "cell_type": "markdown",
   "metadata": {
    "slideshow": {
     "slide_type": "slide"
    }
   },
   "source": [
    "Let's test that"
   ]
  },
  {
   "cell_type": "code",
   "execution_count": 64,
   "metadata": {
    "slideshow": {
     "slide_type": "fragment"
    }
   },
   "outputs": [
    {
     "name": "stdout",
     "output_type": "stream",
     "text": [
      "P1: BitInd(Bool[1, 1, 1, 1, 1, 0, 1, 0, 0, 0, 0, 0, 1, 1, 0], -Inf)\n",
      "P2: BitInd(Bool[1, 1, 0, 1, 1, 0, 1, 1, 0, 1, 1, 0, 0, 0, 1], -Inf)\n",
      "C : BitInd(Bool[1, 1, 1, 1, 1, 0, 1, 1, 0, 1, 1, 0, 0, 0, 1], -Inf)\n"
     ]
    }
   ],
   "source": [
    "p1 = BitInd(15)\n",
    "p2 = BitInd(15)\n",
    "println(\"P1: \", p1)\n",
    "println(\"P2: \", p2)\n",
    "child = one_point_crossover(p1, p2)\n",
    "println(\"C : \", child)"
   ]
  },
  {
   "cell_type": "markdown",
   "metadata": {
    "slideshow": {
     "slide_type": "slide"
    }
   },
   "source": [
    "This is most useful when sequential sections of a genome should be passed together, which is the case in biological evolution but not always necessary in artificial evolution. This method is also the basis of k-point crossover, which follows the same method but splits at $k$ points, alternating between parents at each crossing point. Note that this method can generate two children at once, but for the sake of coherence we'll just use the first child."
   ]
  },
  {
   "cell_type": "markdown",
   "metadata": {
    "slideshow": {
     "slide_type": "slide"
    }
   },
   "source": [
    "The second crossover method we'll look at is uniform crossover, which randomly chooses a different parent for each gene."
   ]
  },
  {
   "cell_type": "code",
   "execution_count": 65,
   "metadata": {
    "slideshow": {
     "slide_type": "fragment"
    }
   },
   "outputs": [
    {
     "data": {
      "text/plain": [
       "uniform_crossover (generic function with 1 method)"
      ]
     },
     "execution_count": 65,
     "metadata": {},
     "output_type": "execute_result"
    }
   ],
   "source": [
    "function uniform_crossover(p1::Individual, p2::Individual)\n",
    "    child = copy(p1.genes)\n",
    "    for i in eachindex(child)\n",
    "        if rand() < 0.5\n",
    "            child[i] = p2.genes[i]\n",
    "        end\n",
    "    end\n",
    "    typeof(p1)(child, -Inf)\n",
    "end"
   ]
  },
  {
   "cell_type": "markdown",
   "metadata": {
    "slideshow": {
     "slide_type": "slide"
    }
   },
   "source": [
    "And the test"
   ]
  },
  {
   "cell_type": "code",
   "execution_count": 66,
   "metadata": {
    "slideshow": {
     "slide_type": "fragment"
    }
   },
   "outputs": [
    {
     "name": "stdout",
     "output_type": "stream",
     "text": [
      "P1: BitInd(Bool[0, 0, 1, 0, 0, 0, 0, 0, 0, 0, 0, 1, 0, 0, 0], -Inf)\n",
      "P2: BitInd(Bool[1, 1, 1, 0, 1, 0, 1, 0, 1, 1, 0, 0, 0, 0, 1], -Inf)\n",
      "C : BitInd(Bool[0, 0, 1, 0, 0, 0, 0, 0, 0, 0, 0, 0, 0, 0, 1], -Inf)\n"
     ]
    }
   ],
   "source": [
    "p1 = BitInd(15)\n",
    "p2 = BitInd(15)\n",
    "println(\"P1: \", p1)\n",
    "println(\"P2: \", p2)\n",
    "child = one_point_crossover(p1, p2)\n",
    "println(\"C : \", child)"
   ]
  },
  {
   "cell_type": "markdown",
   "metadata": {
    "slideshow": {
     "slide_type": "slide"
    }
   },
   "source": [
    "<div class=\"alert alert-success\">\n",
    "    <b>Exercise 4</b>\n",
    "    <br/>\n",
    "    Which crossover method do you expect to work better for the OneMax problem? What about for the Rastrigin function? Explain your reasoning.\n",
    "    <br/>\n",
    "</div>"
   ]
  },
  {
   "cell_type": "markdown",
   "metadata": {
    "slideshow": {
     "slide_type": "slide"
    }
   },
   "source": [
    "## <a id=\"together\"></a>Putting it all together"
   ]
  },
  {
   "cell_type": "markdown",
   "metadata": {
    "slideshow": {
     "slide_type": "fragment"
    }
   },
   "source": [
    "Let's look back at the functions we defined earlier"
   ]
  },
  {
   "cell_type": "code",
   "execution_count": 67,
   "metadata": {
    "slideshow": {
     "slide_type": "slide"
    }
   },
   "outputs": [
    {
     "data": {
      "text/plain": [
       "step_ga (generic function with 1 method)"
      ]
     },
     "execution_count": 67,
     "metadata": {},
     "output_type": "execute_result"
    }
   ],
   "source": [
    "function step_ga(population::Array{<:Individual})\n",
    "    evaluate!(population)\n",
    "    max_fit = maximum([i.fitness for i in population])\n",
    "    \n",
    "    new_population = Array{Individual}(undef, 0)\n",
    "    while length(new_population) < length(population)\n",
    "        parent1 = select(population)\n",
    "        parent2 = select(population)\n",
    "        child1 = crossover(parent1, parent2)\n",
    "        child1 = mutate(child1)\n",
    "        push!(new_population, child1)\n",
    "    end\n",
    "    \n",
    "    new_population, max_fit\n",
    "end"
   ]
  },
  {
   "cell_type": "code",
   "execution_count": 68,
   "metadata": {
    "slideshow": {
     "slide_type": "slide"
    }
   },
   "outputs": [
    {
     "data": {
      "text/plain": [
       "ga (generic function with 1 method)"
      ]
     },
     "execution_count": 68,
     "metadata": {},
     "output_type": "execute_result"
    }
   ],
   "source": [
    "function ga(n_generations::Int)\n",
    "    population = initialize()\n",
    "    fits = zeros(n_generations)\n",
    "    \n",
    "    for i in 1:n_generations\n",
    "        population, max_fit = step_ga(population)\n",
    "        fits[i] = max_fit\n",
    "    end\n",
    "    \n",
    "    fits\n",
    "end"
   ]
  },
  {
   "cell_type": "markdown",
   "metadata": {
    "slideshow": {
     "slide_type": "slide"
    }
   },
   "source": [
    "We need to define our function choices for `initialize`, `select`, and `crossover`. Let's focus on the Rastrigin function and use uniform crossover. We'll compare the two selection methods, starting with fitness proporitionate selection."
   ]
  },
  {
   "cell_type": "code",
   "execution_count": 69,
   "metadata": {
    "slideshow": {
     "slide_type": "fragment"
    }
   },
   "outputs": [
    {
     "data": {
      "text/plain": [
       "uniform_crossover (generic function with 1 method)"
      ]
     },
     "execution_count": 69,
     "metadata": {},
     "output_type": "execute_result"
    }
   ],
   "source": [
    "initialize() = float_init(100, 10)\n",
    "crossover = uniform_crossover"
   ]
  },
  {
   "cell_type": "code",
   "execution_count": 70,
   "metadata": {
    "slideshow": {
     "slide_type": "slide"
    }
   },
   "outputs": [
    {
     "name": "stdout",
     "output_type": "stream",
     "text": [
      "1 -12.099912446565625\n",
      "2 -27.466276853632948\n",
      "3 -13.435265763629957\n",
      "4 -17.523834152763385\n",
      "5 -24.76599015565148\n",
      "6 -27.826977728422676\n",
      "7 -23.170766421105\n",
      "8 -18.54733907501827\n",
      "9 -29.743436630879515\n",
      "10 -21.638042012745004\n"
     ]
    }
   ],
   "source": [
    "select = fp_select\n",
    "fits_fp = zeros(100, 10)\n",
    "for i in 1:10\n",
    "    fits_fp[:, i] = ga(100)\n",
    "    println(i, \" \", fits_fp[end, i])\n",
    "end"
   ]
  },
  {
   "cell_type": "code",
   "execution_count": 71,
   "metadata": {
    "slideshow": {
     "slide_type": "slide"
    }
   },
   "outputs": [
    {
     "name": "stdout",
     "output_type": "stream",
     "text": [
      "1 -3.246813959630515\n",
      "2 -3.6880416544334054\n",
      "3 -3.6869537794809304\n",
      "4 -3.6927218401143307\n",
      "5 -3.926918763887201\n",
      "6 -5.846691082521005\n",
      "7 -3.9046757615423644\n",
      "8 -5.106453128895083\n",
      "9 -2.599021240413279\n",
      "10 -2.2760355963905994\n"
     ]
    }
   ],
   "source": [
    "select = tournament_select\n",
    "fits_tourney = zeros(100, 10)\n",
    "for i in 1:10\n",
    "    fits_tourney[:, i] = ga(100)\n",
    "    println(i, \" \", fits_tourney[end, i])\n",
    "end"
   ]
  },
  {
   "cell_type": "code",
   "execution_count": 72,
   "metadata": {
    "slideshow": {
     "slide_type": "slide"
    }
   },
   "outputs": [
    {
     "data": {
      "image/svg+xml": [
       "<?xml version=\"1.0\" encoding=\"utf-8\"?>\n",
       "<svg xmlns=\"http://www.w3.org/2000/svg\" xmlns:xlink=\"http://www.w3.org/1999/xlink\" width=\"600\" height=\"400\" viewBox=\"0 0 2400 1600\">\n",
       "<defs>\n",
       "  <clipPath id=\"clip090\">\n",
       "    <rect x=\"0\" y=\"0\" width=\"2400\" height=\"1600\"/>\n",
       "  </clipPath>\n",
       "</defs>\n",
       "<path clip-path=\"url(#clip090)\" d=\"\n",
       "M0 1600 L2400 1600 L2400 0 L0 0  Z\n",
       "  \" fill=\"#ffffff\" fill-rule=\"evenodd\" fill-opacity=\"1\"/>\n",
       "<defs>\n",
       "  <clipPath id=\"clip091\">\n",
       "    <rect x=\"480\" y=\"0\" width=\"1681\" height=\"1600\"/>\n",
       "  </clipPath>\n",
       "</defs>\n",
       "<path clip-path=\"url(#clip090)\" d=\"\n",
       "M171.181 1486.45 L1782.62 1486.45 L1782.62 47.2441 L171.181 47.2441  Z\n",
       "  \" fill=\"#ffffff\" fill-rule=\"evenodd\" fill-opacity=\"1\"/>\n",
       "<defs>\n",
       "  <clipPath id=\"clip092\">\n",
       "    <rect x=\"171\" y=\"47\" width=\"1612\" height=\"1440\"/>\n",
       "  </clipPath>\n",
       "</defs>\n",
       "<polyline clip-path=\"url(#clip092)\" style=\"stroke:#000000; stroke-width:2; stroke-opacity:0.1; fill:none\" points=\"\n",
       "  201.432,1486.45 201.432,47.2441 \n",
       "  \"/>\n",
       "<polyline clip-path=\"url(#clip092)\" style=\"stroke:#000000; stroke-width:2; stroke-opacity:0.1; fill:none\" points=\"\n",
       "  585.327,1486.45 585.327,47.2441 \n",
       "  \"/>\n",
       "<polyline clip-path=\"url(#clip092)\" style=\"stroke:#000000; stroke-width:2; stroke-opacity:0.1; fill:none\" points=\"\n",
       "  969.222,1486.45 969.222,47.2441 \n",
       "  \"/>\n",
       "<polyline clip-path=\"url(#clip092)\" style=\"stroke:#000000; stroke-width:2; stroke-opacity:0.1; fill:none\" points=\"\n",
       "  1353.12,1486.45 1353.12,47.2441 \n",
       "  \"/>\n",
       "<polyline clip-path=\"url(#clip092)\" style=\"stroke:#000000; stroke-width:2; stroke-opacity:0.1; fill:none\" points=\"\n",
       "  1737.01,1486.45 1737.01,47.2441 \n",
       "  \"/>\n",
       "<polyline clip-path=\"url(#clip090)\" style=\"stroke:#000000; stroke-width:4; stroke-opacity:1; fill:none\" points=\"\n",
       "  171.181,1486.45 1782.62,1486.45 \n",
       "  \"/>\n",
       "<polyline clip-path=\"url(#clip090)\" style=\"stroke:#000000; stroke-width:4; stroke-opacity:1; fill:none\" points=\"\n",
       "  201.432,1486.45 201.432,1469.18 \n",
       "  \"/>\n",
       "<polyline clip-path=\"url(#clip090)\" style=\"stroke:#000000; stroke-width:4; stroke-opacity:1; fill:none\" points=\"\n",
       "  585.327,1486.45 585.327,1469.18 \n",
       "  \"/>\n",
       "<polyline clip-path=\"url(#clip090)\" style=\"stroke:#000000; stroke-width:4; stroke-opacity:1; fill:none\" points=\"\n",
       "  969.222,1486.45 969.222,1469.18 \n",
       "  \"/>\n",
       "<polyline clip-path=\"url(#clip090)\" style=\"stroke:#000000; stroke-width:4; stroke-opacity:1; fill:none\" points=\"\n",
       "  1353.12,1486.45 1353.12,1469.18 \n",
       "  \"/>\n",
       "<polyline clip-path=\"url(#clip090)\" style=\"stroke:#000000; stroke-width:4; stroke-opacity:1; fill:none\" points=\"\n",
       "  1737.01,1486.45 1737.01,1469.18 \n",
       "  \"/>\n",
       "<path clip-path=\"url(#clip090)\" d=\"M 0 0 M201.432 1515.64 Q197.821 1515.64 195.993 1519.2 Q194.187 1522.75 194.187 1529.87 Q194.187 1536.98 195.993 1540.55 Q197.821 1544.09 201.432 1544.09 Q205.067 1544.09 206.872 1540.55 Q208.701 1536.98 208.701 1529.87 Q208.701 1522.75 206.872 1519.2 Q205.067 1515.64 201.432 1515.64 M201.432 1511.93 Q207.243 1511.93 210.298 1516.54 Q213.377 1521.12 213.377 1529.87 Q213.377 1538.6 210.298 1543.21 Q207.243 1547.79 201.432 1547.79 Q195.622 1547.79 192.544 1543.21 Q189.488 1538.6 189.488 1529.87 Q189.488 1521.12 192.544 1516.54 Q195.622 1511.93 201.432 1511.93 Z\" fill=\"#000000\" fill-rule=\"evenodd\" fill-opacity=\"1\" /><path clip-path=\"url(#clip090)\" d=\"M 0 0 M566.971 1543.18 L583.29 1543.18 L583.29 1547.12 L561.346 1547.12 L561.346 1543.18 Q564.008 1540.43 568.591 1535.8 Q573.198 1531.15 574.378 1529.81 Q576.623 1527.28 577.503 1525.55 Q578.406 1523.79 578.406 1522.1 Q578.406 1519.34 576.461 1517.61 Q574.54 1515.87 571.438 1515.87 Q569.239 1515.87 566.786 1516.63 Q564.355 1517.4 561.577 1518.95 L561.577 1514.23 Q564.401 1513.09 566.855 1512.51 Q569.309 1511.93 571.346 1511.93 Q576.716 1511.93 579.91 1514.62 Q583.105 1517.31 583.105 1521.8 Q583.105 1523.93 582.295 1525.85 Q581.508 1527.74 579.401 1530.34 Q578.822 1531.01 575.721 1534.23 Q572.619 1537.42 566.971 1543.18 Z\" fill=\"#000000\" fill-rule=\"evenodd\" fill-opacity=\"1\" /><path clip-path=\"url(#clip090)\" d=\"M 0 0 M588.406 1512.56 L606.762 1512.56 L606.762 1516.5 L592.688 1516.5 L592.688 1524.97 Q593.707 1524.62 594.725 1524.46 Q595.744 1524.27 596.762 1524.27 Q602.549 1524.27 605.929 1527.44 Q609.308 1530.62 609.308 1536.03 Q609.308 1541.61 605.836 1544.71 Q602.364 1547.79 596.045 1547.79 Q593.869 1547.79 591.6 1547.42 Q589.355 1547.05 586.947 1546.31 L586.947 1541.61 Q589.031 1542.74 591.253 1543.3 Q593.475 1543.86 595.952 1543.86 Q599.957 1543.86 602.295 1541.75 Q604.633 1539.64 604.633 1536.03 Q604.633 1532.42 602.295 1530.31 Q599.957 1528.21 595.952 1528.21 Q594.077 1528.21 592.202 1528.62 Q590.35 1529.04 588.406 1529.92 L588.406 1512.56 Z\" fill=\"#000000\" fill-rule=\"evenodd\" fill-opacity=\"1\" /><path clip-path=\"url(#clip090)\" d=\"M 0 0 M945.993 1512.56 L964.349 1512.56 L964.349 1516.5 L950.275 1516.5 L950.275 1524.97 Q951.294 1524.62 952.312 1524.46 Q953.331 1524.27 954.349 1524.27 Q960.136 1524.27 963.516 1527.44 Q966.895 1530.62 966.895 1536.03 Q966.895 1541.61 963.423 1544.71 Q959.951 1547.79 953.632 1547.79 Q951.456 1547.79 949.187 1547.42 Q946.942 1547.05 944.534 1546.31 L944.534 1541.61 Q946.618 1542.74 948.84 1543.3 Q951.062 1543.86 953.539 1543.86 Q957.544 1543.86 959.882 1541.75 Q962.219 1539.64 962.219 1536.03 Q962.219 1532.42 959.882 1530.31 Q957.544 1528.21 953.539 1528.21 Q951.664 1528.21 949.789 1528.62 Q947.937 1529.04 945.993 1529.92 L945.993 1512.56 Z\" fill=\"#000000\" fill-rule=\"evenodd\" fill-opacity=\"1\" /><path clip-path=\"url(#clip090)\" d=\"M 0 0 M981.965 1515.64 Q978.354 1515.64 976.525 1519.2 Q974.719 1522.75 974.719 1529.87 Q974.719 1536.98 976.525 1540.55 Q978.354 1544.09 981.965 1544.09 Q985.599 1544.09 987.405 1540.55 Q989.233 1536.98 989.233 1529.87 Q989.233 1522.75 987.405 1519.2 Q985.599 1515.64 981.965 1515.64 M981.965 1511.93 Q987.775 1511.93 990.83 1516.54 Q993.909 1521.12 993.909 1529.87 Q993.909 1538.6 990.83 1543.21 Q987.775 1547.79 981.965 1547.79 Q976.155 1547.79 973.076 1543.21 Q970.02 1538.6 970.02 1529.87 Q970.02 1521.12 973.076 1516.54 Q976.155 1511.93 981.965 1511.93 Z\" fill=\"#000000\" fill-rule=\"evenodd\" fill-opacity=\"1\" /><path clip-path=\"url(#clip090)\" d=\"M 0 0 M1329 1512.56 L1351.22 1512.56 L1351.22 1514.55 L1338.67 1547.12 L1333.79 1547.12 L1345.59 1516.5 L1329 1516.5 L1329 1512.56 Z\" fill=\"#000000\" fill-rule=\"evenodd\" fill-opacity=\"1\" /><path clip-path=\"url(#clip090)\" d=\"M 0 0 M1356.33 1512.56 L1374.69 1512.56 L1374.69 1516.5 L1360.62 1516.5 L1360.62 1524.97 Q1361.63 1524.62 1362.65 1524.46 Q1363.67 1524.27 1364.69 1524.27 Q1370.48 1524.27 1373.86 1527.44 Q1377.24 1530.62 1377.24 1536.03 Q1377.24 1541.61 1373.76 1544.71 Q1370.29 1547.79 1363.97 1547.79 Q1361.8 1547.79 1359.53 1547.42 Q1357.28 1547.05 1354.88 1546.31 L1354.88 1541.61 Q1356.96 1542.74 1359.18 1543.3 Q1361.4 1543.86 1363.88 1543.86 Q1367.88 1543.86 1370.22 1541.75 Q1372.56 1539.64 1372.56 1536.03 Q1372.56 1532.42 1370.22 1530.31 Q1367.88 1528.21 1363.88 1528.21 Q1362.01 1528.21 1360.13 1528.62 Q1358.28 1529.04 1356.33 1529.92 L1356.33 1512.56 Z\" fill=\"#000000\" fill-rule=\"evenodd\" fill-opacity=\"1\" /><path clip-path=\"url(#clip090)\" d=\"M 0 0 M1700.38 1543.18 L1708.02 1543.18 L1708.02 1516.82 L1699.71 1518.49 L1699.71 1514.23 L1707.97 1512.56 L1712.65 1512.56 L1712.65 1543.18 L1720.29 1543.18 L1720.29 1547.12 L1700.38 1547.12 L1700.38 1543.18 Z\" fill=\"#000000\" fill-rule=\"evenodd\" fill-opacity=\"1\" /><path clip-path=\"url(#clip090)\" d=\"M 0 0 M1735.36 1515.64 Q1731.74 1515.64 1729.92 1519.2 Q1728.11 1522.75 1728.11 1529.87 Q1728.11 1536.98 1729.92 1540.55 Q1731.74 1544.09 1735.36 1544.09 Q1738.99 1544.09 1740.8 1540.55 Q1742.62 1536.98 1742.62 1529.87 Q1742.62 1522.75 1740.8 1519.2 Q1738.99 1515.64 1735.36 1515.64 M1735.36 1511.93 Q1741.17 1511.93 1744.22 1516.54 Q1747.3 1521.12 1747.3 1529.87 Q1747.3 1538.6 1744.22 1543.21 Q1741.17 1547.79 1735.36 1547.79 Q1729.55 1547.79 1726.47 1543.21 Q1723.41 1538.6 1723.41 1529.87 Q1723.41 1521.12 1726.47 1516.54 Q1729.55 1511.93 1735.36 1511.93 Z\" fill=\"#000000\" fill-rule=\"evenodd\" fill-opacity=\"1\" /><path clip-path=\"url(#clip090)\" d=\"M 0 0 M1762.37 1515.64 Q1758.76 1515.64 1756.93 1519.2 Q1755.12 1522.75 1755.12 1529.87 Q1755.12 1536.98 1756.93 1540.55 Q1758.76 1544.09 1762.37 1544.09 Q1766 1544.09 1767.81 1540.55 Q1769.64 1536.98 1769.64 1529.87 Q1769.64 1522.75 1767.81 1519.2 Q1766 1515.64 1762.37 1515.64 M1762.37 1511.93 Q1768.18 1511.93 1771.24 1516.54 Q1774.31 1521.12 1774.31 1529.87 Q1774.31 1538.6 1771.24 1543.21 Q1768.18 1547.79 1762.37 1547.79 Q1756.56 1547.79 1753.48 1543.21 Q1750.43 1538.6 1750.43 1529.87 Q1750.43 1521.12 1753.48 1516.54 Q1756.56 1511.93 1762.37 1511.93 Z\" fill=\"#000000\" fill-rule=\"evenodd\" fill-opacity=\"1\" /><polyline clip-path=\"url(#clip092)\" style=\"stroke:#000000; stroke-width:2; stroke-opacity:0.1; fill:none\" points=\"\n",
       "  171.181,1474.03 1782.62,1474.03 \n",
       "  \"/>\n",
       "<polyline clip-path=\"url(#clip092)\" style=\"stroke:#000000; stroke-width:2; stroke-opacity:0.1; fill:none\" points=\"\n",
       "  171.181,1117.98 1782.62,1117.98 \n",
       "  \"/>\n",
       "<polyline clip-path=\"url(#clip092)\" style=\"stroke:#000000; stroke-width:2; stroke-opacity:0.1; fill:none\" points=\"\n",
       "  171.181,761.924 1782.62,761.924 \n",
       "  \"/>\n",
       "<polyline clip-path=\"url(#clip092)\" style=\"stroke:#000000; stroke-width:2; stroke-opacity:0.1; fill:none\" points=\"\n",
       "  171.181,405.872 1782.62,405.872 \n",
       "  \"/>\n",
       "<polyline clip-path=\"url(#clip092)\" style=\"stroke:#000000; stroke-width:2; stroke-opacity:0.1; fill:none\" points=\"\n",
       "  171.181,49.8203 1782.62,49.8203 \n",
       "  \"/>\n",
       "<polyline clip-path=\"url(#clip090)\" style=\"stroke:#000000; stroke-width:4; stroke-opacity:1; fill:none\" points=\"\n",
       "  171.181,1486.45 171.181,47.2441 \n",
       "  \"/>\n",
       "<polyline clip-path=\"url(#clip090)\" style=\"stroke:#000000; stroke-width:4; stroke-opacity:1; fill:none\" points=\"\n",
       "  171.181,1474.03 190.519,1474.03 \n",
       "  \"/>\n",
       "<polyline clip-path=\"url(#clip090)\" style=\"stroke:#000000; stroke-width:4; stroke-opacity:1; fill:none\" points=\"\n",
       "  171.181,1117.98 190.519,1117.98 \n",
       "  \"/>\n",
       "<polyline clip-path=\"url(#clip090)\" style=\"stroke:#000000; stroke-width:4; stroke-opacity:1; fill:none\" points=\"\n",
       "  171.181,761.924 190.519,761.924 \n",
       "  \"/>\n",
       "<polyline clip-path=\"url(#clip090)\" style=\"stroke:#000000; stroke-width:4; stroke-opacity:1; fill:none\" points=\"\n",
       "  171.181,405.872 190.519,405.872 \n",
       "  \"/>\n",
       "<polyline clip-path=\"url(#clip090)\" style=\"stroke:#000000; stroke-width:4; stroke-opacity:1; fill:none\" points=\"\n",
       "  171.181,49.8203 190.519,49.8203 \n",
       "  \"/>\n",
       "<path clip-path=\"url(#clip090)\" d=\"M 0 0 M51.5708 1474.48 L81.2466 1474.48 L81.2466 1478.41 L51.5708 1478.41 L51.5708 1474.48 Z\" fill=\"#000000\" fill-rule=\"evenodd\" fill-opacity=\"1\" /><path clip-path=\"url(#clip090)\" d=\"M 0 0 M96.316 1474.9 Q92.9826 1474.9 91.0614 1476.68 Q89.1632 1478.46 89.1632 1481.59 Q89.1632 1484.71 91.0614 1486.49 Q92.9826 1488.28 96.316 1488.28 Q99.6493 1488.28 101.571 1486.49 Q103.492 1484.69 103.492 1481.59 Q103.492 1478.46 101.571 1476.68 Q99.6724 1474.9 96.316 1474.9 M91.6401 1472.91 Q88.6308 1472.16 86.941 1470.1 Q85.2743 1468.04 85.2743 1465.08 Q85.2743 1460.94 88.2141 1458.53 Q91.1771 1456.12 96.316 1456.12 Q101.478 1456.12 104.418 1458.53 Q107.358 1460.94 107.358 1465.08 Q107.358 1468.04 105.668 1470.1 Q104.001 1472.16 101.015 1472.91 Q104.395 1473.69 106.27 1475.98 Q108.168 1478.28 108.168 1481.59 Q108.168 1486.61 105.089 1489.29 Q102.034 1491.98 96.316 1491.98 Q90.5984 1491.98 87.5197 1489.29 Q84.4642 1486.61 84.4642 1481.59 Q84.4642 1478.28 86.3623 1475.98 Q88.2604 1473.69 91.6401 1472.91 M89.9271 1465.52 Q89.9271 1468.21 91.5938 1469.71 Q93.2836 1471.22 96.316 1471.22 Q99.3252 1471.22 101.015 1469.71 Q102.728 1468.21 102.728 1465.52 Q102.728 1462.84 101.015 1461.33 Q99.3252 1459.83 96.316 1459.83 Q93.2836 1459.83 91.5938 1461.33 Q89.9271 1462.84 89.9271 1465.52 Z\" fill=\"#000000\" fill-rule=\"evenodd\" fill-opacity=\"1\" /><path clip-path=\"url(#clip090)\" d=\"M 0 0 M123.237 1459.83 Q119.626 1459.83 117.797 1463.39 Q115.992 1466.93 115.992 1474.06 Q115.992 1481.17 117.797 1484.73 Q119.626 1488.28 123.237 1488.28 Q126.871 1488.28 128.677 1484.73 Q130.506 1481.17 130.506 1474.06 Q130.506 1466.93 128.677 1463.39 Q126.871 1459.83 123.237 1459.83 M123.237 1456.12 Q129.047 1456.12 132.103 1460.73 Q135.181 1465.31 135.181 1474.06 Q135.181 1482.79 132.103 1487.4 Q129.047 1491.98 123.237 1491.98 Q117.427 1491.98 114.348 1487.4 Q111.293 1482.79 111.293 1474.06 Q111.293 1465.31 114.348 1460.73 Q117.427 1456.12 123.237 1456.12 Z\" fill=\"#000000\" fill-rule=\"evenodd\" fill-opacity=\"1\" /><path clip-path=\"url(#clip090)\" d=\"M 0 0 M51.3162 1118.43 L80.992 1118.43 L80.992 1122.36 L51.3162 1122.36 L51.3162 1118.43 Z\" fill=\"#000000\" fill-rule=\"evenodd\" fill-opacity=\"1\" /><path clip-path=\"url(#clip090)\" d=\"M 0 0 M96.64 1116.11 Q93.4919 1116.11 91.6401 1118.27 Q89.8114 1120.42 89.8114 1124.17 Q89.8114 1127.89 91.6401 1130.07 Q93.4919 1132.22 96.64 1132.22 Q99.7882 1132.22 101.617 1130.07 Q103.469 1127.89 103.469 1124.17 Q103.469 1120.42 101.617 1118.27 Q99.7882 1116.11 96.64 1116.11 M105.922 1101.46 L105.922 1105.72 Q104.163 1104.89 102.358 1104.45 Q100.575 1104.01 98.8159 1104.01 Q94.1863 1104.01 91.7326 1107.13 Q89.3021 1110.26 88.9549 1116.58 Q90.3206 1114.56 92.3808 1113.5 Q94.441 1112.41 96.9178 1112.41 Q102.126 1112.41 105.135 1115.58 Q108.168 1118.73 108.168 1124.17 Q108.168 1129.49 105.02 1132.71 Q101.871 1135.93 96.64 1135.93 Q90.6447 1135.93 87.4734 1131.34 Q84.3021 1126.74 84.3021 1118.01 Q84.3021 1109.82 88.191 1104.96 Q92.0799 1100.07 98.6308 1100.07 Q100.39 1100.07 102.172 1100.42 Q103.978 1100.77 105.922 1101.46 Z\" fill=\"#000000\" fill-rule=\"evenodd\" fill-opacity=\"1\" /><path clip-path=\"url(#clip090)\" d=\"M 0 0 M123.237 1103.77 Q119.626 1103.77 117.797 1107.34 Q115.992 1110.88 115.992 1118.01 Q115.992 1125.12 117.797 1128.68 Q119.626 1132.22 123.237 1132.22 Q126.871 1132.22 128.677 1128.68 Q130.506 1125.12 130.506 1118.01 Q130.506 1110.88 128.677 1107.34 Q126.871 1103.77 123.237 1103.77 M123.237 1100.07 Q129.047 1100.07 132.103 1104.68 Q135.181 1109.26 135.181 1118.01 Q135.181 1126.74 132.103 1131.34 Q129.047 1135.93 123.237 1135.93 Q117.427 1135.93 114.348 1131.34 Q111.293 1126.74 111.293 1118.01 Q111.293 1109.26 114.348 1104.68 Q117.427 1100.07 123.237 1100.07 Z\" fill=\"#000000\" fill-rule=\"evenodd\" fill-opacity=\"1\" /><path clip-path=\"url(#clip090)\" d=\"M 0 0 M50.9921 762.375 L80.6679 762.375 L80.6679 766.311 L50.9921 766.311 L50.9921 762.375 Z\" fill=\"#000000\" fill-rule=\"evenodd\" fill-opacity=\"1\" /><path clip-path=\"url(#clip090)\" d=\"M 0 0 M98.5845 748.718 L86.779 767.167 L98.5845 767.167 L98.5845 748.718 M97.3576 744.644 L103.237 744.644 L103.237 767.167 L108.168 767.167 L108.168 771.056 L103.237 771.056 L103.237 779.204 L98.5845 779.204 L98.5845 771.056 L82.9827 771.056 L82.9827 766.542 L97.3576 744.644 Z\" fill=\"#000000\" fill-rule=\"evenodd\" fill-opacity=\"1\" /><path clip-path=\"url(#clip090)\" d=\"M 0 0 M123.237 747.723 Q119.626 747.723 117.797 751.287 Q115.992 754.829 115.992 761.959 Q115.992 769.065 117.797 772.63 Q119.626 776.172 123.237 776.172 Q126.871 776.172 128.677 772.63 Q130.506 769.065 130.506 761.959 Q130.506 754.829 128.677 751.287 Q126.871 747.723 123.237 747.723 M123.237 744.019 Q129.047 744.019 132.103 748.625 Q135.181 753.209 135.181 761.959 Q135.181 770.685 132.103 775.292 Q129.047 779.875 123.237 779.875 Q117.427 779.875 114.348 775.292 Q111.293 770.685 111.293 761.959 Q111.293 753.209 114.348 748.625 Q117.427 744.019 123.237 744.019 Z\" fill=\"#000000\" fill-rule=\"evenodd\" fill-opacity=\"1\" /><path clip-path=\"url(#clip090)\" d=\"M 0 0 M53.0754 406.323 L82.7512 406.323 L82.7512 410.259 L53.0754 410.259 L53.0754 406.323 Z\" fill=\"#000000\" fill-rule=\"evenodd\" fill-opacity=\"1\" /><path clip-path=\"url(#clip090)\" d=\"M 0 0 M91.8484 419.217 L108.168 419.217 L108.168 423.152 L86.2234 423.152 L86.2234 419.217 Q88.8854 416.462 93.4688 411.833 Q98.0752 407.18 99.2558 405.837 Q101.501 403.314 102.381 401.578 Q103.284 399.819 103.284 398.129 Q103.284 395.374 101.339 393.638 Q99.4178 391.902 96.316 391.902 Q94.1169 391.902 91.6632 392.666 Q89.2327 393.43 86.4549 394.981 L86.4549 390.259 Q89.279 389.125 91.7326 388.546 Q94.1863 387.967 96.2234 387.967 Q101.594 387.967 104.788 390.652 Q107.983 393.337 107.983 397.828 Q107.983 399.958 107.172 401.879 Q106.385 403.777 104.279 406.37 Q103.7 407.041 100.598 410.259 Q97.4965 413.453 91.8484 419.217 Z\" fill=\"#000000\" fill-rule=\"evenodd\" fill-opacity=\"1\" /><path clip-path=\"url(#clip090)\" d=\"M 0 0 M123.237 391.671 Q119.626 391.671 117.797 395.236 Q115.992 398.777 115.992 405.907 Q115.992 413.013 117.797 416.578 Q119.626 420.12 123.237 420.12 Q126.871 420.12 128.677 416.578 Q130.506 413.013 130.506 405.907 Q130.506 398.777 128.677 395.236 Q126.871 391.671 123.237 391.671 M123.237 387.967 Q129.047 387.967 132.103 392.574 Q135.181 397.157 135.181 405.907 Q135.181 414.634 132.103 419.24 Q129.047 423.823 123.237 423.823 Q117.427 423.823 114.348 419.24 Q111.293 414.634 111.293 405.907 Q111.293 397.157 114.348 392.574 Q117.427 387.967 123.237 387.967 Z\" fill=\"#000000\" fill-rule=\"evenodd\" fill-opacity=\"1\" /><path clip-path=\"url(#clip090)\" d=\"M 0 0 M123.237 35.6189 Q119.626 35.6189 117.797 39.1837 Q115.992 42.7254 115.992 49.855 Q115.992 56.9614 117.797 60.5262 Q119.626 64.0679 123.237 64.0679 Q126.871 64.0679 128.677 60.5262 Q130.506 56.9614 130.506 49.855 Q130.506 42.7254 128.677 39.1837 Q126.871 35.6189 123.237 35.6189 M123.237 31.9153 Q129.047 31.9153 132.103 36.5217 Q135.181 41.105 135.181 49.855 Q135.181 58.5818 132.103 63.1882 Q129.047 67.7715 123.237 67.7715 Q117.427 67.7715 114.348 63.1882 Q111.293 58.5818 111.293 49.855 Q111.293 41.105 114.348 36.5217 Q117.427 31.9153 123.237 31.9153 Z\" fill=\"#000000\" fill-rule=\"evenodd\" fill-opacity=\"1\" /><path clip-path=\"url(#clip092)\" d=\"\n",
       "M216.788 1445.72 L232.144 1267.85 L247.5 1209.72 L262.856 1131.08 L278.211 1073.28 L293.567 1026.42 L308.923 877.649 L324.279 853.967 L339.634 838.833 L354.99 758.995 \n",
       "  L370.346 832.321 L385.702 711.669 L401.058 754.848 L416.413 730.335 L431.769 652.966 L447.125 710.663 L462.481 642.468 L477.837 664.14 L493.192 626.172 L508.548 585.871 \n",
       "  L523.904 566.777 L539.26 501.84 L554.616 561.144 L569.971 628.155 L585.327 617.432 L600.683 596.556 L616.039 585.797 L631.394 545.705 L646.75 551.172 L662.106 502.986 \n",
       "  L677.462 485.339 L692.818 563.49 L708.173 569.109 L723.529 527.456 L738.885 529.758 L754.241 523.388 L769.597 571.708 L784.952 506.636 L800.308 526.605 L815.664 532.638 \n",
       "  L831.02 534.572 L846.375 523.509 L861.731 508.22 L877.087 542.906 L892.443 509.424 L907.799 486.192 L923.154 537.964 L938.51 570.972 L953.866 429.246 L969.222 486.22 \n",
       "  L984.578 553.565 L999.933 503.422 L1015.29 565.302 L1030.64 493.98 L1046 553.77 L1061.36 478.404 L1076.71 546.12 L1092.07 512.235 L1107.42 488.324 L1122.78 518.44 \n",
       "  L1138.14 500.611 L1153.49 463.56 L1168.85 552.799 L1184.2 509.2 L1199.56 490.219 L1214.91 512.048 L1230.27 462.974 L1245.63 500.008 L1260.98 457.965 L1276.34 515.364 \n",
       "  L1291.69 490.94 L1307.05 473.07 L1322.4 442.46 L1337.76 500.251 L1353.12 482.667 L1368.47 463.75 L1383.83 511.287 L1399.18 481.584 L1414.54 477.851 L1429.9 477.735 \n",
       "  L1445.25 492.158 L1460.61 474.879 L1475.96 403.07 L1491.32 491.628 L1506.67 530.785 L1522.03 464.031 L1537.39 558.766 L1552.74 466.199 L1568.1 442.476 L1583.45 531.444 \n",
       "  L1598.81 502.737 L1614.16 543.424 L1629.52 545.7 L1644.88 529.968 L1660.23 501.369 L1675.59 463.904 L1690.94 483.142 L1706.3 462.187 L1721.66 477.274 L1737.01 543.332 \n",
       "  L1737.01 326.156 L1721.66 297.442 L1706.3 319.745 L1690.94 314.697 L1675.59 257.888 L1660.23 277.752 L1644.88 305.874 L1629.52 276.883 L1614.16 356.171 L1598.81 283.533 \n",
       "  L1583.45 333.644 L1568.1 327.842 L1552.74 292.396 L1537.39 395.621 L1522.03 369.66 L1506.67 338.367 L1491.32 358.908 L1475.96 248.106 L1460.61 294.502 L1445.25 276.965 \n",
       "  L1429.9 330.038 L1414.54 333.862 L1399.18 307.212 L1383.83 336.247 L1368.47 318.02 L1353.12 333.681 L1337.76 372.963 L1322.4 276.801 L1307.05 321.548 L1291.69 275.648 \n",
       "  L1276.34 274.094 L1260.98 284.821 L1245.63 339.345 L1230.27 290.785 L1214.91 336.928 L1199.56 330.891 L1184.2 338.029 L1168.85 362.131 L1153.49 325.699 L1138.14 338.847 \n",
       "  L1122.78 349.313 L1107.42 355.6 L1092.07 317.04 L1076.71 377.961 L1061.36 314.457 L1046 340.083 L1030.64 360.637 L1015.29 341.85 L999.933 353.8 L984.578 325.314 \n",
       "  L969.222 362.628 L953.866 342.672 L938.51 392.188 L923.154 373.724 L907.799 349.792 L892.443 402.748 L877.087 374.781 L861.731 345.405 L846.375 349.487 L831.02 334.531 \n",
       "  L815.664 377.582 L800.308 339.95 L784.952 359.032 L769.597 361.361 L754.241 373.465 L738.885 419.219 L723.529 395.556 L708.173 360.815 L692.818 355.369 L677.462 344.07 \n",
       "  L662.106 353.686 L646.75 388.396 L631.394 391.872 L616.039 406.983 L600.683 436.799 L585.327 447.534 L569.971 389.59 L554.616 408.585 L539.26 415.944 L523.904 416.165 \n",
       "  L508.548 407.849 L493.192 467.346 L477.837 402.624 L462.481 457.535 L447.125 495.094 L431.769 542.72 L416.413 551.671 L401.058 552.281 L385.702 576.591 L370.346 611.202 \n",
       "  L354.99 501.207 L339.634 620.205 L324.279 698.405 L308.923 678.967 L293.567 713.515 L278.211 703.265 L262.856 808.542 L247.5 861.958 L232.144 883.195 L216.788 949.447 \n",
       "   Z\n",
       "  \" fill=\"#009af9\" fill-rule=\"evenodd\" fill-opacity=\"0.5\"/>\n",
       "<polyline clip-path=\"url(#clip092)\" style=\"stroke:#009af9; stroke-width:4; stroke-opacity:1; fill:none\" points=\"\n",
       "  216.788,1197.58 232.144,1075.52 247.5,1035.84 262.856,969.811 278.211,888.272 293.567,869.967 308.923,778.308 324.279,776.186 339.634,729.519 354.99,630.101 \n",
       "  370.346,721.761 385.702,644.13 401.058,653.565 416.413,641.003 431.769,597.843 447.125,602.879 462.481,550.001 477.837,533.382 493.192,546.759 508.548,496.86 \n",
       "  523.904,491.471 539.26,458.892 554.616,484.865 569.971,508.872 585.327,532.483 600.683,516.678 616.039,496.39 631.394,468.789 646.75,469.784 662.106,428.336 \n",
       "  677.462,414.705 692.818,459.43 708.173,464.962 723.529,461.506 738.885,474.489 754.241,448.426 769.597,466.534 784.952,432.834 800.308,433.278 815.664,455.11 \n",
       "  831.02,434.552 846.375,436.498 861.731,426.813 877.087,458.844 892.443,456.086 907.799,417.992 923.154,455.844 938.51,481.58 953.866,385.959 969.222,424.424 \n",
       "  984.578,439.439 999.933,428.611 1015.29,453.576 1030.64,427.308 1046,446.926 1061.36,396.431 1076.71,462.041 1092.07,414.638 1107.42,421.962 1122.78,433.877 \n",
       "  1138.14,419.729 1153.49,394.63 1168.85,457.465 1184.2,423.615 1199.56,410.555 1214.91,424.488 1230.27,376.879 1245.63,419.676 1260.98,371.393 1276.34,394.729 \n",
       "  1291.69,383.294 1307.05,397.309 1322.4,359.63 1337.76,436.607 1353.12,408.174 1368.47,390.885 1383.83,423.767 1399.18,394.398 1414.54,405.857 1429.9,403.886 \n",
       "  1445.25,384.561 1460.61,384.69 1475.96,325.588 1491.32,425.268 1506.67,434.576 1522.03,416.845 1537.39,477.194 1552.74,379.297 1568.1,385.159 1583.45,432.544 \n",
       "  1598.81,393.135 1614.16,449.797 1629.52,411.292 1644.88,417.921 1660.23,389.561 1675.59,360.896 1690.94,398.92 1706.3,390.966 1721.66,387.358 1737.01,434.744 \n",
       "  \n",
       "  \"/>\n",
       "<path clip-path=\"url(#clip092)\" d=\"\n",
       "M216.788 1345.95 L232.144 1190.77 L247.5 1040.8 L262.856 865.854 L278.211 778.668 L293.567 669.707 L308.923 548.5 L324.279 464.096 L339.634 453.901 L354.99 441.143 \n",
       "  L370.346 396.51 L385.702 365.255 L401.058 355.053 L416.413 332.784 L431.769 323.533 L447.125 299.543 L462.481 285.836 L477.837 290.516 L493.192 282.418 L508.548 282.04 \n",
       "  L523.904 274.394 L539.26 267.593 L554.616 260.516 L569.971 264.153 L585.327 254.305 L600.683 247.47 L616.039 231.499 L631.394 231.315 L646.75 221.113 L662.106 233.371 \n",
       "  L677.462 219.313 L692.818 208.068 L708.173 204.705 L723.529 199.708 L738.885 204.955 L754.241 200.914 L769.597 197.739 L784.952 192.642 L800.308 188.247 L815.664 186.296 \n",
       "  L831.02 179.552 L846.375 177.531 L861.731 178.872 L877.087 170.041 L892.443 174.124 L907.799 181.221 L923.154 171.712 L938.51 176.004 L953.866 171.172 L969.222 162.325 \n",
       "  L984.578 173.823 L999.933 181.431 L1015.29 178.199 L1030.64 173.885 L1046 164.748 L1061.36 162.601 L1076.71 162.617 L1092.07 161.439 L1107.42 165.562 L1122.78 176.168 \n",
       "  L1138.14 170.696 L1153.49 166.518 L1168.85 160.999 L1184.2 157.95 L1199.56 166.732 L1214.91 161.669 L1230.27 163.242 L1245.63 162.437 L1260.98 161.48 L1276.34 162.173 \n",
       "  L1291.69 162.793 L1307.05 157.093 L1322.4 153.015 L1337.76 143.46 L1353.12 146.002 L1368.47 146.78 L1383.83 147.412 L1399.18 146.286 L1414.54 146.867 L1429.9 149.781 \n",
       "  L1445.25 144.273 L1460.61 142.682 L1475.96 137.632 L1491.32 139.563 L1506.67 141.289 L1522.03 140.497 L1537.39 147.31 L1552.74 148.581 L1568.1 150.835 L1583.45 140.768 \n",
       "  L1598.81 146.844 L1614.16 147.675 L1629.52 145.655 L1644.88 146.524 L1660.23 137.176 L1675.59 134.515 L1690.94 137.419 L1706.3 136.46 L1721.66 140.028 L1737.01 136.219 \n",
       "  L1737.01 98.6303 L1721.66 96.6871 L1706.3 93.9404 L1690.94 94.7583 L1675.59 96.5726 L1660.23 87.9763 L1644.88 91.3781 L1629.52 94.8193 L1614.16 96.6322 L1598.81 95.7443 \n",
       "  L1583.45 92.5854 L1568.1 91.3641 L1552.74 100.522 L1537.39 100.777 L1522.03 100.577 L1506.67 99.9987 L1491.32 96.2919 L1475.96 97.5155 L1460.61 100.936 L1445.25 100.897 \n",
       "  L1429.9 106.347 L1414.54 100.98 L1399.18 99.5031 L1383.83 96.1754 L1368.47 105.101 L1353.12 103.392 L1337.76 103.611 L1322.4 100.019 L1307.05 102.154 L1291.69 93.3172 \n",
       "  L1276.34 101.877 L1260.98 107.479 L1245.63 106.5 L1230.27 105.684 L1214.91 106.508 L1199.56 104.444 L1184.2 102.167 L1168.85 101.011 L1153.49 100.164 L1138.14 99.3321 \n",
       "  L1122.78 100.785 L1107.42 106.026 L1092.07 112.618 L1076.71 109.374 L1061.36 110.824 L1046 108.636 L1030.64 110.621 L1015.29 113.168 L999.933 110.448 L984.578 113.321 \n",
       "  L969.222 109.031 L953.866 113.375 L938.51 105.754 L923.154 114.552 L907.799 117.097 L892.443 116.574 L877.087 112.394 L861.731 116.427 L846.375 114.02 L831.02 118.431 \n",
       "  L815.664 121.132 L800.308 120.725 L784.952 123.623 L769.597 127.721 L754.241 118.359 L738.885 127.954 L723.529 122.981 L708.173 129.183 L692.818 128.444 L677.462 128.296 \n",
       "  L662.106 135.618 L646.75 148.839 L631.394 139.909 L616.039 140.201 L600.683 154.212 L585.327 158.212 L569.971 163.996 L554.616 164.778 L539.26 179.993 L523.904 177.707 \n",
       "  L508.548 177.854 L493.192 201.277 L477.837 208.483 L462.481 218.644 L447.125 216.202 L431.769 238.538 L416.413 251.403 L401.058 238.409 L385.702 252.284 L370.346 299.203 \n",
       "  L354.99 336.259 L339.634 378.395 L324.279 395.08 L308.923 414.512 L293.567 441.503 L278.211 491.242 L262.856 649.862 L247.5 847.362 L232.144 1019.45 L216.788 1134.29 \n",
       "   Z\n",
       "  \" fill=\"#e26f46\" fill-rule=\"evenodd\" fill-opacity=\"0.5\"/>\n",
       "<polyline clip-path=\"url(#clip092)\" style=\"stroke:#e26f46; stroke-width:4; stroke-opacity:1; fill:none\" points=\"\n",
       "  216.788,1240.12 232.144,1105.11 247.5,944.082 262.856,757.858 278.211,634.955 293.567,555.605 308.923,481.506 324.279,429.588 339.634,416.148 354.99,388.701 \n",
       "  370.346,347.857 385.702,308.769 401.058,296.731 416.413,292.094 431.769,281.035 447.125,257.872 462.481,252.24 477.837,249.5 493.192,241.848 508.548,229.947 \n",
       "  523.904,226.051 539.26,223.793 554.616,212.647 569.971,214.074 585.327,206.259 600.683,200.841 616.039,185.85 631.394,185.612 646.75,184.976 662.106,184.494 \n",
       "  677.462,173.805 692.818,168.256 708.173,166.944 723.529,161.344 738.885,166.455 754.241,159.637 769.597,162.73 784.952,158.132 800.308,154.486 815.664,153.714 \n",
       "  831.02,148.991 846.375,145.776 861.731,147.649 877.087,141.218 892.443,145.349 907.799,149.159 923.154,143.132 938.51,140.879 953.866,142.273 969.222,135.678 \n",
       "  984.578,143.572 999.933,145.939 1015.29,145.684 1030.64,142.253 1046,136.692 1061.36,136.713 1076.71,135.995 1092.07,137.028 1107.42,135.794 1122.78,138.476 \n",
       "  1138.14,135.014 1153.49,133.341 1168.85,131.005 1184.2,130.058 1199.56,135.588 1214.91,134.088 1230.27,134.463 1245.63,134.468 1260.98,134.48 1276.34,132.025 \n",
       "  1291.69,128.055 1307.05,129.623 1322.4,126.517 1337.76,123.535 1353.12,124.697 1368.47,125.94 1383.83,121.793 1399.18,122.895 1414.54,123.924 1429.9,128.064 \n",
       "  1445.25,122.585 1460.61,121.809 1475.96,117.574 1491.32,117.927 1506.67,120.644 1522.03,120.537 1537.39,124.043 1552.74,124.552 1568.1,121.099 1583.45,116.677 \n",
       "  1598.81,121.294 1614.16,122.153 1629.52,120.237 1644.88,118.951 1660.23,112.576 1675.59,115.544 1690.94,116.088 1706.3,115.2 1721.66,118.358 1737.01,117.424 \n",
       "  \n",
       "  \"/>\n",
       "<path clip-path=\"url(#clip090)\" d=\"\n",
       "M1855.34 276.658 L2352.76 276.658 L2352.76 95.2176 L1855.34 95.2176  Z\n",
       "  \" fill=\"#ffffff\" fill-rule=\"evenodd\" fill-opacity=\"1\"/>\n",
       "<polyline clip-path=\"url(#clip090)\" style=\"stroke:#000000; stroke-width:4; stroke-opacity:1; fill:none\" points=\"\n",
       "  1855.34,276.658 2352.76,276.658 2352.76,95.2176 1855.34,95.2176 1855.34,276.658 \n",
       "  \"/>\n",
       "<polyline clip-path=\"url(#clip090)\" style=\"stroke:#009af9; stroke-width:4; stroke-opacity:1; fill:none\" points=\"\n",
       "  1879.58,155.698 2025.01,155.698 \n",
       "  \"/>\n",
       "<path clip-path=\"url(#clip090)\" d=\"M 0 0 M2049.25 138.418 L2069.12 138.418 L2069.12 142.353 L2053.93 142.353 L2053.93 152.538 L2067.63 152.538 L2067.63 156.473 L2053.93 156.473 L2053.93 172.978 L2049.25 172.978 L2049.25 138.418 Z\" fill=\"#000000\" fill-rule=\"evenodd\" fill-opacity=\"1\" /><path clip-path=\"url(#clip090)\" d=\"M 0 0 M2078.44 142.26 L2078.44 155.246 L2084.32 155.246 Q2087.59 155.246 2089.37 153.556 Q2091.15 151.867 2091.15 148.742 Q2091.15 145.64 2089.37 143.95 Q2087.59 142.26 2084.32 142.26 L2078.44 142.26 M2073.77 138.418 L2084.32 138.418 Q2090.13 138.418 2093.1 141.056 Q2096.08 143.672 2096.08 148.742 Q2096.08 153.857 2093.1 156.473 Q2090.13 159.089 2084.32 159.089 L2078.44 159.089 L2078.44 172.978 L2073.77 172.978 L2073.77 138.418 Z\" fill=\"#000000\" fill-rule=\"evenodd\" fill-opacity=\"1\" /><polyline clip-path=\"url(#clip090)\" style=\"stroke:#e26f46; stroke-width:4; stroke-opacity:1; fill:none\" points=\"\n",
       "  1879.58,216.178 2025.01,216.178 \n",
       "  \"/>\n",
       "<path clip-path=\"url(#clip090)\" d=\"M 0 0 M2049.25 198.898 L2078.49 198.898 L2078.49 202.833 L2066.22 202.833 L2066.22 233.458 L2061.52 233.458 L2061.52 202.833 L2049.25 202.833 L2049.25 198.898 Z\" fill=\"#000000\" fill-rule=\"evenodd\" fill-opacity=\"1\" /><path clip-path=\"url(#clip090)\" d=\"M 0 0 M2084.95 210.518 Q2081.52 210.518 2079.53 213.203 Q2077.54 215.865 2077.54 220.518 Q2077.54 225.171 2079.51 227.856 Q2081.5 230.518 2084.95 230.518 Q2088.35 230.518 2090.34 227.833 Q2092.33 225.147 2092.33 220.518 Q2092.33 215.911 2090.34 213.226 Q2088.35 210.518 2084.95 210.518 M2084.95 206.907 Q2090.5 206.907 2093.68 210.518 Q2096.85 214.129 2096.85 220.518 Q2096.85 226.884 2093.68 230.518 Q2090.5 234.129 2084.95 234.129 Q2079.37 234.129 2076.2 230.518 Q2073.05 226.884 2073.05 220.518 Q2073.05 214.129 2076.2 210.518 Q2079.37 206.907 2084.95 206.907 Z\" fill=\"#000000\" fill-rule=\"evenodd\" fill-opacity=\"1\" /><path clip-path=\"url(#clip090)\" d=\"M 0 0 M2100.87 223.226 L2100.87 207.532 L2105.13 207.532 L2105.13 223.064 Q2105.13 226.745 2106.57 228.596 Q2108 230.425 2110.87 230.425 Q2114.32 230.425 2116.31 228.226 Q2118.33 226.027 2118.33 222.231 L2118.33 207.532 L2122.59 207.532 L2122.59 233.458 L2118.33 233.458 L2118.33 229.476 Q2116.78 231.837 2114.72 232.995 Q2112.68 234.129 2109.97 234.129 Q2105.5 234.129 2103.19 231.351 Q2100.87 228.573 2100.87 223.226 M2111.59 206.907 L2111.59 206.907 Z\" fill=\"#000000\" fill-rule=\"evenodd\" fill-opacity=\"1\" /><path clip-path=\"url(#clip090)\" d=\"M 0 0 M2142.08 211.513 Q2141.36 211.097 2140.5 210.911 Q2139.67 210.703 2138.65 210.703 Q2135.04 210.703 2133.1 213.064 Q2131.18 215.402 2131.18 219.8 L2131.18 233.458 L2126.89 233.458 L2126.89 207.532 L2131.18 207.532 L2131.18 211.56 Q2132.52 209.198 2134.67 208.064 Q2136.82 206.907 2139.9 206.907 Q2140.34 206.907 2140.87 206.976 Q2141.41 207.023 2142.06 207.138 L2142.08 211.513 Z\" fill=\"#000000\" fill-rule=\"evenodd\" fill-opacity=\"1\" /><path clip-path=\"url(#clip090)\" d=\"M 0 0 M2167.26 217.809 L2167.26 233.458 L2163 233.458 L2163 217.948 Q2163 214.268 2161.57 212.439 Q2160.13 210.61 2157.26 210.61 Q2153.81 210.61 2151.82 212.81 Q2149.83 215.009 2149.83 218.805 L2149.83 233.458 L2145.55 233.458 L2145.55 207.532 L2149.83 207.532 L2149.83 211.56 Q2151.36 209.222 2153.42 208.064 Q2155.5 206.907 2158.21 206.907 Q2162.68 206.907 2164.97 209.685 Q2167.26 212.439 2167.26 217.809 Z\" fill=\"#000000\" fill-rule=\"evenodd\" fill-opacity=\"1\" /><path clip-path=\"url(#clip090)\" d=\"M 0 0 M2183.51 220.425 Q2178.35 220.425 2176.36 221.606 Q2174.37 222.786 2174.37 225.634 Q2174.37 227.902 2175.85 229.245 Q2177.36 230.564 2179.93 230.564 Q2183.47 230.564 2185.6 228.064 Q2187.75 225.541 2187.75 221.374 L2187.75 220.425 L2183.51 220.425 M2192.01 218.666 L2192.01 233.458 L2187.75 233.458 L2187.75 229.522 Q2186.29 231.883 2184.12 233.018 Q2181.94 234.129 2178.79 234.129 Q2174.81 234.129 2172.45 231.907 Q2170.11 229.661 2170.11 225.911 Q2170.11 221.536 2173.03 219.314 Q2175.97 217.092 2181.78 217.092 L2187.75 217.092 L2187.75 216.675 Q2187.75 213.735 2185.8 212.138 Q2183.88 210.518 2180.39 210.518 Q2178.17 210.518 2176.06 211.05 Q2173.95 211.583 2172.01 212.647 L2172.01 208.712 Q2174.35 207.81 2176.55 207.37 Q2178.74 206.907 2180.83 206.907 Q2186.45 206.907 2189.23 209.823 Q2192.01 212.74 2192.01 218.666 Z\" fill=\"#000000\" fill-rule=\"evenodd\" fill-opacity=\"1\" /><path clip-path=\"url(#clip090)\" d=\"M 0 0 M2216.66 212.509 Q2218.26 209.638 2220.48 208.273 Q2222.7 206.907 2225.71 206.907 Q2229.76 206.907 2231.96 209.754 Q2234.16 212.578 2234.16 217.809 L2234.16 233.458 L2229.88 233.458 L2229.88 217.948 Q2229.88 214.222 2228.56 212.416 Q2227.24 210.61 2224.53 210.61 Q2221.22 210.61 2219.3 212.81 Q2217.38 215.009 2217.38 218.805 L2217.38 233.458 L2213.1 233.458 L2213.1 217.948 Q2213.1 214.198 2211.78 212.416 Q2210.46 210.61 2207.7 210.61 Q2204.44 210.61 2202.52 212.833 Q2200.6 215.032 2200.6 218.805 L2200.6 233.458 L2196.31 233.458 L2196.31 207.532 L2200.6 207.532 L2200.6 211.56 Q2202.05 209.175 2204.09 208.041 Q2206.13 206.907 2208.93 206.907 Q2211.75 206.907 2213.72 208.342 Q2215.71 209.777 2216.66 212.509 Z\" fill=\"#000000\" fill-rule=\"evenodd\" fill-opacity=\"1\" /><path clip-path=\"url(#clip090)\" d=\"M 0 0 M2260.8 219.43 L2260.8 221.513 L2241.22 221.513 Q2241.5 225.911 2243.86 228.226 Q2246.24 230.518 2250.48 230.518 Q2252.93 230.518 2255.23 229.916 Q2257.54 229.314 2259.81 228.11 L2259.81 232.138 Q2257.52 233.11 2255.11 233.62 Q2252.7 234.129 2250.23 234.129 Q2244.02 234.129 2240.39 230.518 Q2236.78 226.907 2236.78 220.749 Q2236.78 214.384 2240.2 210.657 Q2243.65 206.907 2249.49 206.907 Q2254.72 206.907 2257.75 210.286 Q2260.8 213.643 2260.8 219.43 M2256.55 218.18 Q2256.5 214.685 2254.58 212.601 Q2252.68 210.518 2249.53 210.518 Q2245.97 210.518 2243.81 212.532 Q2241.68 214.546 2241.36 218.203 L2256.55 218.18 Z\" fill=\"#000000\" fill-rule=\"evenodd\" fill-opacity=\"1\" /><path clip-path=\"url(#clip090)\" d=\"M 0 0 M2286.82 217.809 L2286.82 233.458 L2282.56 233.458 L2282.56 217.948 Q2282.56 214.268 2281.13 212.439 Q2279.69 210.61 2276.82 210.61 Q2273.37 210.61 2271.38 212.81 Q2269.39 215.009 2269.39 218.805 L2269.39 233.458 L2265.11 233.458 L2265.11 207.532 L2269.39 207.532 L2269.39 211.56 Q2270.92 209.222 2272.98 208.064 Q2275.06 206.907 2277.77 206.907 Q2282.24 206.907 2284.53 209.685 Q2286.82 212.439 2286.82 217.809 Z\" fill=\"#000000\" fill-rule=\"evenodd\" fill-opacity=\"1\" /><path clip-path=\"url(#clip090)\" d=\"M 0 0 M2295.5 200.171 L2295.5 207.532 L2304.28 207.532 L2304.28 210.842 L2295.5 210.842 L2295.5 224.916 Q2295.5 228.087 2296.36 228.99 Q2297.24 229.893 2299.9 229.893 L2304.28 229.893 L2304.28 233.458 L2299.9 233.458 Q2294.97 233.458 2293.1 231.629 Q2291.22 229.777 2291.22 224.916 L2291.22 210.842 L2288.1 210.842 L2288.1 207.532 L2291.22 207.532 L2291.22 200.171 L2295.5 200.171 Z\" fill=\"#000000\" fill-rule=\"evenodd\" fill-opacity=\"1\" /></svg>\n"
      ]
     },
     "execution_count": 72,
     "metadata": {},
     "output_type": "execute_result"
    }
   ],
   "source": [
    "μ_fp = mean(fits_fp, dims=2)\n",
    "σ_fp = std(fits_fp, dims=2)\n",
    "μ_tourney = mean(fits_tourney, dims=2)\n",
    "σ_tourney = std(fits_tourney, dims=2)\n",
    "plot(μ_fp, ribbon=σ_fp, label=\"FP\", legend=:outertopright)\n",
    "plot!(μ_tourney, ribbon=σ_tourney, label=\"Tournament\")"
   ]
  },
  {
   "cell_type": "markdown",
   "metadata": {
    "slideshow": {
     "slide_type": "slide"
    }
   },
   "source": [
    "While the randomness of tournament selection may appear disadvantageous, the diversity it provides in the search allows us to continue looking through new areas where we might get stuck with fitness proportionate selection. Tournament selection also gaurantees improvement by selecting individuals that are at least better than two other individuals in the population, while fitness proportionate selection may randomly choose bad individuals often."
   ]
  },
  {
   "cell_type": "markdown",
   "metadata": {
    "slideshow": {
     "slide_type": "fragment"
    }
   },
   "source": [
    "Our results seem to fluctuate quite a bit. Why is that? We didn't see that before with the $(1+1)$ and $(1+\\lambda)$ EAs..."
   ]
  },
  {
   "cell_type": "markdown",
   "metadata": {
    "slideshow": {
     "slide_type": "slide"
    }
   },
   "source": [
    "## <a id=\"elitism\"></a>Elitism"
   ]
  },
  {
   "cell_type": "markdown",
   "metadata": {
    "slideshow": {
     "slide_type": "fragment"
    }
   },
   "source": [
    "An advantage that the $(1+1)$ and $(1+\\lambda)$ EAs have over the genetic algorithm we've coded here is that their convergence is **monotonically increasing**. This means as evolution goes on, the result will only improve and never get worse. This is because the best fitness is only ever removed when the expert is replaced by an equally good or better individual. However, neither of the selection methods we compared have this guarantee: the best individual can leave the population easily! While completely basing our selection on global competition may not be a good practice, we do want to keep at least the best individual. This is known as **elitism** and is the practice of directly passing on a certain number of individuals *without mutation* into the next generation. This is similar to the truncation selection we used at the beginning, but the individuals selected from truncation selection will bypass the modification step entirely."
   ]
  },
  {
   "cell_type": "code",
   "execution_count": 73,
   "metadata": {
    "slideshow": {
     "slide_type": "slide"
    }
   },
   "outputs": [
    {
     "data": {
      "text/plain": [
       "step_ga (generic function with 1 method)"
      ]
     },
     "execution_count": 73,
     "metadata": {},
     "output_type": "execute_result"
    }
   ],
   "source": [
    "num_elites = 5\n",
    "select = tournament_select\n",
    "\n",
    "function step_ga(population::Array{<:Individual})\n",
    "    evaluate!(population)\n",
    "    sort!(population, rev=true)\n",
    "    max_fit = maximum([i.fitness for i in population])\n",
    "    \n",
    "    new_population = Array{Individual}(undef, 0)\n",
    "    append!(new_population, population[1:num_elites])\n",
    "    while length(new_population) < length(population)\n",
    "        parent1 = select(population)\n",
    "        parent2 = select(population)\n",
    "        child1 = crossover(parent1, parent2)\n",
    "        child1 = mutate(child1)\n",
    "        push!(new_population, child1)\n",
    "    end\n",
    "    \n",
    "    new_population, max_fit\n",
    "end"
   ]
  },
  {
   "cell_type": "code",
   "execution_count": 74,
   "metadata": {
    "slideshow": {
     "slide_type": "slide"
    }
   },
   "outputs": [
    {
     "name": "stdout",
     "output_type": "stream",
     "text": [
      "1 -5.07460565784335\n",
      "2 -1.1874215369516037\n",
      "3 -3.1047764292328424\n",
      "4 -3.5628846232927884\n",
      "5 -3.324988571749813\n",
      "6 -1.8052191915626281\n",
      "7 -1.7593532855667746\n",
      "8 -4.163981292899109\n",
      "9 -0.8885654633579207\n",
      "10 -0.9898173209496974\n"
     ]
    }
   ],
   "source": [
    "select = fp_select\n",
    "fits_fp = zeros(100, 10)\n",
    "for i in 1:10\n",
    "    fits_fp[:, i] = ga(100)\n",
    "    println(i, \" \", fits_fp[end, i])\n",
    "end"
   ]
  },
  {
   "cell_type": "code",
   "execution_count": 75,
   "metadata": {
    "slideshow": {
     "slide_type": "slide"
    }
   },
   "outputs": [
    {
     "name": "stdout",
     "output_type": "stream",
     "text": [
      "1 -0.6931890304875878\n",
      "2 -0.42181113788592484\n",
      "3 -0.6437356890333206\n",
      "4 -0.848440212039506\n",
      "5 -0.3487856209937519\n",
      "6 -0.30812193454117676\n",
      "7 -0.7693884072226638\n",
      "8 -0.555902804298313\n",
      "9 -0.31708702916552056\n",
      "10 -0.501831726311579\n"
     ]
    }
   ],
   "source": [
    "select = tournament_select\n",
    "fits_tourney = zeros(100, 10)\n",
    "for i in 1:10\n",
    "    fits_tourney[:, i] = ga(100)\n",
    "    println(i, \" \", fits_tourney[end, i])\n",
    "end"
   ]
  },
  {
   "cell_type": "code",
   "execution_count": 76,
   "metadata": {
    "slideshow": {
     "slide_type": "slide"
    }
   },
   "outputs": [
    {
     "data": {
      "image/svg+xml": [
       "<?xml version=\"1.0\" encoding=\"utf-8\"?>\n",
       "<svg xmlns=\"http://www.w3.org/2000/svg\" xmlns:xlink=\"http://www.w3.org/1999/xlink\" width=\"600\" height=\"400\" viewBox=\"0 0 2400 1600\">\n",
       "<defs>\n",
       "  <clipPath id=\"clip130\">\n",
       "    <rect x=\"0\" y=\"0\" width=\"2400\" height=\"1600\"/>\n",
       "  </clipPath>\n",
       "</defs>\n",
       "<path clip-path=\"url(#clip130)\" d=\"\n",
       "M0 1600 L2400 1600 L2400 0 L0 0  Z\n",
       "  \" fill=\"#ffffff\" fill-rule=\"evenodd\" fill-opacity=\"1\"/>\n",
       "<defs>\n",
       "  <clipPath id=\"clip131\">\n",
       "    <rect x=\"480\" y=\"0\" width=\"1681\" height=\"1600\"/>\n",
       "  </clipPath>\n",
       "</defs>\n",
       "<path clip-path=\"url(#clip130)\" d=\"\n",
       "M171.181 1486.45 L1782.62 1486.45 L1782.62 47.2441 L171.181 47.2441  Z\n",
       "  \" fill=\"#ffffff\" fill-rule=\"evenodd\" fill-opacity=\"1\"/>\n",
       "<defs>\n",
       "  <clipPath id=\"clip132\">\n",
       "    <rect x=\"171\" y=\"47\" width=\"1612\" height=\"1440\"/>\n",
       "  </clipPath>\n",
       "</defs>\n",
       "<polyline clip-path=\"url(#clip132)\" style=\"stroke:#000000; stroke-width:2; stroke-opacity:0.1; fill:none\" points=\"\n",
       "  201.432,1486.45 201.432,47.2441 \n",
       "  \"/>\n",
       "<polyline clip-path=\"url(#clip132)\" style=\"stroke:#000000; stroke-width:2; stroke-opacity:0.1; fill:none\" points=\"\n",
       "  585.327,1486.45 585.327,47.2441 \n",
       "  \"/>\n",
       "<polyline clip-path=\"url(#clip132)\" style=\"stroke:#000000; stroke-width:2; stroke-opacity:0.1; fill:none\" points=\"\n",
       "  969.222,1486.45 969.222,47.2441 \n",
       "  \"/>\n",
       "<polyline clip-path=\"url(#clip132)\" style=\"stroke:#000000; stroke-width:2; stroke-opacity:0.1; fill:none\" points=\"\n",
       "  1353.12,1486.45 1353.12,47.2441 \n",
       "  \"/>\n",
       "<polyline clip-path=\"url(#clip132)\" style=\"stroke:#000000; stroke-width:2; stroke-opacity:0.1; fill:none\" points=\"\n",
       "  1737.01,1486.45 1737.01,47.2441 \n",
       "  \"/>\n",
       "<polyline clip-path=\"url(#clip130)\" style=\"stroke:#000000; stroke-width:4; stroke-opacity:1; fill:none\" points=\"\n",
       "  171.181,1486.45 1782.62,1486.45 \n",
       "  \"/>\n",
       "<polyline clip-path=\"url(#clip130)\" style=\"stroke:#000000; stroke-width:4; stroke-opacity:1; fill:none\" points=\"\n",
       "  201.432,1486.45 201.432,1469.18 \n",
       "  \"/>\n",
       "<polyline clip-path=\"url(#clip130)\" style=\"stroke:#000000; stroke-width:4; stroke-opacity:1; fill:none\" points=\"\n",
       "  585.327,1486.45 585.327,1469.18 \n",
       "  \"/>\n",
       "<polyline clip-path=\"url(#clip130)\" style=\"stroke:#000000; stroke-width:4; stroke-opacity:1; fill:none\" points=\"\n",
       "  969.222,1486.45 969.222,1469.18 \n",
       "  \"/>\n",
       "<polyline clip-path=\"url(#clip130)\" style=\"stroke:#000000; stroke-width:4; stroke-opacity:1; fill:none\" points=\"\n",
       "  1353.12,1486.45 1353.12,1469.18 \n",
       "  \"/>\n",
       "<polyline clip-path=\"url(#clip130)\" style=\"stroke:#000000; stroke-width:4; stroke-opacity:1; fill:none\" points=\"\n",
       "  1737.01,1486.45 1737.01,1469.18 \n",
       "  \"/>\n",
       "<path clip-path=\"url(#clip130)\" d=\"M 0 0 M201.432 1515.64 Q197.821 1515.64 195.993 1519.2 Q194.187 1522.75 194.187 1529.87 Q194.187 1536.98 195.993 1540.55 Q197.821 1544.09 201.432 1544.09 Q205.067 1544.09 206.872 1540.55 Q208.701 1536.98 208.701 1529.87 Q208.701 1522.75 206.872 1519.2 Q205.067 1515.64 201.432 1515.64 M201.432 1511.93 Q207.243 1511.93 210.298 1516.54 Q213.377 1521.12 213.377 1529.87 Q213.377 1538.6 210.298 1543.21 Q207.243 1547.79 201.432 1547.79 Q195.622 1547.79 192.544 1543.21 Q189.488 1538.6 189.488 1529.87 Q189.488 1521.12 192.544 1516.54 Q195.622 1511.93 201.432 1511.93 Z\" fill=\"#000000\" fill-rule=\"evenodd\" fill-opacity=\"1\" /><path clip-path=\"url(#clip130)\" d=\"M 0 0 M566.971 1543.18 L583.29 1543.18 L583.29 1547.12 L561.346 1547.12 L561.346 1543.18 Q564.008 1540.43 568.591 1535.8 Q573.198 1531.15 574.378 1529.81 Q576.623 1527.28 577.503 1525.55 Q578.406 1523.79 578.406 1522.1 Q578.406 1519.34 576.461 1517.61 Q574.54 1515.87 571.438 1515.87 Q569.239 1515.87 566.786 1516.63 Q564.355 1517.4 561.577 1518.95 L561.577 1514.23 Q564.401 1513.09 566.855 1512.51 Q569.309 1511.93 571.346 1511.93 Q576.716 1511.93 579.91 1514.62 Q583.105 1517.31 583.105 1521.8 Q583.105 1523.93 582.295 1525.85 Q581.508 1527.74 579.401 1530.34 Q578.822 1531.01 575.721 1534.23 Q572.619 1537.42 566.971 1543.18 Z\" fill=\"#000000\" fill-rule=\"evenodd\" fill-opacity=\"1\" /><path clip-path=\"url(#clip130)\" d=\"M 0 0 M588.406 1512.56 L606.762 1512.56 L606.762 1516.5 L592.688 1516.5 L592.688 1524.97 Q593.707 1524.62 594.725 1524.46 Q595.744 1524.27 596.762 1524.27 Q602.549 1524.27 605.929 1527.44 Q609.308 1530.62 609.308 1536.03 Q609.308 1541.61 605.836 1544.71 Q602.364 1547.79 596.045 1547.79 Q593.869 1547.79 591.6 1547.42 Q589.355 1547.05 586.947 1546.31 L586.947 1541.61 Q589.031 1542.74 591.253 1543.3 Q593.475 1543.86 595.952 1543.86 Q599.957 1543.86 602.295 1541.75 Q604.633 1539.64 604.633 1536.03 Q604.633 1532.42 602.295 1530.31 Q599.957 1528.21 595.952 1528.21 Q594.077 1528.21 592.202 1528.62 Q590.35 1529.04 588.406 1529.92 L588.406 1512.56 Z\" fill=\"#000000\" fill-rule=\"evenodd\" fill-opacity=\"1\" /><path clip-path=\"url(#clip130)\" d=\"M 0 0 M945.993 1512.56 L964.349 1512.56 L964.349 1516.5 L950.275 1516.5 L950.275 1524.97 Q951.294 1524.62 952.312 1524.46 Q953.331 1524.27 954.349 1524.27 Q960.136 1524.27 963.516 1527.44 Q966.895 1530.62 966.895 1536.03 Q966.895 1541.61 963.423 1544.71 Q959.951 1547.79 953.632 1547.79 Q951.456 1547.79 949.187 1547.42 Q946.942 1547.05 944.534 1546.31 L944.534 1541.61 Q946.618 1542.74 948.84 1543.3 Q951.062 1543.86 953.539 1543.86 Q957.544 1543.86 959.882 1541.75 Q962.219 1539.64 962.219 1536.03 Q962.219 1532.42 959.882 1530.31 Q957.544 1528.21 953.539 1528.21 Q951.664 1528.21 949.789 1528.62 Q947.937 1529.04 945.993 1529.92 L945.993 1512.56 Z\" fill=\"#000000\" fill-rule=\"evenodd\" fill-opacity=\"1\" /><path clip-path=\"url(#clip130)\" d=\"M 0 0 M981.965 1515.64 Q978.354 1515.64 976.525 1519.2 Q974.719 1522.75 974.719 1529.87 Q974.719 1536.98 976.525 1540.55 Q978.354 1544.09 981.965 1544.09 Q985.599 1544.09 987.405 1540.55 Q989.233 1536.98 989.233 1529.87 Q989.233 1522.75 987.405 1519.2 Q985.599 1515.64 981.965 1515.64 M981.965 1511.93 Q987.775 1511.93 990.83 1516.54 Q993.909 1521.12 993.909 1529.87 Q993.909 1538.6 990.83 1543.21 Q987.775 1547.79 981.965 1547.79 Q976.155 1547.79 973.076 1543.21 Q970.02 1538.6 970.02 1529.87 Q970.02 1521.12 973.076 1516.54 Q976.155 1511.93 981.965 1511.93 Z\" fill=\"#000000\" fill-rule=\"evenodd\" fill-opacity=\"1\" /><path clip-path=\"url(#clip130)\" d=\"M 0 0 M1329 1512.56 L1351.22 1512.56 L1351.22 1514.55 L1338.67 1547.12 L1333.79 1547.12 L1345.59 1516.5 L1329 1516.5 L1329 1512.56 Z\" fill=\"#000000\" fill-rule=\"evenodd\" fill-opacity=\"1\" /><path clip-path=\"url(#clip130)\" d=\"M 0 0 M1356.33 1512.56 L1374.69 1512.56 L1374.69 1516.5 L1360.62 1516.5 L1360.62 1524.97 Q1361.63 1524.62 1362.65 1524.46 Q1363.67 1524.27 1364.69 1524.27 Q1370.48 1524.27 1373.86 1527.44 Q1377.24 1530.62 1377.24 1536.03 Q1377.24 1541.61 1373.76 1544.71 Q1370.29 1547.79 1363.97 1547.79 Q1361.8 1547.79 1359.53 1547.42 Q1357.28 1547.05 1354.88 1546.31 L1354.88 1541.61 Q1356.96 1542.74 1359.18 1543.3 Q1361.4 1543.86 1363.88 1543.86 Q1367.88 1543.86 1370.22 1541.75 Q1372.56 1539.64 1372.56 1536.03 Q1372.56 1532.42 1370.22 1530.31 Q1367.88 1528.21 1363.88 1528.21 Q1362.01 1528.21 1360.13 1528.62 Q1358.28 1529.04 1356.33 1529.92 L1356.33 1512.56 Z\" fill=\"#000000\" fill-rule=\"evenodd\" fill-opacity=\"1\" /><path clip-path=\"url(#clip130)\" d=\"M 0 0 M1700.38 1543.18 L1708.02 1543.18 L1708.02 1516.82 L1699.71 1518.49 L1699.71 1514.23 L1707.97 1512.56 L1712.65 1512.56 L1712.65 1543.18 L1720.29 1543.18 L1720.29 1547.12 L1700.38 1547.12 L1700.38 1543.18 Z\" fill=\"#000000\" fill-rule=\"evenodd\" fill-opacity=\"1\" /><path clip-path=\"url(#clip130)\" d=\"M 0 0 M1735.36 1515.64 Q1731.74 1515.64 1729.92 1519.2 Q1728.11 1522.75 1728.11 1529.87 Q1728.11 1536.98 1729.92 1540.55 Q1731.74 1544.09 1735.36 1544.09 Q1738.99 1544.09 1740.8 1540.55 Q1742.62 1536.98 1742.62 1529.87 Q1742.62 1522.75 1740.8 1519.2 Q1738.99 1515.64 1735.36 1515.64 M1735.36 1511.93 Q1741.17 1511.93 1744.22 1516.54 Q1747.3 1521.12 1747.3 1529.87 Q1747.3 1538.6 1744.22 1543.21 Q1741.17 1547.79 1735.36 1547.79 Q1729.55 1547.79 1726.47 1543.21 Q1723.41 1538.6 1723.41 1529.87 Q1723.41 1521.12 1726.47 1516.54 Q1729.55 1511.93 1735.36 1511.93 Z\" fill=\"#000000\" fill-rule=\"evenodd\" fill-opacity=\"1\" /><path clip-path=\"url(#clip130)\" d=\"M 0 0 M1762.37 1515.64 Q1758.76 1515.64 1756.93 1519.2 Q1755.12 1522.75 1755.12 1529.87 Q1755.12 1536.98 1756.93 1540.55 Q1758.76 1544.09 1762.37 1544.09 Q1766 1544.09 1767.81 1540.55 Q1769.64 1536.98 1769.64 1529.87 Q1769.64 1522.75 1767.81 1519.2 Q1766 1515.64 1762.37 1515.64 M1762.37 1511.93 Q1768.18 1511.93 1771.24 1516.54 Q1774.31 1521.12 1774.31 1529.87 Q1774.31 1538.6 1771.24 1543.21 Q1768.18 1547.79 1762.37 1547.79 Q1756.56 1547.79 1753.48 1543.21 Q1750.43 1538.6 1750.43 1529.87 Q1750.43 1521.12 1753.48 1516.54 Q1756.56 1511.93 1762.37 1511.93 Z\" fill=\"#000000\" fill-rule=\"evenodd\" fill-opacity=\"1\" /><polyline clip-path=\"url(#clip132)\" style=\"stroke:#000000; stroke-width:2; stroke-opacity:0.1; fill:none\" points=\"\n",
       "  171.181,1155.85 1782.62,1155.85 \n",
       "  \"/>\n",
       "<polyline clip-path=\"url(#clip132)\" style=\"stroke:#000000; stroke-width:2; stroke-opacity:0.1; fill:none\" points=\"\n",
       "  171.181,797.886 1782.62,797.886 \n",
       "  \"/>\n",
       "<polyline clip-path=\"url(#clip132)\" style=\"stroke:#000000; stroke-width:2; stroke-opacity:0.1; fill:none\" points=\"\n",
       "  171.181,439.927 1782.62,439.927 \n",
       "  \"/>\n",
       "<polyline clip-path=\"url(#clip132)\" style=\"stroke:#000000; stroke-width:2; stroke-opacity:0.1; fill:none\" points=\"\n",
       "  171.181,81.9683 1782.62,81.9683 \n",
       "  \"/>\n",
       "<polyline clip-path=\"url(#clip130)\" style=\"stroke:#000000; stroke-width:4; stroke-opacity:1; fill:none\" points=\"\n",
       "  171.181,1486.45 171.181,47.2441 \n",
       "  \"/>\n",
       "<polyline clip-path=\"url(#clip130)\" style=\"stroke:#000000; stroke-width:4; stroke-opacity:1; fill:none\" points=\"\n",
       "  171.181,1155.85 190.519,1155.85 \n",
       "  \"/>\n",
       "<polyline clip-path=\"url(#clip130)\" style=\"stroke:#000000; stroke-width:4; stroke-opacity:1; fill:none\" points=\"\n",
       "  171.181,797.886 190.519,797.886 \n",
       "  \"/>\n",
       "<polyline clip-path=\"url(#clip130)\" style=\"stroke:#000000; stroke-width:4; stroke-opacity:1; fill:none\" points=\"\n",
       "  171.181,439.927 190.519,439.927 \n",
       "  \"/>\n",
       "<polyline clip-path=\"url(#clip130)\" style=\"stroke:#000000; stroke-width:4; stroke-opacity:1; fill:none\" points=\"\n",
       "  171.181,81.9683 190.519,81.9683 \n",
       "  \"/>\n",
       "<path clip-path=\"url(#clip130)\" d=\"M 0 0 M51.3162 1156.3 L80.992 1156.3 L80.992 1160.23 L51.3162 1160.23 L51.3162 1156.3 Z\" fill=\"#000000\" fill-rule=\"evenodd\" fill-opacity=\"1\" /><path clip-path=\"url(#clip130)\" d=\"M 0 0 M96.64 1153.98 Q93.4919 1153.98 91.6401 1156.13 Q89.8114 1158.29 89.8114 1162.04 Q89.8114 1165.76 91.6401 1167.94 Q93.4919 1170.09 96.64 1170.09 Q99.7882 1170.09 101.617 1167.94 Q103.469 1165.76 103.469 1162.04 Q103.469 1158.29 101.617 1156.13 Q99.7882 1153.98 96.64 1153.98 M105.922 1139.33 L105.922 1143.59 Q104.163 1142.76 102.358 1142.32 Q100.575 1141.88 98.8159 1141.88 Q94.1863 1141.88 91.7326 1145 Q89.3021 1148.13 88.9549 1154.45 Q90.3206 1152.43 92.3808 1151.37 Q94.441 1150.28 96.9178 1150.28 Q102.126 1150.28 105.135 1153.45 Q108.168 1156.6 108.168 1162.04 Q108.168 1167.36 105.02 1170.58 Q101.871 1173.8 96.64 1173.8 Q90.6447 1173.8 87.4734 1169.21 Q84.3021 1164.61 84.3021 1155.88 Q84.3021 1147.69 88.191 1142.82 Q92.0799 1137.94 98.6308 1137.94 Q100.39 1137.94 102.172 1138.29 Q103.978 1138.63 105.922 1139.33 Z\" fill=\"#000000\" fill-rule=\"evenodd\" fill-opacity=\"1\" /><path clip-path=\"url(#clip130)\" d=\"M 0 0 M123.237 1141.64 Q119.626 1141.64 117.797 1145.21 Q115.992 1148.75 115.992 1155.88 Q115.992 1162.99 117.797 1166.55 Q119.626 1170.09 123.237 1170.09 Q126.871 1170.09 128.677 1166.55 Q130.506 1162.99 130.506 1155.88 Q130.506 1148.75 128.677 1145.21 Q126.871 1141.64 123.237 1141.64 M123.237 1137.94 Q129.047 1137.94 132.103 1142.55 Q135.181 1147.13 135.181 1155.88 Q135.181 1164.61 132.103 1169.21 Q129.047 1173.8 123.237 1173.8 Q117.427 1173.8 114.348 1169.21 Q111.293 1164.61 111.293 1155.88 Q111.293 1147.13 114.348 1142.55 Q117.427 1137.94 123.237 1137.94 Z\" fill=\"#000000\" fill-rule=\"evenodd\" fill-opacity=\"1\" /><path clip-path=\"url(#clip130)\" d=\"M 0 0 M50.9921 798.338 L80.6679 798.338 L80.6679 802.273 L50.9921 802.273 L50.9921 798.338 Z\" fill=\"#000000\" fill-rule=\"evenodd\" fill-opacity=\"1\" /><path clip-path=\"url(#clip130)\" d=\"M 0 0 M98.5845 784.681 L86.779 803.129 L98.5845 803.129 L98.5845 784.681 M97.3576 780.606 L103.237 780.606 L103.237 803.129 L108.168 803.129 L108.168 807.018 L103.237 807.018 L103.237 815.166 L98.5845 815.166 L98.5845 807.018 L82.9827 807.018 L82.9827 802.504 L97.3576 780.606 Z\" fill=\"#000000\" fill-rule=\"evenodd\" fill-opacity=\"1\" /><path clip-path=\"url(#clip130)\" d=\"M 0 0 M123.237 783.685 Q119.626 783.685 117.797 787.25 Q115.992 790.792 115.992 797.921 Q115.992 805.028 117.797 808.592 Q119.626 812.134 123.237 812.134 Q126.871 812.134 128.677 808.592 Q130.506 805.028 130.506 797.921 Q130.506 790.792 128.677 787.25 Q126.871 783.685 123.237 783.685 M123.237 779.981 Q129.047 779.981 132.103 784.588 Q135.181 789.171 135.181 797.921 Q135.181 806.648 132.103 811.254 Q129.047 815.838 123.237 815.838 Q117.427 815.838 114.348 811.254 Q111.293 806.648 111.293 797.921 Q111.293 789.171 114.348 784.588 Q117.427 779.981 123.237 779.981 Z\" fill=\"#000000\" fill-rule=\"evenodd\" fill-opacity=\"1\" /><path clip-path=\"url(#clip130)\" d=\"M 0 0 M53.0754 440.379 L82.7512 440.379 L82.7512 444.314 L53.0754 444.314 L53.0754 440.379 Z\" fill=\"#000000\" fill-rule=\"evenodd\" fill-opacity=\"1\" /><path clip-path=\"url(#clip130)\" d=\"M 0 0 M91.8484 453.272 L108.168 453.272 L108.168 457.207 L86.2234 457.207 L86.2234 453.272 Q88.8854 450.518 93.4688 445.888 Q98.0752 441.235 99.2558 439.893 Q101.501 437.37 102.381 435.633 Q103.284 433.874 103.284 432.184 Q103.284 429.43 101.339 427.694 Q99.4178 425.958 96.316 425.958 Q94.1169 425.958 91.6632 426.721 Q89.2327 427.485 86.4549 429.036 L86.4549 424.314 Q89.279 423.18 91.7326 422.601 Q94.1863 422.022 96.2234 422.022 Q101.594 422.022 104.788 424.708 Q107.983 427.393 107.983 431.883 Q107.983 434.013 107.172 435.934 Q106.385 437.832 104.279 440.425 Q103.7 441.096 100.598 444.314 Q97.4965 447.508 91.8484 453.272 Z\" fill=\"#000000\" fill-rule=\"evenodd\" fill-opacity=\"1\" /><path clip-path=\"url(#clip130)\" d=\"M 0 0 M123.237 425.726 Q119.626 425.726 117.797 429.291 Q115.992 432.833 115.992 439.962 Q115.992 447.069 117.797 450.633 Q119.626 454.175 123.237 454.175 Q126.871 454.175 128.677 450.633 Q130.506 447.069 130.506 439.962 Q130.506 432.833 128.677 429.291 Q126.871 425.726 123.237 425.726 M123.237 422.022 Q129.047 422.022 132.103 426.629 Q135.181 431.212 135.181 439.962 Q135.181 448.689 132.103 453.295 Q129.047 457.879 123.237 457.879 Q117.427 457.879 114.348 453.295 Q111.293 448.689 111.293 439.962 Q111.293 431.212 114.348 426.629 Q117.427 422.022 123.237 422.022 Z\" fill=\"#000000\" fill-rule=\"evenodd\" fill-opacity=\"1\" /><path clip-path=\"url(#clip130)\" d=\"M 0 0 M123.237 67.767 Q119.626 67.767 117.797 71.3318 Q115.992 74.8734 115.992 82.003 Q115.992 89.1095 117.797 92.6743 Q119.626 96.2159 123.237 96.2159 Q126.871 96.2159 128.677 92.6743 Q130.506 89.1095 130.506 82.003 Q130.506 74.8734 128.677 71.3318 Q126.871 67.767 123.237 67.767 M123.237 64.0633 Q129.047 64.0633 132.103 68.6698 Q135.181 73.2531 135.181 82.003 Q135.181 90.7298 132.103 95.3363 Q129.047 99.9196 123.237 99.9196 Q117.427 99.9196 114.348 95.3363 Q111.293 90.7298 111.293 82.003 Q111.293 73.2531 114.348 68.6698 Q117.427 64.0633 123.237 64.0633 Z\" fill=\"#000000\" fill-rule=\"evenodd\" fill-opacity=\"1\" /><path clip-path=\"url(#clip132)\" d=\"\n",
       "M216.788 1445.72 L232.144 1264.23 L247.5 1184.32 L262.856 965.273 L278.211 924.14 L293.567 812.265 L308.923 771.455 L324.279 716.784 L339.634 642.413 L354.99 623.22 \n",
       "  L370.346 618.167 L385.702 607.823 L401.058 557.924 L416.413 505.977 L431.769 498.184 L447.125 466.804 L462.481 434.466 L477.837 430.32 L493.192 402.253 L508.548 398.648 \n",
       "  L523.904 376.019 L539.26 375.363 L554.616 363.557 L569.971 333.201 L585.327 308.301 L600.683 307.609 L616.039 304.001 L631.394 294.813 L646.75 291.988 L662.106 288.832 \n",
       "  L677.462 286.671 L692.818 285.132 L708.173 280.998 L723.529 280.021 L738.885 269.417 L754.241 268.96 L769.597 260.036 L784.952 258.103 L800.308 257.536 L815.664 241.032 \n",
       "  L831.02 233.911 L846.375 234.149 L861.731 230.745 L877.087 229.478 L892.443 227.048 L907.799 226.122 L923.154 224.509 L938.51 224.521 L953.866 215.745 L969.222 215.352 \n",
       "  L984.578 214.404 L999.933 210.808 L1015.29 210.808 L1030.64 210.263 L1046 205.488 L1061.36 205.488 L1076.71 202.508 L1092.07 201.37 L1107.42 196.248 L1122.78 195.817 \n",
       "  L1138.14 195.69 L1153.49 195.662 L1168.85 193.224 L1184.2 193.085 L1199.56 190.469 L1214.91 188.766 L1230.27 187.015 L1245.63 186.986 L1260.98 177.812 L1276.34 177.812 \n",
       "  L1291.69 177.812 L1307.05 176.165 L1322.4 174.116 L1337.76 168.372 L1353.12 168.267 L1368.47 168.174 L1383.83 166.55 L1399.18 166.55 L1414.54 166.55 L1429.9 166.538 \n",
       "  L1445.25 165.611 L1460.61 165.615 L1475.96 165.485 L1491.32 165.492 L1506.67 164.266 L1522.03 164.266 L1537.39 164.266 L1552.74 163.816 L1568.1 163.628 L1583.45 160.278 \n",
       "  L1598.81 160.278 L1614.16 159.602 L1629.52 155.987 L1644.88 156.116 L1660.23 156.116 L1675.59 155.825 L1690.94 155.825 L1706.3 155.825 L1721.66 155.312 L1737.01 154.35 \n",
       "  L1737.01 102.161 L1721.66 104.241 L1706.3 104.083 L1690.94 104.083 L1675.59 104.083 L1660.23 103.992 L1644.88 103.992 L1629.52 106.005 L1614.16 105.845 L1598.81 105.652 \n",
       "  L1583.45 105.652 L1568.1 105.677 L1552.74 106.678 L1537.39 107.112 L1522.03 107.112 L1506.67 107.112 L1491.32 107.73 L1475.96 107.769 L1460.61 108.921 L1445.25 109.059 \n",
       "  L1429.9 108.938 L1414.54 109.212 L1399.18 109.212 L1383.83 109.212 L1368.47 112.518 L1353.12 113.781 L1337.76 113.963 L1322.4 112.233 L1307.05 113.002 L1291.69 114.62 \n",
       "  L1276.34 114.62 L1260.98 114.62 L1245.63 115.861 L1230.27 115.861 L1214.91 116.062 L1199.56 115.911 L1184.2 118.838 L1168.85 118.94 L1153.49 120.32 L1138.14 120.834 \n",
       "  L1122.78 120.826 L1107.42 125.287 L1092.07 124.476 L1076.71 130.869 L1061.36 130.65 L1046 130.65 L1030.64 130.297 L1015.29 132.445 L999.933 132.445 L984.578 131.801 \n",
       "  L969.222 133.434 L953.866 136.554 L938.51 141.037 L923.154 144.767 L907.799 149.271 L892.443 151.543 L877.087 153.414 L861.731 154.602 L846.375 153.794 L831.02 154.856 \n",
       "  L815.664 162.139 L800.308 171.367 L784.952 172.312 L769.597 176.601 L754.241 174.467 L738.885 176.473 L723.529 180.681 L708.173 194.828 L692.818 200.681 L677.462 201.03 \n",
       "  L662.106 209.347 L646.75 216.106 L631.394 217.102 L616.039 240.527 L600.683 242.344 L585.327 242.359 L569.971 254.08 L554.616 255.942 L539.26 274.079 L523.904 274.321 \n",
       "  L508.548 275.214 L493.192 283.614 L477.837 293.938 L462.481 301.854 L447.125 338.763 L431.769 351.778 L416.413 358.345 L401.058 410.17 L385.702 408.322 L370.346 449.512 \n",
       "  L354.99 469.546 L339.634 483.261 L324.279 585.626 L308.923 590.731 L293.567 636.813 L278.211 676.927 L262.856 724.119 L247.5 844.654 L232.144 1043.05 L216.788 1136.28 \n",
       "   Z\n",
       "  \" fill=\"#009af9\" fill-rule=\"evenodd\" fill-opacity=\"0.5\"/>\n",
       "<polyline clip-path=\"url(#clip132)\" style=\"stroke:#009af9; stroke-width:4; stroke-opacity:1; fill:none\" points=\"\n",
       "  216.788,1291 232.144,1153.64 247.5,1014.49 262.856,844.696 278.211,800.534 293.567,724.539 308.923,681.093 324.279,651.205 339.634,562.837 354.99,546.383 \n",
       "  370.346,533.84 385.702,508.072 401.058,484.047 416.413,432.161 431.769,424.981 447.125,402.783 462.481,368.16 477.837,362.129 493.192,342.933 508.548,336.931 \n",
       "  523.904,325.17 539.26,324.721 554.616,309.75 569.971,293.641 585.327,275.33 600.683,274.976 616.039,272.264 631.394,255.957 646.75,254.047 662.106,249.089 \n",
       "  677.462,243.85 692.818,242.906 708.173,237.913 723.529,230.351 738.885,222.945 754.241,221.714 769.597,218.318 784.952,215.208 800.308,214.452 815.664,201.585 \n",
       "  831.02,194.384 846.375,193.972 861.731,192.673 877.087,191.446 892.443,189.296 907.799,187.697 923.154,184.638 938.51,182.779 953.866,176.149 969.222,174.393 \n",
       "  984.578,173.102 999.933,171.626 1015.29,171.626 1030.64,170.28 1046,168.069 1061.36,168.069 1076.71,166.689 1092.07,162.923 1107.42,160.767 1122.78,158.322 \n",
       "  1138.14,158.262 1153.49,157.991 1168.85,156.082 1184.2,155.961 1199.56,153.19 1214.91,152.414 1230.27,151.438 1245.63,151.423 1260.98,146.216 1276.34,146.216 \n",
       "  1291.69,146.216 1307.05,144.583 1322.4,143.175 1337.76,141.167 1353.12,141.024 1368.47,140.346 1383.83,137.881 1399.18,137.881 1414.54,137.881 1429.9,137.738 \n",
       "  1445.25,137.335 1460.61,137.268 1475.96,136.627 1491.32,136.611 1506.67,135.689 1522.03,135.689 1537.39,135.689 1552.74,135.247 1568.1,134.652 1583.45,132.965 \n",
       "  1598.81,132.965 1614.16,132.723 1629.52,130.996 1644.88,130.054 1660.23,130.054 1675.59,129.954 1690.94,129.954 1706.3,129.954 1721.66,129.777 1737.01,128.255 \n",
       "  \n",
       "  \"/>\n",
       "<path clip-path=\"url(#clip132)\" d=\"\n",
       "M216.788 1431.2 L232.144 1280.29 L247.5 1040.96 L262.856 868.433 L278.211 714.249 L293.567 650.508 L308.923 571.017 L324.279 543.394 L339.634 488.6 L354.99 415.079 \n",
       "  L370.346 407.123 L385.702 354.696 L401.058 335.044 L416.413 311.128 L431.769 278.871 L447.125 268.904 L462.481 251.071 L477.837 241.526 L493.192 234.188 L508.548 228.072 \n",
       "  L523.904 224.642 L539.26 214.109 L554.616 207.181 L569.971 206.123 L585.327 204.576 L600.683 199.111 L616.039 195.599 L631.394 185.905 L646.75 185.083 L662.106 183.72 \n",
       "  L677.462 182.331 L692.818 181.55 L708.173 180.855 L723.529 180.024 L738.885 178.415 L754.241 167.422 L769.597 167.424 L784.952 167.438 L800.308 163.47 L815.664 161.214 \n",
       "  L831.02 160.8 L846.375 155.464 L861.731 153.973 L877.087 148.775 L892.443 148.155 L907.799 148.227 L923.154 146.989 L938.51 138.799 L953.866 138.411 L969.222 136.242 \n",
       "  L984.578 135.448 L999.933 130.635 L1015.29 130.083 L1030.64 124.633 L1046 124.642 L1061.36 121.829 L1076.71 120.622 L1092.07 119.698 L1107.42 119.644 L1122.78 119.321 \n",
       "  L1138.14 119.091 L1153.49 116.694 L1168.85 116.274 L1184.2 116.255 L1199.56 116.255 L1214.91 111.814 L1230.27 111.11 L1245.63 111.11 L1260.98 110.267 L1276.34 110.267 \n",
       "  L1291.69 106.666 L1307.05 106.666 L1322.4 106.544 L1337.76 106.282 L1353.12 106.274 L1368.47 106.116 L1383.83 106.041 L1399.18 105.753 L1414.54 104.538 L1429.9 104.511 \n",
       "  L1445.25 104.511 L1460.61 103.958 L1475.96 103.933 L1491.32 103.933 L1506.67 103.414 L1522.03 102.575 L1537.39 102.485 L1552.74 102.497 L1568.1 102.497 L1583.45 102.471 \n",
       "  L1598.81 100.869 L1614.16 100.865 L1629.52 97.3831 L1644.88 97.2395 L1660.23 96.8445 L1675.59 96.7163 L1690.94 96.5489 L1706.3 95.224 L1721.66 95.1591 L1737.01 95.1149 \n",
       "  L1737.01 88.1812 L1721.66 88.3732 L1706.3 88.4872 L1690.94 88.6889 L1675.59 88.7279 L1660.23 88.9112 L1644.88 89.1384 L1629.52 89.2169 L1614.16 87.9763 L1598.81 87.9782 \n",
       "  L1583.45 88.094 L1568.1 88.1183 L1552.74 88.1183 L1537.39 88.3361 L1522.03 88.4435 L1506.67 88.1411 L1491.32 88.1811 L1475.96 88.2023 L1460.61 88.2149 L1445.25 88.638 \n",
       "  L1429.9 88.638 L1414.54 88.6746 L1399.18 88.8847 L1383.83 90.3015 L1368.47 90.2914 L1353.12 90.5589 L1337.76 90.5756 L1322.4 90.5629 L1307.05 90.7429 L1291.69 90.7429 \n",
       "  L1276.34 91.2018 L1260.98 91.2018 L1245.63 91.2301 L1230.27 91.2301 L1214.91 92.1056 L1199.56 91.1818 L1184.2 91.1818 L1168.85 91.2003 L1153.49 92.4534 L1138.14 94.045 \n",
       "  L1122.78 94.0415 L1107.42 96.7778 L1092.07 96.7627 L1076.71 97.0537 L1061.36 97.0311 L1046 97.736 L1030.64 97.876 L1015.29 97.6672 L999.933 97.6993 L984.578 97.469 \n",
       "  L969.222 97.7444 L953.866 97.0723 L938.51 98.9725 L923.154 98.4849 L907.799 98.911 L892.443 104.486 L877.087 105.051 L861.731 105.174 L846.375 105.546 L831.02 105.787 \n",
       "  L815.664 108.295 L800.308 108.944 L784.952 107.898 L769.597 108.178 L754.241 108.73 L738.885 111.195 L723.529 114.329 L708.173 114.909 L692.818 121.214 L677.462 122.129 \n",
       "  L662.106 122.256 L646.75 123.701 L631.394 130.636 L616.039 137.567 L600.683 138.634 L585.327 137.681 L569.971 147.81 L554.616 148.341 L539.26 160.266 L523.904 162.65 \n",
       "  L508.548 166.532 L493.192 175.606 L477.837 180.033 L462.481 193.095 L447.125 210.423 L431.769 217.316 L416.413 227.626 L401.058 232.625 L385.702 271.432 L370.346 282.491 \n",
       "  L354.99 322.917 L339.634 346.187 L324.279 347.759 L308.923 380.425 L293.567 411.124 L278.211 516.806 L262.856 615.46 L247.5 739.805 L232.144 847.232 L216.788 1066.19 \n",
       "   Z\n",
       "  \" fill=\"#e26f46\" fill-rule=\"evenodd\" fill-opacity=\"0.5\"/>\n",
       "<polyline clip-path=\"url(#clip132)\" style=\"stroke:#e26f46; stroke-width:4; stroke-opacity:1; fill:none\" points=\"\n",
       "  216.788,1248.7 232.144,1063.76 247.5,890.383 262.856,741.947 278.211,615.527 293.567,530.816 308.923,475.721 324.279,445.576 339.634,417.393 354.99,368.998 \n",
       "  370.346,344.807 385.702,313.064 401.058,283.834 416.413,269.377 431.769,248.094 447.125,239.663 462.481,222.083 477.837,210.779 493.192,204.897 508.548,197.302 \n",
       "  523.904,193.646 539.26,187.187 554.616,177.761 569.971,176.967 585.327,171.128 600.683,168.872 616.039,166.583 631.394,158.271 646.75,154.392 662.106,152.988 \n",
       "  677.462,152.23 692.818,151.382 708.173,147.882 723.529,147.177 738.885,144.805 754.241,138.076 769.597,137.801 784.952,137.668 800.308,136.207 815.664,134.754 \n",
       "  831.02,133.294 846.375,130.505 861.731,129.574 877.087,126.913 892.443,126.32 907.799,123.569 923.154,122.737 938.51,118.886 953.866,117.742 969.222,116.993 \n",
       "  984.578,116.459 999.933,114.167 1015.29,113.875 1030.64,111.255 1046,111.189 1061.36,109.43 1076.71,108.838 1092.07,108.23 1107.42,108.211 1122.78,106.681 \n",
       "  1138.14,106.568 1153.49,104.574 1168.85,103.737 1184.2,103.718 1199.56,103.718 1214.91,101.96 1230.27,101.17 1245.63,101.17 1260.98,100.735 1276.34,100.735 \n",
       "  1291.69,98.7043 1307.05,98.7043 1322.4,98.5537 1337.76,98.4287 1353.12,98.4165 1368.47,98.2037 1383.83,98.1714 1399.18,97.3189 1414.54,96.6065 1429.9,96.5744 \n",
       "  1445.25,96.5744 1460.61,96.0866 1475.96,96.0676 1491.32,96.0572 1506.67,95.7775 1522.03,95.5094 1537.39,95.4104 1552.74,95.3078 1568.1,95.3078 1583.45,95.2826 \n",
       "  1598.81,94.4236 1614.16,94.4208 1629.52,93.3 1644.88,93.189 1660.23,92.8779 1675.59,92.7221 1690.94,92.6189 1706.3,91.8556 1721.66,91.7661 1737.01,91.648 \n",
       "  \n",
       "  \"/>\n",
       "<path clip-path=\"url(#clip130)\" d=\"\n",
       "M1855.34 276.658 L2352.76 276.658 L2352.76 95.2176 L1855.34 95.2176  Z\n",
       "  \" fill=\"#ffffff\" fill-rule=\"evenodd\" fill-opacity=\"1\"/>\n",
       "<polyline clip-path=\"url(#clip130)\" style=\"stroke:#000000; stroke-width:4; stroke-opacity:1; fill:none\" points=\"\n",
       "  1855.34,276.658 2352.76,276.658 2352.76,95.2176 1855.34,95.2176 1855.34,276.658 \n",
       "  \"/>\n",
       "<polyline clip-path=\"url(#clip130)\" style=\"stroke:#009af9; stroke-width:4; stroke-opacity:1; fill:none\" points=\"\n",
       "  1879.58,155.698 2025.01,155.698 \n",
       "  \"/>\n",
       "<path clip-path=\"url(#clip130)\" d=\"M 0 0 M2049.25 138.418 L2069.12 138.418 L2069.12 142.353 L2053.93 142.353 L2053.93 152.538 L2067.63 152.538 L2067.63 156.473 L2053.93 156.473 L2053.93 172.978 L2049.25 172.978 L2049.25 138.418 Z\" fill=\"#000000\" fill-rule=\"evenodd\" fill-opacity=\"1\" /><path clip-path=\"url(#clip130)\" d=\"M 0 0 M2078.44 142.26 L2078.44 155.246 L2084.32 155.246 Q2087.59 155.246 2089.37 153.556 Q2091.15 151.867 2091.15 148.742 Q2091.15 145.64 2089.37 143.95 Q2087.59 142.26 2084.32 142.26 L2078.44 142.26 M2073.77 138.418 L2084.32 138.418 Q2090.13 138.418 2093.1 141.056 Q2096.08 143.672 2096.08 148.742 Q2096.08 153.857 2093.1 156.473 Q2090.13 159.089 2084.32 159.089 L2078.44 159.089 L2078.44 172.978 L2073.77 172.978 L2073.77 138.418 Z\" fill=\"#000000\" fill-rule=\"evenodd\" fill-opacity=\"1\" /><polyline clip-path=\"url(#clip130)\" style=\"stroke:#e26f46; stroke-width:4; stroke-opacity:1; fill:none\" points=\"\n",
       "  1879.58,216.178 2025.01,216.178 \n",
       "  \"/>\n",
       "<path clip-path=\"url(#clip130)\" d=\"M 0 0 M2049.25 198.898 L2078.49 198.898 L2078.49 202.833 L2066.22 202.833 L2066.22 233.458 L2061.52 233.458 L2061.52 202.833 L2049.25 202.833 L2049.25 198.898 Z\" fill=\"#000000\" fill-rule=\"evenodd\" fill-opacity=\"1\" /><path clip-path=\"url(#clip130)\" d=\"M 0 0 M2084.95 210.518 Q2081.52 210.518 2079.53 213.203 Q2077.54 215.865 2077.54 220.518 Q2077.54 225.171 2079.51 227.856 Q2081.5 230.518 2084.95 230.518 Q2088.35 230.518 2090.34 227.833 Q2092.33 225.147 2092.33 220.518 Q2092.33 215.911 2090.34 213.226 Q2088.35 210.518 2084.95 210.518 M2084.95 206.907 Q2090.5 206.907 2093.68 210.518 Q2096.85 214.129 2096.85 220.518 Q2096.85 226.884 2093.68 230.518 Q2090.5 234.129 2084.95 234.129 Q2079.37 234.129 2076.2 230.518 Q2073.05 226.884 2073.05 220.518 Q2073.05 214.129 2076.2 210.518 Q2079.37 206.907 2084.95 206.907 Z\" fill=\"#000000\" fill-rule=\"evenodd\" fill-opacity=\"1\" /><path clip-path=\"url(#clip130)\" d=\"M 0 0 M2100.87 223.226 L2100.87 207.532 L2105.13 207.532 L2105.13 223.064 Q2105.13 226.745 2106.57 228.596 Q2108 230.425 2110.87 230.425 Q2114.32 230.425 2116.31 228.226 Q2118.33 226.027 2118.33 222.231 L2118.33 207.532 L2122.59 207.532 L2122.59 233.458 L2118.33 233.458 L2118.33 229.476 Q2116.78 231.837 2114.72 232.995 Q2112.68 234.129 2109.97 234.129 Q2105.5 234.129 2103.19 231.351 Q2100.87 228.573 2100.87 223.226 M2111.59 206.907 L2111.59 206.907 Z\" fill=\"#000000\" fill-rule=\"evenodd\" fill-opacity=\"1\" /><path clip-path=\"url(#clip130)\" d=\"M 0 0 M2142.08 211.513 Q2141.36 211.097 2140.5 210.911 Q2139.67 210.703 2138.65 210.703 Q2135.04 210.703 2133.1 213.064 Q2131.18 215.402 2131.18 219.8 L2131.18 233.458 L2126.89 233.458 L2126.89 207.532 L2131.18 207.532 L2131.18 211.56 Q2132.52 209.198 2134.67 208.064 Q2136.82 206.907 2139.9 206.907 Q2140.34 206.907 2140.87 206.976 Q2141.41 207.023 2142.06 207.138 L2142.08 211.513 Z\" fill=\"#000000\" fill-rule=\"evenodd\" fill-opacity=\"1\" /><path clip-path=\"url(#clip130)\" d=\"M 0 0 M2167.26 217.809 L2167.26 233.458 L2163 233.458 L2163 217.948 Q2163 214.268 2161.57 212.439 Q2160.13 210.61 2157.26 210.61 Q2153.81 210.61 2151.82 212.81 Q2149.83 215.009 2149.83 218.805 L2149.83 233.458 L2145.55 233.458 L2145.55 207.532 L2149.83 207.532 L2149.83 211.56 Q2151.36 209.222 2153.42 208.064 Q2155.5 206.907 2158.21 206.907 Q2162.68 206.907 2164.97 209.685 Q2167.26 212.439 2167.26 217.809 Z\" fill=\"#000000\" fill-rule=\"evenodd\" fill-opacity=\"1\" /><path clip-path=\"url(#clip130)\" d=\"M 0 0 M2183.51 220.425 Q2178.35 220.425 2176.36 221.606 Q2174.37 222.786 2174.37 225.634 Q2174.37 227.902 2175.85 229.245 Q2177.36 230.564 2179.93 230.564 Q2183.47 230.564 2185.6 228.064 Q2187.75 225.541 2187.75 221.374 L2187.75 220.425 L2183.51 220.425 M2192.01 218.666 L2192.01 233.458 L2187.75 233.458 L2187.75 229.522 Q2186.29 231.883 2184.12 233.018 Q2181.94 234.129 2178.79 234.129 Q2174.81 234.129 2172.45 231.907 Q2170.11 229.661 2170.11 225.911 Q2170.11 221.536 2173.03 219.314 Q2175.97 217.092 2181.78 217.092 L2187.75 217.092 L2187.75 216.675 Q2187.75 213.735 2185.8 212.138 Q2183.88 210.518 2180.39 210.518 Q2178.17 210.518 2176.06 211.05 Q2173.95 211.583 2172.01 212.647 L2172.01 208.712 Q2174.35 207.81 2176.55 207.37 Q2178.74 206.907 2180.83 206.907 Q2186.45 206.907 2189.23 209.823 Q2192.01 212.74 2192.01 218.666 Z\" fill=\"#000000\" fill-rule=\"evenodd\" fill-opacity=\"1\" /><path clip-path=\"url(#clip130)\" d=\"M 0 0 M2216.66 212.509 Q2218.26 209.638 2220.48 208.273 Q2222.7 206.907 2225.71 206.907 Q2229.76 206.907 2231.96 209.754 Q2234.16 212.578 2234.16 217.809 L2234.16 233.458 L2229.88 233.458 L2229.88 217.948 Q2229.88 214.222 2228.56 212.416 Q2227.24 210.61 2224.53 210.61 Q2221.22 210.61 2219.3 212.81 Q2217.38 215.009 2217.38 218.805 L2217.38 233.458 L2213.1 233.458 L2213.1 217.948 Q2213.1 214.198 2211.78 212.416 Q2210.46 210.61 2207.7 210.61 Q2204.44 210.61 2202.52 212.833 Q2200.6 215.032 2200.6 218.805 L2200.6 233.458 L2196.31 233.458 L2196.31 207.532 L2200.6 207.532 L2200.6 211.56 Q2202.05 209.175 2204.09 208.041 Q2206.13 206.907 2208.93 206.907 Q2211.75 206.907 2213.72 208.342 Q2215.71 209.777 2216.66 212.509 Z\" fill=\"#000000\" fill-rule=\"evenodd\" fill-opacity=\"1\" /><path clip-path=\"url(#clip130)\" d=\"M 0 0 M2260.8 219.43 L2260.8 221.513 L2241.22 221.513 Q2241.5 225.911 2243.86 228.226 Q2246.24 230.518 2250.48 230.518 Q2252.93 230.518 2255.23 229.916 Q2257.54 229.314 2259.81 228.11 L2259.81 232.138 Q2257.52 233.11 2255.11 233.62 Q2252.7 234.129 2250.23 234.129 Q2244.02 234.129 2240.39 230.518 Q2236.78 226.907 2236.78 220.749 Q2236.78 214.384 2240.2 210.657 Q2243.65 206.907 2249.49 206.907 Q2254.72 206.907 2257.75 210.286 Q2260.8 213.643 2260.8 219.43 M2256.55 218.18 Q2256.5 214.685 2254.58 212.601 Q2252.68 210.518 2249.53 210.518 Q2245.97 210.518 2243.81 212.532 Q2241.68 214.546 2241.36 218.203 L2256.55 218.18 Z\" fill=\"#000000\" fill-rule=\"evenodd\" fill-opacity=\"1\" /><path clip-path=\"url(#clip130)\" d=\"M 0 0 M2286.82 217.809 L2286.82 233.458 L2282.56 233.458 L2282.56 217.948 Q2282.56 214.268 2281.13 212.439 Q2279.69 210.61 2276.82 210.61 Q2273.37 210.61 2271.38 212.81 Q2269.39 215.009 2269.39 218.805 L2269.39 233.458 L2265.11 233.458 L2265.11 207.532 L2269.39 207.532 L2269.39 211.56 Q2270.92 209.222 2272.98 208.064 Q2275.06 206.907 2277.77 206.907 Q2282.24 206.907 2284.53 209.685 Q2286.82 212.439 2286.82 217.809 Z\" fill=\"#000000\" fill-rule=\"evenodd\" fill-opacity=\"1\" /><path clip-path=\"url(#clip130)\" d=\"M 0 0 M2295.5 200.171 L2295.5 207.532 L2304.28 207.532 L2304.28 210.842 L2295.5 210.842 L2295.5 224.916 Q2295.5 228.087 2296.36 228.99 Q2297.24 229.893 2299.9 229.893 L2304.28 229.893 L2304.28 233.458 L2299.9 233.458 Q2294.97 233.458 2293.1 231.629 Q2291.22 229.777 2291.22 224.916 L2291.22 210.842 L2288.1 210.842 L2288.1 207.532 L2291.22 207.532 L2291.22 200.171 L2295.5 200.171 Z\" fill=\"#000000\" fill-rule=\"evenodd\" fill-opacity=\"1\" /></svg>\n"
      ]
     },
     "execution_count": 76,
     "metadata": {},
     "output_type": "execute_result"
    }
   ],
   "source": [
    "μ_fp = mean(fits_fp, dims=2)\n",
    "σ_fp = std(fits_fp, dims=2)\n",
    "μ_tourney = mean(fits_tourney, dims=2)\n",
    "σ_tourney = std(fits_tourney, dims=2)\n",
    "plot(μ_fp, ribbon=σ_fp, label=\"FP\", legend=:outertopright)\n",
    "plot!(μ_tourney, ribbon=σ_tourney, label=\"Tournament\")"
   ]
  },
  {
   "cell_type": "markdown",
   "metadata": {
    "slideshow": {
     "slide_type": "slide"
    }
   },
   "source": [
    "<div class=\"alert alert-success\">\n",
    "    <b>Exercise 5</b>\n",
    "    <br/>\n",
    "We now have many parameter choices: population size, mutation function, mutation rate, tournament size if using tournament selection, crossover function, number of elites. Using a maximum of 10000 <b>evaluations</b> (ie 100 generations with a population of 100), compare these parameter choices. What is the best value you can reach with $n=10$? Do the parameter results you get generalize to higher values of $n$? The best value should include the average and standard deviation over multiple runs.\n",
    "    <br/>\n",
    "</div>"
   ]
  },
  {
   "cell_type": "markdown",
   "metadata": {
    "slideshow": {
     "slide_type": "fragment"
    }
   },
   "source": [
    "<div class=\"alert alert-success\">\n",
    "    <b>Exercise 6</b>\n",
    "    <br/>\n",
    "Run the same analysis for the binary problem OneMax. Compare this result to the $(1+1)$ and $(1+\\lambda)$ EAs from the first class. Which method is the best?\n",
    "    <br/>\n",
    "</div>"
   ]
  },
  {
   "cell_type": "code",
   "execution_count": null,
   "metadata": {},
   "outputs": [],
   "source": []
  }
 ],
 "metadata": {
  "@webio": {
   "lastCommId": null,
   "lastKernelId": null
  },
  "celltoolbar": "Slideshow",
  "kernelspec": {
   "display_name": "Julia 1.4.1",
   "language": "julia",
   "name": "julia-1.4"
  },
  "language_info": {
   "file_extension": ".jl",
   "mimetype": "application/julia",
   "name": "julia",
   "version": "1.4.1"
  }
 },
 "nbformat": 4,
 "nbformat_minor": 2
}
